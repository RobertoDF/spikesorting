{
 "cells": [
  {
   "cell_type": "code",
   "execution_count": 9,
   "id": "e78940eb-18f0-48cb-9b9e-c7fa67a20dcb",
   "metadata": {},
   "outputs": [
    {
     "name": "stdout",
     "output_type": "stream",
     "text": [
      "The autoreload extension is already loaded. To reload it, use:\n",
      "  %reload_ext autoreload\n"
     ]
    },
    {
     "data": {
      "application/javascript": [
       "(function(root) {\n",
       "  function now() {\n",
       "    return new Date();\n",
       "  }\n",
       "\n",
       "  var force = true;\n",
       "  var py_version = '3.4.1'.replace('rc', '-rc.').replace('.dev', '-dev.');\n",
       "  var reloading = false;\n",
       "  var Bokeh = root.Bokeh;\n",
       "\n",
       "  if (typeof (root._bokeh_timeout) === \"undefined\" || force) {\n",
       "    root._bokeh_timeout = Date.now() + 5000;\n",
       "    root._bokeh_failed_load = false;\n",
       "  }\n",
       "\n",
       "  function run_callbacks() {\n",
       "    try {\n",
       "      root._bokeh_onload_callbacks.forEach(function(callback) {\n",
       "        if (callback != null)\n",
       "          callback();\n",
       "      });\n",
       "    } finally {\n",
       "      delete root._bokeh_onload_callbacks;\n",
       "    }\n",
       "    console.debug(\"Bokeh: all callbacks have finished\");\n",
       "  }\n",
       "\n",
       "  function load_libs(css_urls, js_urls, js_modules, js_exports, callback) {\n",
       "    if (css_urls == null) css_urls = [];\n",
       "    if (js_urls == null) js_urls = [];\n",
       "    if (js_modules == null) js_modules = [];\n",
       "    if (js_exports == null) js_exports = {};\n",
       "\n",
       "    root._bokeh_onload_callbacks.push(callback);\n",
       "\n",
       "    if (root._bokeh_is_loading > 0) {\n",
       "      console.debug(\"Bokeh: BokehJS is being loaded, scheduling callback at\", now());\n",
       "      return null;\n",
       "    }\n",
       "    if (js_urls.length === 0 && js_modules.length === 0 && Object.keys(js_exports).length === 0) {\n",
       "      run_callbacks();\n",
       "      return null;\n",
       "    }\n",
       "    if (!reloading) {\n",
       "      console.debug(\"Bokeh: BokehJS not loaded, scheduling load and callback at\", now());\n",
       "    }\n",
       "\n",
       "    function on_load() {\n",
       "      root._bokeh_is_loading--;\n",
       "      if (root._bokeh_is_loading === 0) {\n",
       "        console.debug(\"Bokeh: all BokehJS libraries/stylesheets loaded\");\n",
       "        run_callbacks()\n",
       "      }\n",
       "    }\n",
       "    window._bokeh_on_load = on_load\n",
       "\n",
       "    function on_error() {\n",
       "      console.error(\"failed to load \" + url);\n",
       "    }\n",
       "\n",
       "    var skip = [];\n",
       "    if (window.requirejs) {\n",
       "      window.requirejs.config({'packages': {}, 'paths': {}, 'shim': {}});\n",
       "      root._bokeh_is_loading = css_urls.length + 0;\n",
       "    } else {\n",
       "      root._bokeh_is_loading = css_urls.length + js_urls.length + js_modules.length + Object.keys(js_exports).length;\n",
       "    }\n",
       "\n",
       "    var existing_stylesheets = []\n",
       "    var links = document.getElementsByTagName('link')\n",
       "    for (var i = 0; i < links.length; i++) {\n",
       "      var link = links[i]\n",
       "      if (link.href != null) {\n",
       "\texisting_stylesheets.push(link.href)\n",
       "      }\n",
       "    }\n",
       "    for (var i = 0; i < css_urls.length; i++) {\n",
       "      var url = css_urls[i];\n",
       "      if (existing_stylesheets.indexOf(url) !== -1) {\n",
       "\ton_load()\n",
       "\tcontinue;\n",
       "      }\n",
       "      const element = document.createElement(\"link\");\n",
       "      element.onload = on_load;\n",
       "      element.onerror = on_error;\n",
       "      element.rel = \"stylesheet\";\n",
       "      element.type = \"text/css\";\n",
       "      element.href = url;\n",
       "      console.debug(\"Bokeh: injecting link tag for BokehJS stylesheet: \", url);\n",
       "      document.body.appendChild(element);\n",
       "    }    var existing_scripts = []\n",
       "    var scripts = document.getElementsByTagName('script')\n",
       "    for (var i = 0; i < scripts.length; i++) {\n",
       "      var script = scripts[i]\n",
       "      if (script.src != null) {\n",
       "\texisting_scripts.push(script.src)\n",
       "      }\n",
       "    }\n",
       "    for (var i = 0; i < js_urls.length; i++) {\n",
       "      var url = js_urls[i];\n",
       "      if (skip.indexOf(url) !== -1 || existing_scripts.indexOf(url) !== -1) {\n",
       "\tif (!window.requirejs) {\n",
       "\t  on_load();\n",
       "\t}\n",
       "\tcontinue;\n",
       "      }\n",
       "      var element = document.createElement('script');\n",
       "      element.onload = on_load;\n",
       "      element.onerror = on_error;\n",
       "      element.async = false;\n",
       "      element.src = url;\n",
       "      console.debug(\"Bokeh: injecting script tag for BokehJS library: \", url);\n",
       "      document.head.appendChild(element);\n",
       "    }\n",
       "    for (var i = 0; i < js_modules.length; i++) {\n",
       "      var url = js_modules[i];\n",
       "      if (skip.indexOf(url) !== -1 || existing_scripts.indexOf(url) !== -1) {\n",
       "\tif (!window.requirejs) {\n",
       "\t  on_load();\n",
       "\t}\n",
       "\tcontinue;\n",
       "      }\n",
       "      var element = document.createElement('script');\n",
       "      element.onload = on_load;\n",
       "      element.onerror = on_error;\n",
       "      element.async = false;\n",
       "      element.src = url;\n",
       "      element.type = \"module\";\n",
       "      console.debug(\"Bokeh: injecting script tag for BokehJS library: \", url);\n",
       "      document.head.appendChild(element);\n",
       "    }\n",
       "    for (const name in js_exports) {\n",
       "      var url = js_exports[name];\n",
       "      if (skip.indexOf(url) >= 0 || root[name] != null) {\n",
       "\tif (!window.requirejs) {\n",
       "\t  on_load();\n",
       "\t}\n",
       "\tcontinue;\n",
       "      }\n",
       "      var element = document.createElement('script');\n",
       "      element.onerror = on_error;\n",
       "      element.async = false;\n",
       "      element.type = \"module\";\n",
       "      console.debug(\"Bokeh: injecting script tag for BokehJS library: \", url);\n",
       "      element.textContent = `\n",
       "      import ${name} from \"${url}\"\n",
       "      window.${name} = ${name}\n",
       "      window._bokeh_on_load()\n",
       "      `\n",
       "      document.head.appendChild(element);\n",
       "    }\n",
       "    if (!js_urls.length && !js_modules.length) {\n",
       "      on_load()\n",
       "    }\n",
       "  };\n",
       "\n",
       "  function inject_raw_css(css) {\n",
       "    const element = document.createElement(\"style\");\n",
       "    element.appendChild(document.createTextNode(css));\n",
       "    document.body.appendChild(element);\n",
       "  }\n",
       "\n",
       "  var js_urls = [\"https://cdn.bokeh.org/bokeh/release/bokeh-3.4.1.min.js\", \"https://cdn.bokeh.org/bokeh/release/bokeh-gl-3.4.1.min.js\", \"https://cdn.bokeh.org/bokeh/release/bokeh-widgets-3.4.1.min.js\", \"https://cdn.bokeh.org/bokeh/release/bokeh-tables-3.4.1.min.js\", \"https://cdn.holoviz.org/panel/1.4.1/dist/bundled/bootstrap5/js/bootstrap.bundle.min.js\", \"https://cdn.holoviz.org/panel/1.4.1/dist/panel.min.js\"];\n",
       "  var js_modules = [];\n",
       "  var js_exports = {};\n",
       "  var css_urls = [];\n",
       "  var inline_js = [    function(Bokeh) {\n",
       "      Bokeh.set_log_level(\"info\");\n",
       "    },\n",
       "function(Bokeh) {} // ensure no trailing comma for IE\n",
       "  ];\n",
       "\n",
       "  function run_inline_js() {\n",
       "    if ((root.Bokeh !== undefined) || (force === true)) {\n",
       "      for (var i = 0; i < inline_js.length; i++) {\n",
       "\ttry {\n",
       "          inline_js[i].call(root, root.Bokeh);\n",
       "\t} catch(e) {\n",
       "\t  if (!reloading) {\n",
       "\t    throw e;\n",
       "\t  }\n",
       "\t}\n",
       "      }\n",
       "      // Cache old bokeh versions\n",
       "      if (Bokeh != undefined && !reloading) {\n",
       "\tvar NewBokeh = root.Bokeh;\n",
       "\tif (Bokeh.versions === undefined) {\n",
       "\t  Bokeh.versions = new Map();\n",
       "\t}\n",
       "\tif (NewBokeh.version !== Bokeh.version) {\n",
       "\t  Bokeh.versions.set(NewBokeh.version, NewBokeh)\n",
       "\t}\n",
       "\troot.Bokeh = Bokeh;\n",
       "      }} else if (Date.now() < root._bokeh_timeout) {\n",
       "      setTimeout(run_inline_js, 100);\n",
       "    } else if (!root._bokeh_failed_load) {\n",
       "      console.log(\"Bokeh: BokehJS failed to load within specified timeout.\");\n",
       "      root._bokeh_failed_load = true;\n",
       "    }\n",
       "    root._bokeh_is_initializing = false\n",
       "  }\n",
       "\n",
       "  function load_or_wait() {\n",
       "    // Implement a backoff loop that tries to ensure we do not load multiple\n",
       "    // versions of Bokeh and its dependencies at the same time.\n",
       "    // In recent versions we use the root._bokeh_is_initializing flag\n",
       "    // to determine whether there is an ongoing attempt to initialize\n",
       "    // bokeh, however for backward compatibility we also try to ensure\n",
       "    // that we do not start loading a newer (Panel>=1.0 and Bokeh>3) version\n",
       "    // before older versions are fully initialized.\n",
       "    if (root._bokeh_is_initializing && Date.now() > root._bokeh_timeout) {\n",
       "      root._bokeh_is_initializing = false;\n",
       "      root._bokeh_onload_callbacks = undefined;\n",
       "      console.log(\"Bokeh: BokehJS was loaded multiple times but one version failed to initialize.\");\n",
       "      load_or_wait();\n",
       "    } else if (root._bokeh_is_initializing || (typeof root._bokeh_is_initializing === \"undefined\" && root._bokeh_onload_callbacks !== undefined)) {\n",
       "      setTimeout(load_or_wait, 100);\n",
       "    } else {\n",
       "      root._bokeh_is_initializing = true\n",
       "      root._bokeh_onload_callbacks = []\n",
       "      var bokeh_loaded = Bokeh != null && (Bokeh.version === py_version || (Bokeh.versions !== undefined && Bokeh.versions.has(py_version)));\n",
       "      if (!reloading && !bokeh_loaded) {\n",
       "\troot.Bokeh = undefined;\n",
       "      }\n",
       "      load_libs(css_urls, js_urls, js_modules, js_exports, function() {\n",
       "\tconsole.debug(\"Bokeh: BokehJS plotting callback run at\", now());\n",
       "\trun_inline_js();\n",
       "      });\n",
       "    }\n",
       "  }\n",
       "  // Give older versions of the autoload script a head-start to ensure\n",
       "  // they initialize before we start loading newer version.\n",
       "  setTimeout(load_or_wait, 100)\n",
       "}(window));"
      ],
      "application/vnd.holoviews_load.v0+json": "(function(root) {\n  function now() {\n    return new Date();\n  }\n\n  var force = true;\n  var py_version = '3.4.1'.replace('rc', '-rc.').replace('.dev', '-dev.');\n  var reloading = false;\n  var Bokeh = root.Bokeh;\n\n  if (typeof (root._bokeh_timeout) === \"undefined\" || force) {\n    root._bokeh_timeout = Date.now() + 5000;\n    root._bokeh_failed_load = false;\n  }\n\n  function run_callbacks() {\n    try {\n      root._bokeh_onload_callbacks.forEach(function(callback) {\n        if (callback != null)\n          callback();\n      });\n    } finally {\n      delete root._bokeh_onload_callbacks;\n    }\n    console.debug(\"Bokeh: all callbacks have finished\");\n  }\n\n  function load_libs(css_urls, js_urls, js_modules, js_exports, callback) {\n    if (css_urls == null) css_urls = [];\n    if (js_urls == null) js_urls = [];\n    if (js_modules == null) js_modules = [];\n    if (js_exports == null) js_exports = {};\n\n    root._bokeh_onload_callbacks.push(callback);\n\n    if (root._bokeh_is_loading > 0) {\n      console.debug(\"Bokeh: BokehJS is being loaded, scheduling callback at\", now());\n      return null;\n    }\n    if (js_urls.length === 0 && js_modules.length === 0 && Object.keys(js_exports).length === 0) {\n      run_callbacks();\n      return null;\n    }\n    if (!reloading) {\n      console.debug(\"Bokeh: BokehJS not loaded, scheduling load and callback at\", now());\n    }\n\n    function on_load() {\n      root._bokeh_is_loading--;\n      if (root._bokeh_is_loading === 0) {\n        console.debug(\"Bokeh: all BokehJS libraries/stylesheets loaded\");\n        run_callbacks()\n      }\n    }\n    window._bokeh_on_load = on_load\n\n    function on_error() {\n      console.error(\"failed to load \" + url);\n    }\n\n    var skip = [];\n    if (window.requirejs) {\n      window.requirejs.config({'packages': {}, 'paths': {}, 'shim': {}});\n      root._bokeh_is_loading = css_urls.length + 0;\n    } else {\n      root._bokeh_is_loading = css_urls.length + js_urls.length + js_modules.length + Object.keys(js_exports).length;\n    }\n\n    var existing_stylesheets = []\n    var links = document.getElementsByTagName('link')\n    for (var i = 0; i < links.length; i++) {\n      var link = links[i]\n      if (link.href != null) {\n\texisting_stylesheets.push(link.href)\n      }\n    }\n    for (var i = 0; i < css_urls.length; i++) {\n      var url = css_urls[i];\n      if (existing_stylesheets.indexOf(url) !== -1) {\n\ton_load()\n\tcontinue;\n      }\n      const element = document.createElement(\"link\");\n      element.onload = on_load;\n      element.onerror = on_error;\n      element.rel = \"stylesheet\";\n      element.type = \"text/css\";\n      element.href = url;\n      console.debug(\"Bokeh: injecting link tag for BokehJS stylesheet: \", url);\n      document.body.appendChild(element);\n    }    var existing_scripts = []\n    var scripts = document.getElementsByTagName('script')\n    for (var i = 0; i < scripts.length; i++) {\n      var script = scripts[i]\n      if (script.src != null) {\n\texisting_scripts.push(script.src)\n      }\n    }\n    for (var i = 0; i < js_urls.length; i++) {\n      var url = js_urls[i];\n      if (skip.indexOf(url) !== -1 || existing_scripts.indexOf(url) !== -1) {\n\tif (!window.requirejs) {\n\t  on_load();\n\t}\n\tcontinue;\n      }\n      var element = document.createElement('script');\n      element.onload = on_load;\n      element.onerror = on_error;\n      element.async = false;\n      element.src = url;\n      console.debug(\"Bokeh: injecting script tag for BokehJS library: \", url);\n      document.head.appendChild(element);\n    }\n    for (var i = 0; i < js_modules.length; i++) {\n      var url = js_modules[i];\n      if (skip.indexOf(url) !== -1 || existing_scripts.indexOf(url) !== -1) {\n\tif (!window.requirejs) {\n\t  on_load();\n\t}\n\tcontinue;\n      }\n      var element = document.createElement('script');\n      element.onload = on_load;\n      element.onerror = on_error;\n      element.async = false;\n      element.src = url;\n      element.type = \"module\";\n      console.debug(\"Bokeh: injecting script tag for BokehJS library: \", url);\n      document.head.appendChild(element);\n    }\n    for (const name in js_exports) {\n      var url = js_exports[name];\n      if (skip.indexOf(url) >= 0 || root[name] != null) {\n\tif (!window.requirejs) {\n\t  on_load();\n\t}\n\tcontinue;\n      }\n      var element = document.createElement('script');\n      element.onerror = on_error;\n      element.async = false;\n      element.type = \"module\";\n      console.debug(\"Bokeh: injecting script tag for BokehJS library: \", url);\n      element.textContent = `\n      import ${name} from \"${url}\"\n      window.${name} = ${name}\n      window._bokeh_on_load()\n      `\n      document.head.appendChild(element);\n    }\n    if (!js_urls.length && !js_modules.length) {\n      on_load()\n    }\n  };\n\n  function inject_raw_css(css) {\n    const element = document.createElement(\"style\");\n    element.appendChild(document.createTextNode(css));\n    document.body.appendChild(element);\n  }\n\n  var js_urls = [\"https://cdn.bokeh.org/bokeh/release/bokeh-3.4.1.min.js\", \"https://cdn.bokeh.org/bokeh/release/bokeh-gl-3.4.1.min.js\", \"https://cdn.bokeh.org/bokeh/release/bokeh-widgets-3.4.1.min.js\", \"https://cdn.bokeh.org/bokeh/release/bokeh-tables-3.4.1.min.js\", \"https://cdn.holoviz.org/panel/1.4.1/dist/bundled/bootstrap5/js/bootstrap.bundle.min.js\", \"https://cdn.holoviz.org/panel/1.4.1/dist/panel.min.js\"];\n  var js_modules = [];\n  var js_exports = {};\n  var css_urls = [];\n  var inline_js = [    function(Bokeh) {\n      Bokeh.set_log_level(\"info\");\n    },\nfunction(Bokeh) {} // ensure no trailing comma for IE\n  ];\n\n  function run_inline_js() {\n    if ((root.Bokeh !== undefined) || (force === true)) {\n      for (var i = 0; i < inline_js.length; i++) {\n\ttry {\n          inline_js[i].call(root, root.Bokeh);\n\t} catch(e) {\n\t  if (!reloading) {\n\t    throw e;\n\t  }\n\t}\n      }\n      // Cache old bokeh versions\n      if (Bokeh != undefined && !reloading) {\n\tvar NewBokeh = root.Bokeh;\n\tif (Bokeh.versions === undefined) {\n\t  Bokeh.versions = new Map();\n\t}\n\tif (NewBokeh.version !== Bokeh.version) {\n\t  Bokeh.versions.set(NewBokeh.version, NewBokeh)\n\t}\n\troot.Bokeh = Bokeh;\n      }} else if (Date.now() < root._bokeh_timeout) {\n      setTimeout(run_inline_js, 100);\n    } else if (!root._bokeh_failed_load) {\n      console.log(\"Bokeh: BokehJS failed to load within specified timeout.\");\n      root._bokeh_failed_load = true;\n    }\n    root._bokeh_is_initializing = false\n  }\n\n  function load_or_wait() {\n    // Implement a backoff loop that tries to ensure we do not load multiple\n    // versions of Bokeh and its dependencies at the same time.\n    // In recent versions we use the root._bokeh_is_initializing flag\n    // to determine whether there is an ongoing attempt to initialize\n    // bokeh, however for backward compatibility we also try to ensure\n    // that we do not start loading a newer (Panel>=1.0 and Bokeh>3) version\n    // before older versions are fully initialized.\n    if (root._bokeh_is_initializing && Date.now() > root._bokeh_timeout) {\n      root._bokeh_is_initializing = false;\n      root._bokeh_onload_callbacks = undefined;\n      console.log(\"Bokeh: BokehJS was loaded multiple times but one version failed to initialize.\");\n      load_or_wait();\n    } else if (root._bokeh_is_initializing || (typeof root._bokeh_is_initializing === \"undefined\" && root._bokeh_onload_callbacks !== undefined)) {\n      setTimeout(load_or_wait, 100);\n    } else {\n      root._bokeh_is_initializing = true\n      root._bokeh_onload_callbacks = []\n      var bokeh_loaded = Bokeh != null && (Bokeh.version === py_version || (Bokeh.versions !== undefined && Bokeh.versions.has(py_version)));\n      if (!reloading && !bokeh_loaded) {\n\troot.Bokeh = undefined;\n      }\n      load_libs(css_urls, js_urls, js_modules, js_exports, function() {\n\tconsole.debug(\"Bokeh: BokehJS plotting callback run at\", now());\n\trun_inline_js();\n      });\n    }\n  }\n  // Give older versions of the autoload script a head-start to ensure\n  // they initialize before we start loading newer version.\n  setTimeout(load_or_wait, 100)\n}(window));"
     },
     "metadata": {},
     "output_type": "display_data"
    },
    {
     "data": {
      "application/javascript": [
       "\n",
       "if ((window.PyViz === undefined) || (window.PyViz instanceof HTMLElement)) {\n",
       "  window.PyViz = {comms: {}, comm_status:{}, kernels:{}, receivers: {}, plot_index: []}\n",
       "}\n",
       "\n",
       "\n",
       "    function JupyterCommManager() {\n",
       "    }\n",
       "\n",
       "    JupyterCommManager.prototype.register_target = function(plot_id, comm_id, msg_handler) {\n",
       "      if (window.comm_manager || ((window.Jupyter !== undefined) && (Jupyter.notebook.kernel != null))) {\n",
       "        var comm_manager = window.comm_manager || Jupyter.notebook.kernel.comm_manager;\n",
       "        comm_manager.register_target(comm_id, function(comm) {\n",
       "          comm.on_msg(msg_handler);\n",
       "        });\n",
       "      } else if ((plot_id in window.PyViz.kernels) && (window.PyViz.kernels[plot_id])) {\n",
       "        window.PyViz.kernels[plot_id].registerCommTarget(comm_id, function(comm) {\n",
       "          comm.onMsg = msg_handler;\n",
       "        });\n",
       "      } else if (typeof google != 'undefined' && google.colab.kernel != null) {\n",
       "        google.colab.kernel.comms.registerTarget(comm_id, (comm) => {\n",
       "          var messages = comm.messages[Symbol.asyncIterator]();\n",
       "          function processIteratorResult(result) {\n",
       "            var message = result.value;\n",
       "            console.log(message)\n",
       "            var content = {data: message.data, comm_id};\n",
       "            var buffers = []\n",
       "            for (var buffer of message.buffers || []) {\n",
       "              buffers.push(new DataView(buffer))\n",
       "            }\n",
       "            var metadata = message.metadata || {};\n",
       "            var msg = {content, buffers, metadata}\n",
       "            msg_handler(msg);\n",
       "            return messages.next().then(processIteratorResult);\n",
       "          }\n",
       "          return messages.next().then(processIteratorResult);\n",
       "        })\n",
       "      }\n",
       "    }\n",
       "\n",
       "    JupyterCommManager.prototype.get_client_comm = function(plot_id, comm_id, msg_handler) {\n",
       "      if (comm_id in window.PyViz.comms) {\n",
       "        return window.PyViz.comms[comm_id];\n",
       "      } else if (window.comm_manager || ((window.Jupyter !== undefined) && (Jupyter.notebook.kernel != null))) {\n",
       "        var comm_manager = window.comm_manager || Jupyter.notebook.kernel.comm_manager;\n",
       "        var comm = comm_manager.new_comm(comm_id, {}, {}, {}, comm_id);\n",
       "        if (msg_handler) {\n",
       "          comm.on_msg(msg_handler);\n",
       "        }\n",
       "      } else if ((plot_id in window.PyViz.kernels) && (window.PyViz.kernels[plot_id])) {\n",
       "        var comm = window.PyViz.kernels[plot_id].connectToComm(comm_id);\n",
       "        comm.open();\n",
       "        if (msg_handler) {\n",
       "          comm.onMsg = msg_handler;\n",
       "        }\n",
       "      } else if (typeof google != 'undefined' && google.colab.kernel != null) {\n",
       "        var comm_promise = google.colab.kernel.comms.open(comm_id)\n",
       "        comm_promise.then((comm) => {\n",
       "          window.PyViz.comms[comm_id] = comm;\n",
       "          if (msg_handler) {\n",
       "            var messages = comm.messages[Symbol.asyncIterator]();\n",
       "            function processIteratorResult(result) {\n",
       "              var message = result.value;\n",
       "              var content = {data: message.data};\n",
       "              var metadata = message.metadata || {comm_id};\n",
       "              var msg = {content, metadata}\n",
       "              msg_handler(msg);\n",
       "              return messages.next().then(processIteratorResult);\n",
       "            }\n",
       "            return messages.next().then(processIteratorResult);\n",
       "          }\n",
       "        }) \n",
       "        var sendClosure = (data, metadata, buffers, disposeOnDone) => {\n",
       "          return comm_promise.then((comm) => {\n",
       "            comm.send(data, metadata, buffers, disposeOnDone);\n",
       "          });\n",
       "        };\n",
       "        var comm = {\n",
       "          send: sendClosure\n",
       "        };\n",
       "      }\n",
       "      window.PyViz.comms[comm_id] = comm;\n",
       "      return comm;\n",
       "    }\n",
       "    window.PyViz.comm_manager = new JupyterCommManager();\n",
       "    \n",
       "\n",
       "\n",
       "var JS_MIME_TYPE = 'application/javascript';\n",
       "var HTML_MIME_TYPE = 'text/html';\n",
       "var EXEC_MIME_TYPE = 'application/vnd.holoviews_exec.v0+json';\n",
       "var CLASS_NAME = 'output';\n",
       "\n",
       "/**\n",
       " * Render data to the DOM node\n",
       " */\n",
       "function render(props, node) {\n",
       "  var div = document.createElement(\"div\");\n",
       "  var script = document.createElement(\"script\");\n",
       "  node.appendChild(div);\n",
       "  node.appendChild(script);\n",
       "}\n",
       "\n",
       "/**\n",
       " * Handle when a new output is added\n",
       " */\n",
       "function handle_add_output(event, handle) {\n",
       "  var output_area = handle.output_area;\n",
       "  var output = handle.output;\n",
       "  if ((output.data == undefined) || (!output.data.hasOwnProperty(EXEC_MIME_TYPE))) {\n",
       "    return\n",
       "  }\n",
       "  var id = output.metadata[EXEC_MIME_TYPE][\"id\"];\n",
       "  var toinsert = output_area.element.find(\".\" + CLASS_NAME.split(' ')[0]);\n",
       "  if (id !== undefined) {\n",
       "    var nchildren = toinsert.length;\n",
       "    var html_node = toinsert[nchildren-1].children[0];\n",
       "    html_node.innerHTML = output.data[HTML_MIME_TYPE];\n",
       "    var scripts = [];\n",
       "    var nodelist = html_node.querySelectorAll(\"script\");\n",
       "    for (var i in nodelist) {\n",
       "      if (nodelist.hasOwnProperty(i)) {\n",
       "        scripts.push(nodelist[i])\n",
       "      }\n",
       "    }\n",
       "\n",
       "    scripts.forEach( function (oldScript) {\n",
       "      var newScript = document.createElement(\"script\");\n",
       "      var attrs = [];\n",
       "      var nodemap = oldScript.attributes;\n",
       "      for (var j in nodemap) {\n",
       "        if (nodemap.hasOwnProperty(j)) {\n",
       "          attrs.push(nodemap[j])\n",
       "        }\n",
       "      }\n",
       "      attrs.forEach(function(attr) { newScript.setAttribute(attr.name, attr.value) });\n",
       "      newScript.appendChild(document.createTextNode(oldScript.innerHTML));\n",
       "      oldScript.parentNode.replaceChild(newScript, oldScript);\n",
       "    });\n",
       "    if (JS_MIME_TYPE in output.data) {\n",
       "      toinsert[nchildren-1].children[1].textContent = output.data[JS_MIME_TYPE];\n",
       "    }\n",
       "    output_area._hv_plot_id = id;\n",
       "    if ((window.Bokeh !== undefined) && (id in Bokeh.index)) {\n",
       "      window.PyViz.plot_index[id] = Bokeh.index[id];\n",
       "    } else {\n",
       "      window.PyViz.plot_index[id] = null;\n",
       "    }\n",
       "  } else if (output.metadata[EXEC_MIME_TYPE][\"server_id\"] !== undefined) {\n",
       "    var bk_div = document.createElement(\"div\");\n",
       "    bk_div.innerHTML = output.data[HTML_MIME_TYPE];\n",
       "    var script_attrs = bk_div.children[0].attributes;\n",
       "    for (var i = 0; i < script_attrs.length; i++) {\n",
       "      toinsert[toinsert.length - 1].childNodes[1].setAttribute(script_attrs[i].name, script_attrs[i].value);\n",
       "    }\n",
       "    // store reference to server id on output_area\n",
       "    output_area._bokeh_server_id = output.metadata[EXEC_MIME_TYPE][\"server_id\"];\n",
       "  }\n",
       "}\n",
       "\n",
       "/**\n",
       " * Handle when an output is cleared or removed\n",
       " */\n",
       "function handle_clear_output(event, handle) {\n",
       "  var id = handle.cell.output_area._hv_plot_id;\n",
       "  var server_id = handle.cell.output_area._bokeh_server_id;\n",
       "  if (((id === undefined) || !(id in PyViz.plot_index)) && (server_id !== undefined)) { return; }\n",
       "  var comm = window.PyViz.comm_manager.get_client_comm(\"hv-extension-comm\", \"hv-extension-comm\", function () {});\n",
       "  if (server_id !== null) {\n",
       "    comm.send({event_type: 'server_delete', 'id': server_id});\n",
       "    return;\n",
       "  } else if (comm !== null) {\n",
       "    comm.send({event_type: 'delete', 'id': id});\n",
       "  }\n",
       "  delete PyViz.plot_index[id];\n",
       "  if ((window.Bokeh !== undefined) & (id in window.Bokeh.index)) {\n",
       "    var doc = window.Bokeh.index[id].model.document\n",
       "    doc.clear();\n",
       "    const i = window.Bokeh.documents.indexOf(doc);\n",
       "    if (i > -1) {\n",
       "      window.Bokeh.documents.splice(i, 1);\n",
       "    }\n",
       "  }\n",
       "}\n",
       "\n",
       "/**\n",
       " * Handle kernel restart event\n",
       " */\n",
       "function handle_kernel_cleanup(event, handle) {\n",
       "  delete PyViz.comms[\"hv-extension-comm\"];\n",
       "  window.PyViz.plot_index = {}\n",
       "}\n",
       "\n",
       "/**\n",
       " * Handle update_display_data messages\n",
       " */\n",
       "function handle_update_output(event, handle) {\n",
       "  handle_clear_output(event, {cell: {output_area: handle.output_area}})\n",
       "  handle_add_output(event, handle)\n",
       "}\n",
       "\n",
       "function register_renderer(events, OutputArea) {\n",
       "  function append_mime(data, metadata, element) {\n",
       "    // create a DOM node to render to\n",
       "    var toinsert = this.create_output_subarea(\n",
       "    metadata,\n",
       "    CLASS_NAME,\n",
       "    EXEC_MIME_TYPE\n",
       "    );\n",
       "    this.keyboard_manager.register_events(toinsert);\n",
       "    // Render to node\n",
       "    var props = {data: data, metadata: metadata[EXEC_MIME_TYPE]};\n",
       "    render(props, toinsert[0]);\n",
       "    element.append(toinsert);\n",
       "    return toinsert\n",
       "  }\n",
       "\n",
       "  events.on('output_added.OutputArea', handle_add_output);\n",
       "  events.on('output_updated.OutputArea', handle_update_output);\n",
       "  events.on('clear_output.CodeCell', handle_clear_output);\n",
       "  events.on('delete.Cell', handle_clear_output);\n",
       "  events.on('kernel_ready.Kernel', handle_kernel_cleanup);\n",
       "\n",
       "  OutputArea.prototype.register_mime_type(EXEC_MIME_TYPE, append_mime, {\n",
       "    safe: true,\n",
       "    index: 0\n",
       "  });\n",
       "}\n",
       "\n",
       "if (window.Jupyter !== undefined) {\n",
       "  try {\n",
       "    var events = require('base/js/events');\n",
       "    var OutputArea = require('notebook/js/outputarea').OutputArea;\n",
       "    if (OutputArea.prototype.mime_types().indexOf(EXEC_MIME_TYPE) == -1) {\n",
       "      register_renderer(events, OutputArea);\n",
       "    }\n",
       "  } catch(err) {\n",
       "  }\n",
       "}\n"
      ],
      "application/vnd.holoviews_load.v0+json": "\nif ((window.PyViz === undefined) || (window.PyViz instanceof HTMLElement)) {\n  window.PyViz = {comms: {}, comm_status:{}, kernels:{}, receivers: {}, plot_index: []}\n}\n\n\n    function JupyterCommManager() {\n    }\n\n    JupyterCommManager.prototype.register_target = function(plot_id, comm_id, msg_handler) {\n      if (window.comm_manager || ((window.Jupyter !== undefined) && (Jupyter.notebook.kernel != null))) {\n        var comm_manager = window.comm_manager || Jupyter.notebook.kernel.comm_manager;\n        comm_manager.register_target(comm_id, function(comm) {\n          comm.on_msg(msg_handler);\n        });\n      } else if ((plot_id in window.PyViz.kernels) && (window.PyViz.kernels[plot_id])) {\n        window.PyViz.kernels[plot_id].registerCommTarget(comm_id, function(comm) {\n          comm.onMsg = msg_handler;\n        });\n      } else if (typeof google != 'undefined' && google.colab.kernel != null) {\n        google.colab.kernel.comms.registerTarget(comm_id, (comm) => {\n          var messages = comm.messages[Symbol.asyncIterator]();\n          function processIteratorResult(result) {\n            var message = result.value;\n            console.log(message)\n            var content = {data: message.data, comm_id};\n            var buffers = []\n            for (var buffer of message.buffers || []) {\n              buffers.push(new DataView(buffer))\n            }\n            var metadata = message.metadata || {};\n            var msg = {content, buffers, metadata}\n            msg_handler(msg);\n            return messages.next().then(processIteratorResult);\n          }\n          return messages.next().then(processIteratorResult);\n        })\n      }\n    }\n\n    JupyterCommManager.prototype.get_client_comm = function(plot_id, comm_id, msg_handler) {\n      if (comm_id in window.PyViz.comms) {\n        return window.PyViz.comms[comm_id];\n      } else if (window.comm_manager || ((window.Jupyter !== undefined) && (Jupyter.notebook.kernel != null))) {\n        var comm_manager = window.comm_manager || Jupyter.notebook.kernel.comm_manager;\n        var comm = comm_manager.new_comm(comm_id, {}, {}, {}, comm_id);\n        if (msg_handler) {\n          comm.on_msg(msg_handler);\n        }\n      } else if ((plot_id in window.PyViz.kernels) && (window.PyViz.kernels[plot_id])) {\n        var comm = window.PyViz.kernels[plot_id].connectToComm(comm_id);\n        comm.open();\n        if (msg_handler) {\n          comm.onMsg = msg_handler;\n        }\n      } else if (typeof google != 'undefined' && google.colab.kernel != null) {\n        var comm_promise = google.colab.kernel.comms.open(comm_id)\n        comm_promise.then((comm) => {\n          window.PyViz.comms[comm_id] = comm;\n          if (msg_handler) {\n            var messages = comm.messages[Symbol.asyncIterator]();\n            function processIteratorResult(result) {\n              var message = result.value;\n              var content = {data: message.data};\n              var metadata = message.metadata || {comm_id};\n              var msg = {content, metadata}\n              msg_handler(msg);\n              return messages.next().then(processIteratorResult);\n            }\n            return messages.next().then(processIteratorResult);\n          }\n        }) \n        var sendClosure = (data, metadata, buffers, disposeOnDone) => {\n          return comm_promise.then((comm) => {\n            comm.send(data, metadata, buffers, disposeOnDone);\n          });\n        };\n        var comm = {\n          send: sendClosure\n        };\n      }\n      window.PyViz.comms[comm_id] = comm;\n      return comm;\n    }\n    window.PyViz.comm_manager = new JupyterCommManager();\n    \n\n\nvar JS_MIME_TYPE = 'application/javascript';\nvar HTML_MIME_TYPE = 'text/html';\nvar EXEC_MIME_TYPE = 'application/vnd.holoviews_exec.v0+json';\nvar CLASS_NAME = 'output';\n\n/**\n * Render data to the DOM node\n */\nfunction render(props, node) {\n  var div = document.createElement(\"div\");\n  var script = document.createElement(\"script\");\n  node.appendChild(div);\n  node.appendChild(script);\n}\n\n/**\n * Handle when a new output is added\n */\nfunction handle_add_output(event, handle) {\n  var output_area = handle.output_area;\n  var output = handle.output;\n  if ((output.data == undefined) || (!output.data.hasOwnProperty(EXEC_MIME_TYPE))) {\n    return\n  }\n  var id = output.metadata[EXEC_MIME_TYPE][\"id\"];\n  var toinsert = output_area.element.find(\".\" + CLASS_NAME.split(' ')[0]);\n  if (id !== undefined) {\n    var nchildren = toinsert.length;\n    var html_node = toinsert[nchildren-1].children[0];\n    html_node.innerHTML = output.data[HTML_MIME_TYPE];\n    var scripts = [];\n    var nodelist = html_node.querySelectorAll(\"script\");\n    for (var i in nodelist) {\n      if (nodelist.hasOwnProperty(i)) {\n        scripts.push(nodelist[i])\n      }\n    }\n\n    scripts.forEach( function (oldScript) {\n      var newScript = document.createElement(\"script\");\n      var attrs = [];\n      var nodemap = oldScript.attributes;\n      for (var j in nodemap) {\n        if (nodemap.hasOwnProperty(j)) {\n          attrs.push(nodemap[j])\n        }\n      }\n      attrs.forEach(function(attr) { newScript.setAttribute(attr.name, attr.value) });\n      newScript.appendChild(document.createTextNode(oldScript.innerHTML));\n      oldScript.parentNode.replaceChild(newScript, oldScript);\n    });\n    if (JS_MIME_TYPE in output.data) {\n      toinsert[nchildren-1].children[1].textContent = output.data[JS_MIME_TYPE];\n    }\n    output_area._hv_plot_id = id;\n    if ((window.Bokeh !== undefined) && (id in Bokeh.index)) {\n      window.PyViz.plot_index[id] = Bokeh.index[id];\n    } else {\n      window.PyViz.plot_index[id] = null;\n    }\n  } else if (output.metadata[EXEC_MIME_TYPE][\"server_id\"] !== undefined) {\n    var bk_div = document.createElement(\"div\");\n    bk_div.innerHTML = output.data[HTML_MIME_TYPE];\n    var script_attrs = bk_div.children[0].attributes;\n    for (var i = 0; i < script_attrs.length; i++) {\n      toinsert[toinsert.length - 1].childNodes[1].setAttribute(script_attrs[i].name, script_attrs[i].value);\n    }\n    // store reference to server id on output_area\n    output_area._bokeh_server_id = output.metadata[EXEC_MIME_TYPE][\"server_id\"];\n  }\n}\n\n/**\n * Handle when an output is cleared or removed\n */\nfunction handle_clear_output(event, handle) {\n  var id = handle.cell.output_area._hv_plot_id;\n  var server_id = handle.cell.output_area._bokeh_server_id;\n  if (((id === undefined) || !(id in PyViz.plot_index)) && (server_id !== undefined)) { return; }\n  var comm = window.PyViz.comm_manager.get_client_comm(\"hv-extension-comm\", \"hv-extension-comm\", function () {});\n  if (server_id !== null) {\n    comm.send({event_type: 'server_delete', 'id': server_id});\n    return;\n  } else if (comm !== null) {\n    comm.send({event_type: 'delete', 'id': id});\n  }\n  delete PyViz.plot_index[id];\n  if ((window.Bokeh !== undefined) & (id in window.Bokeh.index)) {\n    var doc = window.Bokeh.index[id].model.document\n    doc.clear();\n    const i = window.Bokeh.documents.indexOf(doc);\n    if (i > -1) {\n      window.Bokeh.documents.splice(i, 1);\n    }\n  }\n}\n\n/**\n * Handle kernel restart event\n */\nfunction handle_kernel_cleanup(event, handle) {\n  delete PyViz.comms[\"hv-extension-comm\"];\n  window.PyViz.plot_index = {}\n}\n\n/**\n * Handle update_display_data messages\n */\nfunction handle_update_output(event, handle) {\n  handle_clear_output(event, {cell: {output_area: handle.output_area}})\n  handle_add_output(event, handle)\n}\n\nfunction register_renderer(events, OutputArea) {\n  function append_mime(data, metadata, element) {\n    // create a DOM node to render to\n    var toinsert = this.create_output_subarea(\n    metadata,\n    CLASS_NAME,\n    EXEC_MIME_TYPE\n    );\n    this.keyboard_manager.register_events(toinsert);\n    // Render to node\n    var props = {data: data, metadata: metadata[EXEC_MIME_TYPE]};\n    render(props, toinsert[0]);\n    element.append(toinsert);\n    return toinsert\n  }\n\n  events.on('output_added.OutputArea', handle_add_output);\n  events.on('output_updated.OutputArea', handle_update_output);\n  events.on('clear_output.CodeCell', handle_clear_output);\n  events.on('delete.Cell', handle_clear_output);\n  events.on('kernel_ready.Kernel', handle_kernel_cleanup);\n\n  OutputArea.prototype.register_mime_type(EXEC_MIME_TYPE, append_mime, {\n    safe: true,\n    index: 0\n  });\n}\n\nif (window.Jupyter !== undefined) {\n  try {\n    var events = require('base/js/events');\n    var OutputArea = require('notebook/js/outputarea').OutputArea;\n    if (OutputArea.prototype.mime_types().indexOf(EXEC_MIME_TYPE) == -1) {\n      register_renderer(events, OutputArea);\n    }\n  } catch(err) {\n  }\n}\n"
     },
     "metadata": {},
     "output_type": "display_data"
    },
    {
     "data": {
      "text/html": [
       "<style>*[data-root-id],\n",
       "*[data-root-id] > * {\n",
       "  box-sizing: border-box;\n",
       "  font-family: var(--jp-ui-font-family);\n",
       "  font-size: var(--jp-ui-font-size1);\n",
       "  color: var(--vscode-editor-foreground, var(--jp-ui-font-color1));\n",
       "}\n",
       "\n",
       "/* Override VSCode background color */\n",
       ".cell-output-ipywidget-background:has(\n",
       "    > .cell-output-ipywidget-background > .lm-Widget > *[data-root-id]\n",
       "  ),\n",
       ".cell-output-ipywidget-background:has(> .lm-Widget > *[data-root-id]) {\n",
       "  background-color: transparent !important;\n",
       "}\n",
       "</style>"
      ]
     },
     "metadata": {},
     "output_type": "display_data"
    },
    {
     "data": {
      "application/vnd.holoviews_exec.v0+json": "",
      "text/html": [
       "<div id='0c7ef5e5-7daa-43fd-837d-659ccdedc83e'>\n",
       "  <div id=\"ef1c67fe-698b-4648-8697-3382f891ecca\" data-root-id=\"0c7ef5e5-7daa-43fd-837d-659ccdedc83e\" style=\"display: contents;\"></div>\n",
       "</div>\n",
       "<script type=\"application/javascript\">(function(root) {\n",
       "  var docs_json = {\"d1b252be-6d11-4eff-b88e-6a9331c4757f\":{\"version\":\"3.4.1\",\"title\":\"Bokeh Application\",\"roots\":[{\"type\":\"object\",\"name\":\"panel.models.browser.BrowserInfo\",\"id\":\"0c7ef5e5-7daa-43fd-837d-659ccdedc83e\"},{\"type\":\"object\",\"name\":\"panel.models.comm_manager.CommManager\",\"id\":\"2f5570e2-5247-4629-b535-dd197b4a35f6\",\"attributes\":{\"plot_id\":\"0c7ef5e5-7daa-43fd-837d-659ccdedc83e\",\"comm_id\":\"6cec9fe954824cf89942cbf384af18f4\",\"client_comm_id\":\"5aef08fe0f1d41b3b7271abd9d6678b6\"}}],\"defs\":[{\"type\":\"model\",\"name\":\"ReactiveHTML1\"},{\"type\":\"model\",\"name\":\"FlexBox1\",\"properties\":[{\"name\":\"align_content\",\"kind\":\"Any\",\"default\":\"flex-start\"},{\"name\":\"align_items\",\"kind\":\"Any\",\"default\":\"flex-start\"},{\"name\":\"flex_direction\",\"kind\":\"Any\",\"default\":\"row\"},{\"name\":\"flex_wrap\",\"kind\":\"Any\",\"default\":\"wrap\"},{\"name\":\"gap\",\"kind\":\"Any\",\"default\":\"\"},{\"name\":\"justify_content\",\"kind\":\"Any\",\"default\":\"flex-start\"}]},{\"type\":\"model\",\"name\":\"FloatPanel1\",\"properties\":[{\"name\":\"config\",\"kind\":\"Any\",\"default\":{\"type\":\"map\"}},{\"name\":\"contained\",\"kind\":\"Any\",\"default\":true},{\"name\":\"position\",\"kind\":\"Any\",\"default\":\"right-top\"},{\"name\":\"offsetx\",\"kind\":\"Any\",\"default\":null},{\"name\":\"offsety\",\"kind\":\"Any\",\"default\":null},{\"name\":\"theme\",\"kind\":\"Any\",\"default\":\"primary\"},{\"name\":\"status\",\"kind\":\"Any\",\"default\":\"normalized\"}]},{\"type\":\"model\",\"name\":\"GridStack1\",\"properties\":[{\"name\":\"mode\",\"kind\":\"Any\",\"default\":\"warn\"},{\"name\":\"ncols\",\"kind\":\"Any\",\"default\":null},{\"name\":\"nrows\",\"kind\":\"Any\",\"default\":null},{\"name\":\"allow_resize\",\"kind\":\"Any\",\"default\":true},{\"name\":\"allow_drag\",\"kind\":\"Any\",\"default\":true},{\"name\":\"state\",\"kind\":\"Any\",\"default\":[]}]},{\"type\":\"model\",\"name\":\"drag1\",\"properties\":[{\"name\":\"slider_width\",\"kind\":\"Any\",\"default\":5},{\"name\":\"slider_color\",\"kind\":\"Any\",\"default\":\"black\"},{\"name\":\"value\",\"kind\":\"Any\",\"default\":50}]},{\"type\":\"model\",\"name\":\"click1\",\"properties\":[{\"name\":\"terminal_output\",\"kind\":\"Any\",\"default\":\"\"},{\"name\":\"debug_name\",\"kind\":\"Any\",\"default\":\"\"},{\"name\":\"clears\",\"kind\":\"Any\",\"default\":0}]},{\"type\":\"model\",\"name\":\"FastWrapper1\",\"properties\":[{\"name\":\"object\",\"kind\":\"Any\",\"default\":null},{\"name\":\"style\",\"kind\":\"Any\",\"default\":null}]},{\"type\":\"model\",\"name\":\"NotificationAreaBase1\",\"properties\":[{\"name\":\"js_events\",\"kind\":\"Any\",\"default\":{\"type\":\"map\"}},{\"name\":\"position\",\"kind\":\"Any\",\"default\":\"bottom-right\"},{\"name\":\"_clear\",\"kind\":\"Any\",\"default\":0}]},{\"type\":\"model\",\"name\":\"NotificationArea1\",\"properties\":[{\"name\":\"js_events\",\"kind\":\"Any\",\"default\":{\"type\":\"map\"}},{\"name\":\"notifications\",\"kind\":\"Any\",\"default\":[]},{\"name\":\"position\",\"kind\":\"Any\",\"default\":\"bottom-right\"},{\"name\":\"_clear\",\"kind\":\"Any\",\"default\":0},{\"name\":\"types\",\"kind\":\"Any\",\"default\":[{\"type\":\"map\",\"entries\":[[\"type\",\"warning\"],[\"background\",\"#ffc107\"],[\"icon\",{\"type\":\"map\",\"entries\":[[\"className\",\"fas fa-exclamation-triangle\"],[\"tagName\",\"i\"],[\"color\",\"white\"]]}]]},{\"type\":\"map\",\"entries\":[[\"type\",\"info\"],[\"background\",\"#007bff\"],[\"icon\",{\"type\":\"map\",\"entries\":[[\"className\",\"fas fa-info-circle\"],[\"tagName\",\"i\"],[\"color\",\"white\"]]}]]}]}]},{\"type\":\"model\",\"name\":\"Notification\",\"properties\":[{\"name\":\"background\",\"kind\":\"Any\",\"default\":null},{\"name\":\"duration\",\"kind\":\"Any\",\"default\":3000},{\"name\":\"icon\",\"kind\":\"Any\",\"default\":null},{\"name\":\"message\",\"kind\":\"Any\",\"default\":\"\"},{\"name\":\"notification_type\",\"kind\":\"Any\",\"default\":null},{\"name\":\"_destroyed\",\"kind\":\"Any\",\"default\":false}]},{\"type\":\"model\",\"name\":\"TemplateActions1\",\"properties\":[{\"name\":\"open_modal\",\"kind\":\"Any\",\"default\":0},{\"name\":\"close_modal\",\"kind\":\"Any\",\"default\":0}]},{\"type\":\"model\",\"name\":\"BootstrapTemplateActions1\",\"properties\":[{\"name\":\"open_modal\",\"kind\":\"Any\",\"default\":0},{\"name\":\"close_modal\",\"kind\":\"Any\",\"default\":0}]},{\"type\":\"model\",\"name\":\"TemplateEditor1\",\"properties\":[{\"name\":\"layout\",\"kind\":\"Any\",\"default\":[]}]},{\"type\":\"model\",\"name\":\"MaterialTemplateActions1\",\"properties\":[{\"name\":\"open_modal\",\"kind\":\"Any\",\"default\":0},{\"name\":\"close_modal\",\"kind\":\"Any\",\"default\":0}]},{\"type\":\"model\",\"name\":\"copy_to_clipboard1\",\"properties\":[{\"name\":\"fill\",\"kind\":\"Any\",\"default\":\"none\"},{\"name\":\"value\",\"kind\":\"Any\",\"default\":null}]}]}};\n",
       "  var render_items = [{\"docid\":\"d1b252be-6d11-4eff-b88e-6a9331c4757f\",\"roots\":{\"0c7ef5e5-7daa-43fd-837d-659ccdedc83e\":\"ef1c67fe-698b-4648-8697-3382f891ecca\"},\"root_ids\":[\"0c7ef5e5-7daa-43fd-837d-659ccdedc83e\"]}];\n",
       "  var docs = Object.values(docs_json)\n",
       "  if (!docs) {\n",
       "    return\n",
       "  }\n",
       "  const py_version = docs[0].version.replace('rc', '-rc.').replace('.dev', '-dev.')\n",
       "  function embed_document(root) {\n",
       "    var Bokeh = get_bokeh(root)\n",
       "    Bokeh.embed.embed_items_notebook(docs_json, render_items);\n",
       "    for (const render_item of render_items) {\n",
       "      for (const root_id of render_item.root_ids) {\n",
       "\tconst id_el = document.getElementById(root_id)\n",
       "\tif (id_el.children.length && (id_el.children[0].className === 'bk-root')) {\n",
       "\t  const root_el = id_el.children[0]\n",
       "\t  root_el.id = root_el.id + '-rendered'\n",
       "\t}\n",
       "      }\n",
       "    }\n",
       "  }\n",
       "  function get_bokeh(root) {\n",
       "    if (root.Bokeh === undefined) {\n",
       "      return null\n",
       "    } else if (root.Bokeh.version !== py_version) {\n",
       "      if (root.Bokeh.versions === undefined || !root.Bokeh.versions.has(py_version)) {\n",
       "\treturn null\n",
       "      }\n",
       "      return root.Bokeh.versions.get(py_version);\n",
       "    } else if (root.Bokeh.version === py_version) {\n",
       "      return root.Bokeh\n",
       "    }\n",
       "    return null\n",
       "  }\n",
       "  function is_loaded(root) {\n",
       "    var Bokeh = get_bokeh(root)\n",
       "    return (Bokeh != null && Bokeh.Panel !== undefined)\n",
       "  }\n",
       "  if (is_loaded(root)) {\n",
       "    embed_document(root);\n",
       "  } else {\n",
       "    var attempts = 0;\n",
       "    var timer = setInterval(function(root) {\n",
       "      if (is_loaded(root)) {\n",
       "        clearInterval(timer);\n",
       "        embed_document(root);\n",
       "      } else if (document.readyState == \"complete\") {\n",
       "        attempts++;\n",
       "        if (attempts > 200) {\n",
       "          clearInterval(timer);\n",
       "\t  var Bokeh = get_bokeh(root)\n",
       "\t  if (Bokeh == null || Bokeh.Panel == null) {\n",
       "            console.warn(\"Panel: ERROR: Unable to run Panel code because Bokeh or Panel library is missing\");\n",
       "\t  } else {\n",
       "\t    console.warn(\"Panel: WARNING: Attempting to render but not all required libraries could be resolved.\")\n",
       "\t    embed_document(root)\n",
       "\t  }\n",
       "        }\n",
       "      }\n",
       "    }, 25, root)\n",
       "  }\n",
       "})(window);</script>"
      ]
     },
     "metadata": {
      "application/vnd.holoviews_exec.v0+json": {
       "id": "0c7ef5e5-7daa-43fd-837d-659ccdedc83e"
      }
     },
     "output_type": "display_data"
    }
   ],
   "source": [
    "%load_ext autoreload\n",
    "%autoreload 2\n",
    "import os\n",
    "from Utils.Utils import clean_trials, get_timestamps_from_rec, get_recording_time,plot_probe, assign_DIO_times_to_trials, Trim_TTLs, select_DIO_sync_trial_trace, stitch_bpod_times, select_DIO_channel, find_min_distance_TTL, call_trodesexport, check_single_rec_file, check_timestamps_gaps, get_mouse_name,get_recording_day, find_mat_files_with_same_day, check_gpu_availability\n",
    "from pathlib import Path\n",
    "import numpy as np\n",
    "from spikeinterface.extractors import read_spikegadgets\n",
    "from spikeinterface.sorters import run_sorter\n",
    "from spikeinterface.preprocessing import detect_bad_channels\n",
    "import matplotlib.pyplot as plt\n",
    "import pandas as pd\n",
    "import matplotlib.patches as mpatches\n",
    "import panel as pn\n",
    "from tqdm.notebook import tqdm\n",
    "\n",
    "pn.extension(design=\"bootstrap\", sizing_mode=\"fixed\",throttled=True)"
   ]
  },
  {
   "cell_type": "code",
   "execution_count": 10,
   "id": "41dd876d-510c-4d2e-90bd-d787c193060e",
   "metadata": {},
   "outputs": [],
   "source": [
    "# TODO:\n",
    "# check gaps mouse 12 20240126\n",
    "# check gaps mouse 13 20231212\n",
    "# check timestamps.dat == spikeinterface times"
   ]
  },
  {
   "cell_type": "markdown",
   "id": "bcbc1e90-9260-4ebe-aaec-e9ee340e2c94",
   "metadata": {},
   "source": [
    "# **Ott lab process single session**\n",
    "#####  Multi-Neuropixels recording using SpikeGadgets + Bpod"
   ]
  },
  {
   "cell_type": "markdown",
   "id": "1b07a9b5b43ef004",
   "metadata": {},
   "source": [
    "## Imperative folder structure: n_animal/"
   ]
  },
  {
   "cell_type": "markdown",
   "id": "1698e6d4-3eb5-4525-9651-c6c7d541209f",
   "metadata": {},
   "source": [
    "- /n_animal\n",
    "  - /ephys (it has to be called like this)\n",
    "    - 20240126_184212.rec\n",
    "    - 20240221_184222.rec\n",
    "  - /bpod_session (it has to be called like this)\n",
    "    - 20240126_184212\n",
    "    - 20240221_184212"
   ]
  },
  {
   "cell_type": "markdown",
   "id": "be494679-3b14-4ad3-9f69-1851b8904038",
   "metadata": {},
   "source": [
    "# Select file"
   ]
  },
  {
   "cell_type": "code",
   "execution_count": 12,
   "id": "8f7f8b68-ea55-4fc1-a793-b058e715cc56",
   "metadata": {},
   "outputs": [
    {
     "name": "stdout",
     "output_type": "stream",
     "text": [
      "mouse R12 recorded on 20231212 at 18:35:52\n",
      "Exactly one .rec file found: 20231212_183552.rec\n"
     ]
    }
   ],
   "source": [
    "# folder containing .rec file\n",
    "#path_recording_folder = Path(r\"/alzheimer/Roberto/Dariya/12/ephys/20231210_191835.rec\")\n",
    "path_recording_folder = Path(r\"X:\\R12\\ephys\\20231212_183552.rec\")\n",
    "\n",
    "mouse_n = get_mouse_name(path_recording_folder)\n",
    "day = get_recording_day(path_recording_folder)\n",
    "time = get_recording_time(path_recording_folder)\n",
    "print(f\"mouse {mouse_n} recorded on {day} at {time}\")\n",
    "\n",
    "path_recording, rec_file_name = check_single_rec_file(path_recording_folder)"
   ]
  },
  {
   "cell_type": "code",
   "execution_count": 17,
   "id": "1e504362-bbcf-428f-95ed-c0d352c1141c",
   "metadata": {},
   "outputs": [
    {
     "name": "stdout",
     "output_type": "stream",
     "text": [
      "Found 0 timestamps.dat files\n"
     ]
    },
    {
     "data": {
      "text/plain": [
       "[]"
      ]
     },
     "execution_count": 17,
     "metadata": {},
     "output_type": "execute_result"
    }
   ],
   "source": [
    "find_file(path_recording_folder, \"timestamps.dat\")"
   ]
  },
  {
   "cell_type": "code",
   "execution_count": 18,
   "id": "5f8934c4-0a6b-4bf7-9709-dcf3c976cb3f",
   "metadata": {},
   "outputs": [
    {
     "name": "stdout",
     "output_type": "stream",
     "text": [
      "Found 0 timestamps.dat files\n"
     ]
    },
    {
     "ename": "IndexError",
     "evalue": "list index out of range",
     "output_type": "error",
     "traceback": [
      "\u001b[1;31m---------------------------------------------------------------------------\u001b[0m",
      "\u001b[1;31mIndexError\u001b[0m                                Traceback (most recent call last)",
      "Cell \u001b[1;32mIn[18], line 7\u001b[0m\n\u001b[0;32m      5\u001b[0m     call_trodesexport(path_recording_folder, path_recording, \u001b[38;5;124m\"\u001b[39m\u001b[38;5;124mtime\u001b[39m\u001b[38;5;124m\"\u001b[39m)\n\u001b[0;32m      6\u001b[0m     path_timestamps \u001b[38;5;241m=\u001b[39m find_file(path_recording_folder, \u001b[38;5;124m\"\u001b[39m\u001b[38;5;124mtimestamps.dat\u001b[39m\u001b[38;5;124m\"\u001b[39m)\n\u001b[1;32m----> 7\u001b[0m \u001b[38;5;28mprint\u001b[39m(\u001b[38;5;124mf\u001b[39m\u001b[38;5;124m\"\u001b[39m\u001b[38;5;124mRead timestamps from \u001b[39m\u001b[38;5;132;01m{\u001b[39;00mpath_timestamps[\u001b[38;5;241m0\u001b[39m]\u001b[38;5;132;01m}\u001b[39;00m\u001b[38;5;124m\"\u001b[39m)\n\u001b[0;32m      8\u001b[0m timestamps_dict \u001b[38;5;241m=\u001b[39m readTrodesExtractedDataFile(path_timestamps[\u001b[38;5;241m0\u001b[39m])\n\u001b[0;32m      9\u001b[0m timestamps \u001b[38;5;241m=\u001b[39m timestamps_dict[\u001b[38;5;124m\"\u001b[39m\u001b[38;5;124mdata\u001b[39m\u001b[38;5;124m\"\u001b[39m][\u001b[38;5;124m\"\u001b[39m\u001b[38;5;124mtime\u001b[39m\u001b[38;5;124m\"\u001b[39m]\n",
      "\u001b[1;31mIndexError\u001b[0m: list index out of range"
     ]
    }
   ],
   "source": [
    "from Utils.Utils import find_file\n",
    "path_timestamps = find_file(path_recording_folder, \"timestamps.dat\")\n",
    "if path_timestamps is None:\n",
    "    print(\"Extracting timestamps using trodesexport -time\")\n",
    "    call_trodesexport(path_recording_folder, path_recording, \"time\")\n",
    "    path_timestamps = find_file(path_recording_folder, \"timestamps.dat\")\n",
    "print(f\"Read timestamps from {path_timestamps[0]}\")\n",
    "timestamps_dict = readTrodesExtractedDataFile(path_timestamps[0])\n",
    "timestamps = timestamps_dict[\"data\"][\"time\"]\n",
    "timestamps = timestamps - timestamps[0]"
   ]
  },
  {
   "cell_type": "markdown",
   "id": "c3f376a7-ac74-4d99-b73d-7e47097fd869",
   "metadata": {},
   "source": [
    "## Extract timestamps from .rec file"
   ]
  },
  {
   "cell_type": "code",
   "execution_count": 30,
   "id": "2e51f1b5-47fb-40c2-9786-18bd7fc01eb8",
   "metadata": {},
   "outputs": [
    {
     "name": "stdout",
     "output_type": "stream",
     "text": [
      "Found 0 timestamps.dat files\n",
      "Extracting timestamps using trodesexport -time\n",
      "No folder with .time found.\n",
      "Extract time\n",
      "Command executed successfully\n",
      "Found 1 timestamps.dat files\n",
      "Read timestamps from X:\\R12\\ephys\\20231212_183552.rec\\20231212_183552.time\\20231212_183552.timestamps.dat\n"
     ]
    },
    {
     "name": "stderr",
     "output_type": "stream",
     "text": [
      "C:\\Users\\SciencePerson\\Documents\\GitHub\\spikesorting\\Utils\\TrodesToPython\\readTrodesExtractedDataFile3.py:114: FutureWarning: Passing (type, 1) or '1type' as a synonym of type is deprecated; in a future version of numpy, it will be understood as (type, (1,)) / '(1,)type'.\n",
      "  return np.dtype(typearr)\n"
     ]
    },
    {
     "name": "stdout",
     "output_type": "stream",
     "text": [
      "CPU times: total: 5.42 s\n",
      "Wall time: 4min 21s\n"
     ]
    }
   ],
   "source": [
    "%%time\n",
    "# We adjust timestamps using the timestamps extracted from the .rec file. spikeinterface assumes no gaps (see https://spikeinterface.readthedocs.io/en/latest/modules_gallery/core/plot_6_handle_times.html) and hides all gaps in the recording.\n",
    "\n",
    "timestamps = get_timestamps_from_rec(path_recording_folder,  path_recording)"
   ]
  },
  {
   "cell_type": "markdown",
   "id": "e1b18a08-6398-4143-8326-9e4af58bf6ed",
   "metadata": {},
   "source": [
    "## Load recording in spikeinterface"
   ]
  },
  {
   "cell_type": "code",
   "execution_count": 32,
   "id": "a8addc6e-2fe1-4fc2-883c-f28b36f7b0ac",
   "metadata": {},
   "outputs": [
    {
     "name": "stdout",
     "output_type": "stream",
     "text": [
      "Recording duration in minutes: 154.06692055555555, sampling rate: 30000.0 Hz\n",
      "Probes present: [Probe - 384ch - 1shanks, Probe - 384ch - 1shanks]\n",
      "CPU times: total: 1.33 s\n",
      "Wall time: 1.37 s\n"
     ]
    },
    {
     "name": "stderr",
     "output_type": "stream",
     "text": [
      "C:\\Users\\SciencePerson\\miniforge3\\envs\\spikesorting\\lib\\site-packages\\spikeinterface\\core\\baserecording.py:429: UserWarning: Setting times with Recording.set_times() is not recommended because times are not always propagated across preprocessingUse this carefully!\n",
      "  warn(\n"
     ]
    }
   ],
   "source": [
    "%%time\n",
    "\n",
    "raw_rec = read_spikegadgets(path_recording)\n",
    "\n",
    "fs = raw_rec.get_sampling_frequency()\n",
    "\n",
    "correct_times = timestamps/fs\n",
    "raw_rec.set_times(correct_times) # set new times\n",
    "\n",
    "print(f\"Recording duration in minutes: {raw_rec.get_total_duration()/60}, sampling rate: {fs} Hz\")\n",
    "print(f\"Probes present: {raw_rec.get_probes()}\")"
   ]
  },
  {
   "cell_type": "code",
   "execution_count": 33,
   "id": "00b38ad8-3bda-4737-85c9-45091afc7137",
   "metadata": {},
   "outputs": [
    {
     "name": "stdout",
     "output_type": "stream",
     "text": [
      "No gaps detected.\n"
     ]
    }
   ],
   "source": [
    "gaps_start_stop = check_timestamps_gaps(raw_rec, correct_times)"
   ]
  },
  {
   "cell_type": "markdown",
   "id": "bdf592f4-abd9-4303-9185-31198e679b06",
   "metadata": {},
   "source": [
    "# Sync Bpod and Trodes streams"
   ]
  },
  {
   "cell_type": "markdown",
   "id": "deff3f06-323d-4c19-8773-3f30f76878fe",
   "metadata": {},
   "source": [
    "### Export Digital IO channels"
   ]
  },
  {
   "cell_type": "code",
   "execution_count": 34,
   "id": "0994dadd-76e4-40e8-a64b-a5c99ed359d5",
   "metadata": {},
   "outputs": [
    {
     "name": "stdout",
     "output_type": "stream",
     "text": [
      ".DIO folder alread available: 20231212_183552.DIO\n",
      "CPU times: total: 0 ns\n",
      "Wall time: 1.02 ms\n"
     ]
    }
   ],
   "source": [
    "%%time\n",
    "#check if already available, if not extract\n",
    "call_trodesexport(path_recording_folder, path_recording, \"dio\")"
   ]
  },
  {
   "cell_type": "code",
   "execution_count": 35,
   "id": "2e8fa88e-8818-4ff7-b822-c87812704aa6",
   "metadata": {},
   "outputs": [
    {
     "name": "stdout",
     "output_type": "stream",
     "text": [
      "20231212_183552.dio_Controller_Din1.dat contains data\n",
      "1 DIO files with data\n"
     ]
    }
   ],
   "source": [
    "DIO_timestamps_start_trial, DIO_samples_start_trial = select_DIO_sync_trial_trace(path_recording_folder, rec_file_name)"
   ]
  },
  {
   "cell_type": "markdown",
   "id": "5200e420-810b-4963-8ebc-764992641ab6",
   "metadata": {},
   "source": [
    "## Load bpod mat file behavior"
   ]
  },
  {
   "cell_type": "code",
   "execution_count": 36,
   "id": "ea6cb794-4503-42e3-b8e4-b64b74e71d5b",
   "metadata": {},
   "outputs": [
    {
     "name": "stdout",
     "output_type": "stream",
     "text": [
      ".mat file found: X:\\R12\\bpod_session\\20231212_181618\\12_AuditoryTuning_20231212_181618.mat\n",
      "Bpod file starts within the Trodes recording\n",
      ".mat file found: X:\\R12\\bpod_session\\20231212_185101\\12_DetectionConfidence_20231212_185101.mat\n",
      "Bpod file starts within the Trodes recording\n"
     ]
    }
   ],
   "source": [
    "bpod_file = find_mat_files_with_same_day(path_recording_folder.parent.parent / \"bpod_session\" , path_recording_folder, raw_rec)"
   ]
  },
  {
   "cell_type": "markdown",
   "id": "de59de36-8b83-4be5-84ba-62090c18be6f",
   "metadata": {},
   "source": [
    "## Stitch trials and trim as needed"
   ]
  },
  {
   "cell_type": "code",
   "execution_count": 37,
   "id": "e3bfaa47-8660-4bac-897f-7a43075ecd41",
   "metadata": {},
   "outputs": [
    {
     "name": "stdout",
     "output_type": "stream",
     "text": [
      "X:\\R12\\bpod_session\\20231212_181618\\12_AuditoryTuning_20231212_181618.mat\n",
      "Bpod session started at 18:36:24, duration: 12.826175000000001 min, ended at: 18:49:13\n",
      "number trials: 600\n",
      "Extracting AuditoryTuning params\n",
      "X:\\R12\\bpod_session\\20231212_185101\\12_DetectionConfidence_20231212_185101.mat\n",
      "Bpod session started at 18:51:30, duration: 137.31311333333332 min, ended at: 21:08:48\n",
      "number trials: 799\n",
      "Extracting DetectionConfidence params\n",
      "CPU times: total: 875 ms\n",
      "Wall time: 1.28 s\n"
     ]
    },
    {
     "data": {
      "image/png": "[encoded data removed]",
      "text/plain": [
       "<Figure size 640x480 with 1 Axes>"
      ]
     },
     "metadata": {},
     "output_type": "display_data"
    }
   ],
   "source": [
    "%%time\n",
    "# currently can deal only with 2 behavior files, no more!\n",
    "trials =  stitch_bpod_times(bpod_file, day, DIO_timestamps_start_trial)"
   ]
  },
  {
   "cell_type": "code",
   "execution_count": 38,
   "id": "339f7319-3fcf-4609-b00a-e5235604598f",
   "metadata": {},
   "outputs": [
    {
     "name": "stdout",
     "output_type": "stream",
     "text": [
      "\u001b[38;5;2m\u001b[48;5;15mlen DIO:1400, len Bpod:1399\u001b[0m\n",
      "The most distant pulse in array1 is at index 1399 with time 9121.225866666666\n",
      "This pulse has a minimum distance of 12.271066665649414 to the closest pulse in array2\n"
     ]
    },
    {
     "data": {
      "image/png": "[encoded data removed]",
      "text/plain": [
       "<Figure size 640x480 with 1 Axes>"
      ]
     },
     "metadata": {},
     "output_type": "display_data"
    }
   ],
   "source": [
    "min_distances = find_min_distance_TTL(DIO_timestamps_start_trial,  trials[\"bpod_start_time\"])"
   ]
  },
  {
   "cell_type": "code",
   "execution_count": 39,
   "id": "049a6dd5-098b-4c1b-baff-694ff8d55022",
   "metadata": {},
   "outputs": [
    {
     "name": "stdout",
     "output_type": "stream",
     "text": [
      "unequal numbers of trials between bpod and DIO\n",
      "One extra TTL pulse received on DIO at the end of the session\n",
      "extra TTL pulse removed\n"
     ]
    }
   ],
   "source": [
    "# only adapted to case where there is a extra TTL in the DIO at the end of last stimulus block!\n",
    "DIO_timestamps_start_trial,  DIO_samples_start_trial = Trim_TTLs(trials, DIO_timestamps_start_trial, DIO_samples_start_trial,min_distances)"
   ]
  },
  {
   "cell_type": "code",
   "execution_count": 40,
   "id": "5f684279-97a1-4ead-b8dc-625bd2bf263a",
   "metadata": {},
   "outputs": [
    {
     "name": "stdout",
     "output_type": "stream",
     "text": [
      "\u001b[38;5;2m\u001b[48;5;15mlen DIO:1399, len Bpod:1399\u001b[0m\n",
      "The most distant pulse in array1 is at index 1398 with time 9109.022966666666\n",
      "This pulse has a minimum distance of 0.06816666573286057 to the closest pulse in array2\n"
     ]
    },
    {
     "data": {
      "image/png": "[encoded data removed]",
      "text/plain": [
       "<Figure size 640x480 with 1 Axes>"
      ]
     },
     "metadata": {},
     "output_type": "display_data"
    }
   ],
   "source": [
    "min_distances = find_min_distance_TTL(DIO_timestamps_start_trial,  trials[\"bpod_start_time\"])"
   ]
  },
  {
   "cell_type": "code",
   "execution_count": 41,
   "id": "0aa9766d-2fcc-45cf-b023-89f7b01df3c8",
   "metadata": {},
   "outputs": [
    {
     "name": "stdout",
     "output_type": "stream",
     "text": [
      "CPU times: total: 15.6 ms\n",
      "Wall time: 9 ms\n"
     ]
    },
    {
     "data": {
      "image/png": "[encoded data removed]",
      "text/plain": [
       "<Figure size 640x480 with 1 Axes>"
      ]
     },
     "metadata": {},
     "output_type": "display_data"
    }
   ],
   "source": [
    "%%time\n",
    "trials = assign_DIO_times_to_trials(trials, DIO_timestamps_start_trial, DIO_samples_start_trial)"
   ]
  },
  {
   "cell_type": "markdown",
   "id": "94cf44a5-1055-4ef4-ae21-c23acb8847f6",
   "metadata": {},
   "source": [
    "## Final Trial df"
   ]
  },
  {
   "cell_type": "code",
   "execution_count": 42,
   "id": "a8d86b44-a615-4052-a1ff-847f4431457f",
   "metadata": {},
   "outputs": [
    {
     "name": "stdout",
     "output_type": "stream",
     "text": [
      "No trials discarded\n",
      "CPU times: total: 78.1 ms\n",
      "Wall time: 107 ms\n"
     ]
    }
   ],
   "source": [
    "%%time\n",
    "cleaned_trials = clean_trials(trials, raw_rec, gaps_start_stop)"
   ]
  },
  {
   "cell_type": "code",
   "execution_count": 43,
   "id": "f583245a-0212-40a7-884c-88165578bd06",
   "metadata": {},
   "outputs": [],
   "source": [
    "cleaned_trials.to_csv(Path(f\"{path_recording_folder}/trials.csv\"))"
   ]
  },
  {
   "cell_type": "code",
   "execution_count": 44,
   "id": "21e56530-f48f-40c1-abd0-4864d8b0946f",
   "metadata": {},
   "outputs": [
    {
     "data": {
      "text/html": [
       "<div>\n",
       "<style scoped>\n",
       "    .dataframe tbody tr th:only-of-type {\n",
       "        vertical-align: middle;\n",
       "    }\n",
       "\n",
       "    .dataframe tbody tr th {\n",
       "        vertical-align: top;\n",
       "    }\n",
       "\n",
       "    .dataframe thead th {\n",
       "        text-align: right;\n",
       "    }\n",
       "</style>\n",
       "<table border=\"1\" class=\"dataframe\">\n",
       "  <thead>\n",
       "    <tr style=\"text-align: right;\">\n",
       "      <th></th>\n",
       "      <th>trial_n</th>\n",
       "      <th>bpod_start_time</th>\n",
       "      <th>bpod_stop_time</th>\n",
       "      <th>stimulus_block</th>\n",
       "      <th>stimulus_name</th>\n",
       "      <th>Frequency</th>\n",
       "      <th>Volume</th>\n",
       "      <th>AfterTrialInterval</th>\n",
       "      <th>BeforeTrialInterval</th>\n",
       "      <th>Beta</th>\n",
       "      <th>...</th>\n",
       "      <th>WaitingTime</th>\n",
       "      <th>StimulusStartTime</th>\n",
       "      <th>RewardStartTime</th>\n",
       "      <th>DIO_start_sample</th>\n",
       "      <th>DIO_start_time</th>\n",
       "      <th>DIO_start_sample_zeroed</th>\n",
       "      <th>start_time</th>\n",
       "      <th>duration</th>\n",
       "      <th>stop_time</th>\n",
       "      <th>has_gap</th>\n",
       "    </tr>\n",
       "  </thead>\n",
       "  <tbody>\n",
       "    <tr>\n",
       "      <th>0</th>\n",
       "      <td>0</td>\n",
       "      <td>1.1802</td>\n",
       "      <td>2.3802</td>\n",
       "      <td>0</td>\n",
       "      <td>BpodProtocols_AuditoryTuning.git</td>\n",
       "      <td>500.0</td>\n",
       "      <td>60.0</td>\n",
       "      <td>NaN</td>\n",
       "      <td>NaN</td>\n",
       "      <td>NaN</td>\n",
       "      <td>...</td>\n",
       "      <td>NaN</td>\n",
       "      <td>NaN</td>\n",
       "      <td>NaN</td>\n",
       "      <td>1591690</td>\n",
       "      <td>53.056333</td>\n",
       "      <td>0</td>\n",
       "      <td>0.000000</td>\n",
       "      <td>1.2</td>\n",
       "      <td>1.200000</td>\n",
       "      <td>False</td>\n",
       "    </tr>\n",
       "    <tr>\n",
       "      <th>1</th>\n",
       "      <td>1</td>\n",
       "      <td>2.4890</td>\n",
       "      <td>3.6890</td>\n",
       "      <td>0</td>\n",
       "      <td>BpodProtocols_AuditoryTuning.git</td>\n",
       "      <td>1000.0</td>\n",
       "      <td>60.0</td>\n",
       "      <td>NaN</td>\n",
       "      <td>NaN</td>\n",
       "      <td>NaN</td>\n",
       "      <td>...</td>\n",
       "      <td>NaN</td>\n",
       "      <td>NaN</td>\n",
       "      <td>NaN</td>\n",
       "      <td>1630955</td>\n",
       "      <td>54.365167</td>\n",
       "      <td>39265</td>\n",
       "      <td>1.308833</td>\n",
       "      <td>1.2</td>\n",
       "      <td>2.508833</td>\n",
       "      <td>False</td>\n",
       "    </tr>\n",
       "    <tr>\n",
       "      <th>2</th>\n",
       "      <td>2</td>\n",
       "      <td>3.7490</td>\n",
       "      <td>4.9490</td>\n",
       "      <td>0</td>\n",
       "      <td>BpodProtocols_AuditoryTuning.git</td>\n",
       "      <td>1500.0</td>\n",
       "      <td>60.0</td>\n",
       "      <td>NaN</td>\n",
       "      <td>NaN</td>\n",
       "      <td>NaN</td>\n",
       "      <td>...</td>\n",
       "      <td>NaN</td>\n",
       "      <td>NaN</td>\n",
       "      <td>NaN</td>\n",
       "      <td>1668755</td>\n",
       "      <td>55.625167</td>\n",
       "      <td>77065</td>\n",
       "      <td>2.568833</td>\n",
       "      <td>1.2</td>\n",
       "      <td>3.768833</td>\n",
       "      <td>False</td>\n",
       "    </tr>\n",
       "    <tr>\n",
       "      <th>3</th>\n",
       "      <td>3</td>\n",
       "      <td>5.0100</td>\n",
       "      <td>6.2100</td>\n",
       "      <td>0</td>\n",
       "      <td>BpodProtocols_AuditoryTuning.git</td>\n",
       "      <td>2000.0</td>\n",
       "      <td>60.0</td>\n",
       "      <td>NaN</td>\n",
       "      <td>NaN</td>\n",
       "      <td>NaN</td>\n",
       "      <td>...</td>\n",
       "      <td>NaN</td>\n",
       "      <td>NaN</td>\n",
       "      <td>NaN</td>\n",
       "      <td>1706585</td>\n",
       "      <td>56.886167</td>\n",
       "      <td>114895</td>\n",
       "      <td>3.829833</td>\n",
       "      <td>1.2</td>\n",
       "      <td>5.029833</td>\n",
       "      <td>False</td>\n",
       "    </tr>\n",
       "    <tr>\n",
       "      <th>4</th>\n",
       "      <td>4</td>\n",
       "      <td>6.2691</td>\n",
       "      <td>7.4691</td>\n",
       "      <td>0</td>\n",
       "      <td>BpodProtocols_AuditoryTuning.git</td>\n",
       "      <td>2500.0</td>\n",
       "      <td>60.0</td>\n",
       "      <td>NaN</td>\n",
       "      <td>NaN</td>\n",
       "      <td>NaN</td>\n",
       "      <td>...</td>\n",
       "      <td>NaN</td>\n",
       "      <td>NaN</td>\n",
       "      <td>NaN</td>\n",
       "      <td>1744358</td>\n",
       "      <td>58.145267</td>\n",
       "      <td>152668</td>\n",
       "      <td>5.088933</td>\n",
       "      <td>1.2</td>\n",
       "      <td>6.288933</td>\n",
       "      <td>False</td>\n",
       "    </tr>\n",
       "    <tr>\n",
       "      <th>...</th>\n",
       "      <td>...</td>\n",
       "      <td>...</td>\n",
       "      <td>...</td>\n",
       "      <td>...</td>\n",
       "      <td>...</td>\n",
       "      <td>...</td>\n",
       "      <td>...</td>\n",
       "      <td>...</td>\n",
       "      <td>...</td>\n",
       "      <td>...</td>\n",
       "      <td>...</td>\n",
       "      <td>...</td>\n",
       "      <td>...</td>\n",
       "      <td>...</td>\n",
       "      <td>...</td>\n",
       "      <td>...</td>\n",
       "      <td>...</td>\n",
       "      <td>...</td>\n",
       "      <td>...</td>\n",
       "      <td>...</td>\n",
       "      <td>...</td>\n",
       "    </tr>\n",
       "    <tr>\n",
       "      <th>1394</th>\n",
       "      <td>1394</td>\n",
       "      <td>9061.3978</td>\n",
       "      <td>9062.5978</td>\n",
       "      <td>1</td>\n",
       "      <td>BpodProtocols_DetectionConfidence.git</td>\n",
       "      <td>NaN</td>\n",
       "      <td>NaN</td>\n",
       "      <td>1.0</td>\n",
       "      <td>1.0</td>\n",
       "      <td>0.262862</td>\n",
       "      <td>...</td>\n",
       "      <td>NaN</td>\n",
       "      <td>NaN</td>\n",
       "      <td>NaN</td>\n",
       "      <td>273400252</td>\n",
       "      <td>9113.341733</td>\n",
       "      <td>271808562</td>\n",
       "      <td>9060.285400</td>\n",
       "      <td>1.2</td>\n",
       "      <td>9061.485400</td>\n",
       "      <td>False</td>\n",
       "    </tr>\n",
       "    <tr>\n",
       "      <th>1395</th>\n",
       "      <td>1395</td>\n",
       "      <td>9073.5830</td>\n",
       "      <td>9074.7830</td>\n",
       "      <td>1</td>\n",
       "      <td>BpodProtocols_DetectionConfidence.git</td>\n",
       "      <td>NaN</td>\n",
       "      <td>NaN</td>\n",
       "      <td>1.0</td>\n",
       "      <td>1.0</td>\n",
       "      <td>0.802172</td>\n",
       "      <td>...</td>\n",
       "      <td>NaN</td>\n",
       "      <td>NaN</td>\n",
       "      <td>NaN</td>\n",
       "      <td>273765811</td>\n",
       "      <td>9125.527033</td>\n",
       "      <td>272174121</td>\n",
       "      <td>9072.470700</td>\n",
       "      <td>1.2</td>\n",
       "      <td>9073.670700</td>\n",
       "      <td>False</td>\n",
       "    </tr>\n",
       "    <tr>\n",
       "      <th>1396</th>\n",
       "      <td>1396</td>\n",
       "      <td>9085.7843</td>\n",
       "      <td>9086.9843</td>\n",
       "      <td>1</td>\n",
       "      <td>BpodProtocols_DetectionConfidence.git</td>\n",
       "      <td>NaN</td>\n",
       "      <td>NaN</td>\n",
       "      <td>1.0</td>\n",
       "      <td>1.0</td>\n",
       "      <td>0.519861</td>\n",
       "      <td>...</td>\n",
       "      <td>NaN</td>\n",
       "      <td>NaN</td>\n",
       "      <td>NaN</td>\n",
       "      <td>274131853</td>\n",
       "      <td>9137.728433</td>\n",
       "      <td>272540163</td>\n",
       "      <td>9084.672100</td>\n",
       "      <td>1.2</td>\n",
       "      <td>9085.872100</td>\n",
       "      <td>False</td>\n",
       "    </tr>\n",
       "    <tr>\n",
       "      <th>1397</th>\n",
       "      <td>1397</td>\n",
       "      <td>9097.9691</td>\n",
       "      <td>9099.1691</td>\n",
       "      <td>1</td>\n",
       "      <td>BpodProtocols_DetectionConfidence.git</td>\n",
       "      <td>NaN</td>\n",
       "      <td>NaN</td>\n",
       "      <td>1.0</td>\n",
       "      <td>1.0</td>\n",
       "      <td>0.108620</td>\n",
       "      <td>...</td>\n",
       "      <td>NaN</td>\n",
       "      <td>NaN</td>\n",
       "      <td>NaN</td>\n",
       "      <td>274497400</td>\n",
       "      <td>9149.913333</td>\n",
       "      <td>272905710</td>\n",
       "      <td>9096.857000</td>\n",
       "      <td>1.2</td>\n",
       "      <td>9098.057000</td>\n",
       "      <td>False</td>\n",
       "    </tr>\n",
       "    <tr>\n",
       "      <th>1398</th>\n",
       "      <td>1398</td>\n",
       "      <td>9110.1350</td>\n",
       "      <td>9111.3350</td>\n",
       "      <td>1</td>\n",
       "      <td>BpodProtocols_DetectionConfidence.git</td>\n",
       "      <td>NaN</td>\n",
       "      <td>NaN</td>\n",
       "      <td>1.0</td>\n",
       "      <td>1.0</td>\n",
       "      <td>0.444210</td>\n",
       "      <td>...</td>\n",
       "      <td>NaN</td>\n",
       "      <td>NaN</td>\n",
       "      <td>NaN</td>\n",
       "      <td>274862379</td>\n",
       "      <td>9162.079300</td>\n",
       "      <td>273270689</td>\n",
       "      <td>9109.022967</td>\n",
       "      <td>1.2</td>\n",
       "      <td>9110.222967</td>\n",
       "      <td>False</td>\n",
       "    </tr>\n",
       "  </tbody>\n",
       "</table>\n",
       "<p>1399 rows × 73 columns</p>\n",
       "</div>"
      ],
      "text/plain": [
       "      trial_n  bpod_start_time  bpod_stop_time  stimulus_block  \\\n",
       "0           0           1.1802          2.3802               0   \n",
       "1           1           2.4890          3.6890               0   \n",
       "2           2           3.7490          4.9490               0   \n",
       "3           3           5.0100          6.2100               0   \n",
       "4           4           6.2691          7.4691               0   \n",
       "...       ...              ...             ...             ...   \n",
       "1394     1394        9061.3978       9062.5978               1   \n",
       "1395     1395        9073.5830       9074.7830               1   \n",
       "1396     1396        9085.7843       9086.9843               1   \n",
       "1397     1397        9097.9691       9099.1691               1   \n",
       "1398     1398        9110.1350       9111.3350               1   \n",
       "\n",
       "                              stimulus_name  Frequency  Volume  \\\n",
       "0          BpodProtocols_AuditoryTuning.git      500.0    60.0   \n",
       "1          BpodProtocols_AuditoryTuning.git     1000.0    60.0   \n",
       "2          BpodProtocols_AuditoryTuning.git     1500.0    60.0   \n",
       "3          BpodProtocols_AuditoryTuning.git     2000.0    60.0   \n",
       "4          BpodProtocols_AuditoryTuning.git     2500.0    60.0   \n",
       "...                                     ...        ...     ...   \n",
       "1394  BpodProtocols_DetectionConfidence.git        NaN     NaN   \n",
       "1395  BpodProtocols_DetectionConfidence.git        NaN     NaN   \n",
       "1396  BpodProtocols_DetectionConfidence.git        NaN     NaN   \n",
       "1397  BpodProtocols_DetectionConfidence.git        NaN     NaN   \n",
       "1398  BpodProtocols_DetectionConfidence.git        NaN     NaN   \n",
       "\n",
       "      AfterTrialInterval  BeforeTrialInterval      Beta  ...  WaitingTime  \\\n",
       "0                    NaN                  NaN       NaN  ...          NaN   \n",
       "1                    NaN                  NaN       NaN  ...          NaN   \n",
       "2                    NaN                  NaN       NaN  ...          NaN   \n",
       "3                    NaN                  NaN       NaN  ...          NaN   \n",
       "4                    NaN                  NaN       NaN  ...          NaN   \n",
       "...                  ...                  ...       ...  ...          ...   \n",
       "1394                 1.0                  1.0  0.262862  ...          NaN   \n",
       "1395                 1.0                  1.0  0.802172  ...          NaN   \n",
       "1396                 1.0                  1.0  0.519861  ...          NaN   \n",
       "1397                 1.0                  1.0  0.108620  ...          NaN   \n",
       "1398                 1.0                  1.0  0.444210  ...          NaN   \n",
       "\n",
       "      StimulusStartTime  RewardStartTime  DIO_start_sample  DIO_start_time  \\\n",
       "0                   NaN              NaN           1591690       53.056333   \n",
       "1                   NaN              NaN           1630955       54.365167   \n",
       "2                   NaN              NaN           1668755       55.625167   \n",
       "3                   NaN              NaN           1706585       56.886167   \n",
       "4                   NaN              NaN           1744358       58.145267   \n",
       "...                 ...              ...               ...             ...   \n",
       "1394                NaN              NaN         273400252     9113.341733   \n",
       "1395                NaN              NaN         273765811     9125.527033   \n",
       "1396                NaN              NaN         274131853     9137.728433   \n",
       "1397                NaN              NaN         274497400     9149.913333   \n",
       "1398                NaN              NaN         274862379     9162.079300   \n",
       "\n",
       "      DIO_start_sample_zeroed   start_time  duration    stop_time  has_gap  \n",
       "0                           0     0.000000       1.2     1.200000    False  \n",
       "1                       39265     1.308833       1.2     2.508833    False  \n",
       "2                       77065     2.568833       1.2     3.768833    False  \n",
       "3                      114895     3.829833       1.2     5.029833    False  \n",
       "4                      152668     5.088933       1.2     6.288933    False  \n",
       "...                       ...          ...       ...          ...      ...  \n",
       "1394                271808562  9060.285400       1.2  9061.485400    False  \n",
       "1395                272174121  9072.470700       1.2  9073.670700    False  \n",
       "1396                272540163  9084.672100       1.2  9085.872100    False  \n",
       "1397                272905710  9096.857000       1.2  9098.057000    False  \n",
       "1398                273270689  9109.022967       1.2  9110.222967    False  \n",
       "\n",
       "[1399 rows x 73 columns]"
      ]
     },
     "execution_count": 44,
     "metadata": {},
     "output_type": "execute_result"
    }
   ],
   "source": [
    "pd.read_csv(Path(f\"{path_recording_folder}/trials.csv\"))"
   ]
  },
  {
   "cell_type": "markdown",
   "id": "0037a8e6-5f3d-47dc-afba-16b879d8a9ca",
   "metadata": {},
   "source": [
    "# Spike sorting"
   ]
  },
  {
   "cell_type": "markdown",
   "id": "7ac8d0b2-a0c8-4a05-9f00-cf62f1c69b6f",
   "metadata": {},
   "source": [
    "## Pre-processing"
   ]
  },
  {
   "cell_type": "markdown",
   "id": "b8e70259-3eb7-408a-8e3f-61c780ad2ef5",
   "metadata": {},
   "source": [
    "### Detect bad channels"
   ]
  },
  {
   "cell_type": "code",
   "execution_count": 153,
   "id": "7ba8d126-0249-4262-af8e-54f00f0058c1",
   "metadata": {},
   "outputs": [
    {
     "name": "stdout",
     "output_type": "stream",
     "text": [
      "CPU times: user 2.41 ms, sys: 0 ns, total: 2.41 ms\n",
      "Wall time: 2.64 ms\n"
     ]
    }
   ],
   "source": [
    "%%time\n",
    "if os.path.exists(f\"{path_recording_folder}/channel_labels.csv\"):\n",
    "    channel_labels = pd.read_csv(f\"{path_recording_folder}/channel_labels.csv\")\n",
    "else:\n",
    "    bad_channel_ids_list = [] \n",
    "    channel_labels_list = []\n",
    "    # detect noisy, dead, and out-of-brain channels\n",
    "    split_preprocessed_recording = raw_rec.split_by(\"group\")\n",
    "    for group, sub_rec in tqdm(split_preprocessed_recording.items()):\n",
    "        bad_channel_ids, channel_labels = detect_bad_channels(sub_rec)\n",
    "    \n",
    "        # count bad channels\n",
    "        count = np.unique(channel_labels, return_counts=True)\n",
    "        if (count[0].shape[0] == 1) & (count[0][0]==\"good\"):\n",
    "             print(f\"no bad channels in probe{group}\")\n",
    "        else:\n",
    "            for n in range(count[0].shape[0]):\n",
    "                print(f\"{count[1][n]} {count[0][n]} channels in probe{group}\")\n",
    "                \n",
    "        bad_channel_ids_list.append(bad_channel_ids)\n",
    "        channel_labels_list.extend(channel_labels)\n",
    "        \n",
    "channel_labels = pd.DataFrame([channel_labels_list], index=[ \"channel_labels\"])\n",
    "channel_labels.to_csv(f\"{path_recording_folder}/channel_labels.csv\", index=False)"
   ]
  },
  {
   "cell_type": "markdown",
   "id": "e3636056-289b-4c6b-b218-aaa5151d958b",
   "metadata": {},
   "source": [
    "### Inspect probes"
   ]
  },
  {
   "cell_type": "code",
   "execution_count": 162,
   "id": "76b6ce2d-879b-4a39-b373-72cbb6ab13ce",
   "metadata": {},
   "outputs": [
    {
     "data": {},
     "metadata": {},
     "output_type": "display_data"
    },
    {
     "data": {
      "application/vnd.holoviews_exec.v0+json": "",
      "text/html": [
       "<div id='0da5989e-6640-477b-a8ff-cdd89102b963'>\n",
       "  <div id=\"d900ad9a-4a73-495a-ad29-832bddd3d5a0\" data-root-id=\"0da5989e-6640-477b-a8ff-cdd89102b963\" style=\"display: contents;\"></div>\n",
       "</div>\n",
       "<script type=\"application/javascript\">(function(root) {\n",
       "  var docs_json = {\"8ad19fde-53b2-41c7-94a1-450f1ae833fe\":{\"version\":\"3.4.1\",\"title\":\"Bokeh Application\",\"roots\":[{\"type\":\"object\",\"name\":\"panel.models.layout.Column\",\"id\":\"0da5989e-6640-477b-a8ff-cdd89102b963\",\"attributes\":{\"name\":\"Column00170\",\"stylesheets\":[\"\\n:host(.pn-loading):before, .pn-loading:before {\\n  background-color: #c3c3c3;\\n  mask-size: auto calc(min(50%, 400px));\\n  -webkit-mask-size: auto calc(min(50%, 400px));\\n}\",{\"type\":\"object\",\"name\":\"ImportedStyleSheet\",\"id\":\"b975a107-b01a-4434-b99c-ed7d02a2769d\",\"attributes\":{\"url\":\"https://cdn.holoviz.org/panel/1.4.1/dist/css/loading.css\"}},{\"type\":\"object\",\"name\":\"ImportedStyleSheet\",\"id\":\"7916c6a6-cce0-4be4-82a6-03d4558a92cf\",\"attributes\":{\"url\":\"https://cdn.holoviz.org/panel/1.4.1/dist/css/listpanel.css\"}},{\"type\":\"object\",\"name\":\"ImportedStyleSheet\",\"id\":\"85109b88-2cbd-40aa-bfe6-97316a07b20d\",\"attributes\":{\"url\":\"https://cdn.holoviz.org/panel/1.4.1/dist/bundled/bootstrap5/css/bootstrap.min.css\"}},{\"type\":\"object\",\"name\":\"ImportedStyleSheet\",\"id\":\"2d503447-310b-4b25-ae9c-1193c5278379\",\"attributes\":{\"url\":\"https://cdn.holoviz.org/panel/1.4.1/dist/bundled/theme/default.css\"}},{\"type\":\"object\",\"name\":\"ImportedStyleSheet\",\"id\":\"3edde4f5-44c2-4395-9925-68896b26faaa\",\"attributes\":{\"url\":\"https://cdn.holoviz.org/panel/1.4.1/dist/bundled/theme/bootstrap_default.css\"}},{\"type\":\"object\",\"name\":\"ImportedStyleSheet\",\"id\":\"986513ac-8b7c-4c77-9f1a-a5a2549caa73\",\"attributes\":{\"url\":\"https://cdn.holoviz.org/panel/1.4.1/dist/bundled/theme/bootstrap.css\"}}],\"margin\":0,\"align\":\"start\",\"children\":[{\"type\":\"object\",\"name\":\"panel.models.layout.Column\",\"id\":\"fc29e742-e66a-4116-bfbc-f53f77cecf3f\",\"attributes\":{\"name\":\"Column00154\",\"stylesheets\":[\"\\n:host(.pn-loading):before, .pn-loading:before {\\n  background-color: #c3c3c3;\\n  mask-size: auto calc(min(50%, 400px));\\n  -webkit-mask-size: auto calc(min(50%, 400px));\\n}\",{\"id\":\"b975a107-b01a-4434-b99c-ed7d02a2769d\"},{\"id\":\"7916c6a6-cce0-4be4-82a6-03d4558a92cf\"},{\"id\":\"85109b88-2cbd-40aa-bfe6-97316a07b20d\"},{\"id\":\"2d503447-310b-4b25-ae9c-1193c5278379\"},{\"id\":\"3edde4f5-44c2-4395-9925-68896b26faaa\"},{\"id\":\"986513ac-8b7c-4c77-9f1a-a5a2549caa73\"}],\"width\":300,\"min_width\":300,\"margin\":[5,10],\"align\":\"start\",\"children\":[{\"type\":\"object\",\"name\":\"Row\",\"id\":\"f3ca2913-18df-48e6-81e2-43dc00d3b312\",\"attributes\":{\"name\":\"Row00160\",\"stylesheets\":[\"\\n:host(.pn-loading):before, .pn-loading:before {\\n  background-color: #c3c3c3;\\n  mask-size: auto calc(min(50%, 400px));\\n  -webkit-mask-size: auto calc(min(50%, 400px));\\n}\",{\"id\":\"b975a107-b01a-4434-b99c-ed7d02a2769d\"},{\"id\":\"7916c6a6-cce0-4be4-82a6-03d4558a92cf\"},{\"id\":\"85109b88-2cbd-40aa-bfe6-97316a07b20d\"},{\"id\":\"2d503447-310b-4b25-ae9c-1193c5278379\"},{\"id\":\"3edde4f5-44c2-4395-9925-68896b26faaa\"},{\"id\":\"986513ac-8b7c-4c77-9f1a-a5a2549caa73\"}],\"min_width\":150,\"margin\":0,\"sizing_mode\":\"stretch_width\",\"align\":\"start\",\"children\":[{\"type\":\"object\",\"name\":\"Div\",\"id\":\"abd8243f-b06c-405b-ae63-769aee1843ef\",\"attributes\":{\"stylesheets\":[\"\\n:host(.pn-loading):before, .pn-loading:before {\\n  background-color: #c3c3c3;\\n  mask-size: auto calc(min(50%, 400px));\\n  -webkit-mask-size: auto calc(min(50%, 400px));\\n}\",{\"id\":\"b975a107-b01a-4434-b99c-ed7d02a2769d\"},{\"id\":\"85109b88-2cbd-40aa-bfe6-97316a07b20d\"},{\"id\":\"2d503447-310b-4b25-ae9c-1193c5278379\"},{\"id\":\"3edde4f5-44c2-4395-9925-68896b26faaa\"},{\"id\":\"986513ac-8b7c-4c77-9f1a-a5a2549caa73\"}],\"margin\":[0,10,0,0],\"align\":\"end\",\"text\":\"y_lim:\"}},{\"type\":\"object\",\"name\":\"Spinner\",\"id\":\"6342e160-e272-4c18-a2c5-af56ab5194f6\",\"attributes\":{\"js_property_callbacks\":{\"type\":\"map\",\"entries\":[[\"change:value\",[{\"type\":\"object\",\"name\":\"CustomJS\",\"id\":\"fbad2c72-ccd3-4bff-910d-d70d150ed46a\",\"attributes\":{\"tags\":[[140189445059680,[null,\"value\"],[null,null]]],\"args\":{\"type\":\"map\",\"entries\":[[\"source\",{\"id\":\"6342e160-e272-4c18-a2c5-af56ab5194f6\"}],[\"slider\",{\"type\":\"object\",\"name\":\"RangeSlider\",\"id\":\"1776695e-7a56-49a8-8afb-daf9f05d45bb\",\"attributes\":{\"stylesheets\":[\"\\n:host(.pn-loading):before, .pn-loading:before {\\n  background-color: #c3c3c3;\\n  mask-size: auto calc(min(50%, 400px));\\n  -webkit-mask-size: auto calc(min(50%, 400px));\\n}\",{\"id\":\"b975a107-b01a-4434-b99c-ed7d02a2769d\"},{\"id\":\"85109b88-2cbd-40aa-bfe6-97316a07b20d\"},{\"id\":\"2d503447-310b-4b25-ae9c-1193c5278379\"},{\"id\":\"3edde4f5-44c2-4395-9925-68896b26faaa\"},{\"id\":\"986513ac-8b7c-4c77-9f1a-a5a2549caa73\"}],\"margin\":[0,0,5,0],\"align\":\"start\",\"show_value\":false,\"format\":\"0.0[0000]\",\"value\":[3120.0,3720.0],\"start\":0,\"end\":3920.0,\"step\":10}}],[\"end\",{\"type\":\"object\",\"name\":\"Spinner\",\"id\":\"1c500cfa-57bc-4404-a1c4-0081e2d3c52f\",\"attributes\":{\"js_property_callbacks\":{\"type\":\"map\",\"entries\":[[\"change:value\",[{\"type\":\"object\",\"name\":\"CustomJS\",\"id\":\"5eb854b0-c0d1-4d5d-8535-7ab984a6adf6\",\"attributes\":{\"tags\":[[140176675690576,[null,\"value\"],[null,null]]],\"args\":{\"type\":\"map\",\"entries\":[[\"source\",{\"id\":\"1c500cfa-57bc-4404-a1c4-0081e2d3c52f\"}],[\"slider\",{\"id\":\"1776695e-7a56-49a8-8afb-daf9f05d45bb\"}],[\"start\",{\"id\":\"6342e160-e272-4c18-a2c5-af56ab5194f6\"}]]},\"code\":\"try { \\n        // end value always larger than the start value\\n        if (cb_obj.value <= start.value) {\\n          cb_obj.value = start.value\\n          return\\n        }\\n        if (cb_obj.value < slider.start) {\\n          slider.start = cb_obj.value\\n        } else if (cb_obj.value > slider.end) {\\n          slider.end = cb_obj.value\\n        }\\n         } catch(err) { console.log(err) }\"}}]]]},\"css_classes\":[\"slider-edit\"],\"stylesheets\":[\"\\n:host(.pn-loading):before, .pn-loading:before {\\n  background-color: #c3c3c3;\\n  mask-size: auto calc(min(50%, 400px));\\n  -webkit-mask-size: auto calc(min(50%, 400px));\\n}\",{\"id\":\"b975a107-b01a-4434-b99c-ed7d02a2769d\"},{\"id\":\"85109b88-2cbd-40aa-bfe6-97316a07b20d\"},{\"id\":\"2d503447-310b-4b25-ae9c-1193c5278379\"},{\"id\":\"3edde4f5-44c2-4395-9925-68896b26faaa\"},{\"id\":\"986513ac-8b7c-4c77-9f1a-a5a2549caa73\"},{\"type\":\"object\",\"name\":\"ImportedStyleSheet\",\"id\":\"4045f11e-7144-4171-8298-2d88639cb46b\",\"attributes\":{\"url\":\"https://cdn.holoviz.org/panel/1.4.1/dist/css/editable_slider.css\"}}],\"width\":75,\"min_width\":75,\"margin\":[0,0,0,10],\"align\":\"start\",\"value\":3720.0,\"format\":\"0.0[0000]\",\"step\":10}}]]},\"code\":\"try { \\n        // start value always smaller than the end value\\n        if (cb_obj.value >= end.value) {\\n          cb_obj.value = end.value\\n          return\\n        }\\n        if (cb_obj.value < slider.start) {\\n          slider.start = cb_obj.value\\n        } else if (cb_obj.value > slider.end) {\\n          slider.end = cb_obj.value\\n        }\\n         } catch(err) { console.log(err) }\"}}]]]},\"css_classes\":[\"slider-edit\"],\"stylesheets\":[\"\\n:host(.pn-loading):before, .pn-loading:before {\\n  background-color: #c3c3c3;\\n  mask-size: auto calc(min(50%, 400px));\\n  -webkit-mask-size: auto calc(min(50%, 400px));\\n}\",{\"id\":\"b975a107-b01a-4434-b99c-ed7d02a2769d\"},{\"id\":\"85109b88-2cbd-40aa-bfe6-97316a07b20d\"},{\"id\":\"2d503447-310b-4b25-ae9c-1193c5278379\"},{\"id\":\"3edde4f5-44c2-4395-9925-68896b26faaa\"},{\"id\":\"986513ac-8b7c-4c77-9f1a-a5a2549caa73\"},{\"id\":\"4045f11e-7144-4171-8298-2d88639cb46b\"}],\"width\":75,\"min_width\":75,\"margin\":0,\"align\":\"start\",\"value\":3120.0,\"format\":\"0.0[0000]\",\"step\":10}},{\"type\":\"object\",\"name\":\"Div\",\"id\":\"0e7ff80e-a1b7-4139-93ac-a4eb7ce218df\",\"attributes\":{\"stylesheets\":[\"\\n:host(.pn-loading):before, .pn-loading:before {\\n  background-color: #c3c3c3;\\n  mask-size: auto calc(min(50%, 400px));\\n  -webkit-mask-size: auto calc(min(50%, 400px));\\n}\",{\"id\":\"b975a107-b01a-4434-b99c-ed7d02a2769d\"},{\"id\":\"85109b88-2cbd-40aa-bfe6-97316a07b20d\"},{\"id\":\"2d503447-310b-4b25-ae9c-1193c5278379\"},{\"id\":\"3edde4f5-44c2-4395-9925-68896b26faaa\"},{\"id\":\"986513ac-8b7c-4c77-9f1a-a5a2549caa73\"}],\"margin\":[0,5,0,5],\"align\":\"end\",\"text\":\"...\"}},{\"id\":\"1c500cfa-57bc-4404-a1c4-0081e2d3c52f\"}]}},{\"id\":\"1776695e-7a56-49a8-8afb-daf9f05d45bb\"}]}},{\"type\":\"object\",\"name\":\"panel.models.layout.Column\",\"id\":\"57f3c077-e245-4697-b2ab-28d81b47069c\",\"attributes\":{\"name\":\"Column00167\",\"stylesheets\":[\"\\n:host(.pn-loading):before, .pn-loading:before {\\n  background-color: #c3c3c3;\\n  mask-size: auto calc(min(50%, 400px));\\n  -webkit-mask-size: auto calc(min(50%, 400px));\\n}\",{\"id\":\"b975a107-b01a-4434-b99c-ed7d02a2769d\"},{\"id\":\"7916c6a6-cce0-4be4-82a6-03d4558a92cf\"},{\"id\":\"85109b88-2cbd-40aa-bfe6-97316a07b20d\"},{\"id\":\"2d503447-310b-4b25-ae9c-1193c5278379\"},{\"id\":\"3edde4f5-44c2-4395-9925-68896b26faaa\"},{\"id\":\"986513ac-8b7c-4c77-9f1a-a5a2549caa73\"}],\"margin\":0,\"align\":\"start\",\"children\":[{\"type\":\"object\",\"name\":\"panel.models.markup.HTML\",\"id\":\"0aef10fa-b216-4aac-8faf-9a97f976c9a3\",\"attributes\":{\"stylesheets\":[\"\\n:host(.pn-loading):before, .pn-loading:before {\\n  background-color: #c3c3c3;\\n  mask-size: auto calc(min(50%, 400px));\\n  -webkit-mask-size: auto calc(min(50%, 400px));\\n}\",{\"id\":\"b975a107-b01a-4434-b99c-ed7d02a2769d\"},{\"id\":\"85109b88-2cbd-40aa-bfe6-97316a07b20d\"},{\"id\":\"2d503447-310b-4b25-ae9c-1193c5278379\"},{\"id\":\"3edde4f5-44c2-4395-9925-68896b26faaa\"},{\"id\":\"986513ac-8b7c-4c77-9f1a-a5a2549caa73\"}],\"width\":1440,\"height\":864,\"min_width\":1440,\"min_height\":864,\"margin\":[5,10],\"align\":\"start\",\"text\":\"&lt;img src=&quot;data:image/png;base64,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&quot;  style=&quot;max-width: 100%; max-height: 100%; object-fit: contain; width: 1440px; height: 864px;&quot;&gt;&lt;/img&gt;\"}}]}}]}},{\"type\":\"object\",\"name\":\"panel.models.comm_manager.CommManager\",\"id\":\"fd951783-5298-4cdb-9178-70e4f89145c0\",\"attributes\":{\"plot_id\":\"0da5989e-6640-477b-a8ff-cdd89102b963\",\"comm_id\":\"a491b0dc2dbd49ce828989ae642e42de\",\"client_comm_id\":\"26ea5793d75d41138cca74ab52d99ab5\"}}],\"defs\":[{\"type\":\"model\",\"name\":\"ReactiveHTML1\"},{\"type\":\"model\",\"name\":\"FlexBox1\",\"properties\":[{\"name\":\"align_content\",\"kind\":\"Any\",\"default\":\"flex-start\"},{\"name\":\"align_items\",\"kind\":\"Any\",\"default\":\"flex-start\"},{\"name\":\"flex_direction\",\"kind\":\"Any\",\"default\":\"row\"},{\"name\":\"flex_wrap\",\"kind\":\"Any\",\"default\":\"wrap\"},{\"name\":\"gap\",\"kind\":\"Any\",\"default\":\"\"},{\"name\":\"justify_content\",\"kind\":\"Any\",\"default\":\"flex-start\"}]},{\"type\":\"model\",\"name\":\"FloatPanel1\",\"properties\":[{\"name\":\"config\",\"kind\":\"Any\",\"default\":{\"type\":\"map\"}},{\"name\":\"contained\",\"kind\":\"Any\",\"default\":true},{\"name\":\"position\",\"kind\":\"Any\",\"default\":\"right-top\"},{\"name\":\"offsetx\",\"kind\":\"Any\",\"default\":null},{\"name\":\"offsety\",\"kind\":\"Any\",\"default\":null},{\"name\":\"theme\",\"kind\":\"Any\",\"default\":\"primary\"},{\"name\":\"status\",\"kind\":\"Any\",\"default\":\"normalized\"}]},{\"type\":\"model\",\"name\":\"GridStack1\",\"properties\":[{\"name\":\"mode\",\"kind\":\"Any\",\"default\":\"warn\"},{\"name\":\"ncols\",\"kind\":\"Any\",\"default\":null},{\"name\":\"nrows\",\"kind\":\"Any\",\"default\":null},{\"name\":\"allow_resize\",\"kind\":\"Any\",\"default\":true},{\"name\":\"allow_drag\",\"kind\":\"Any\",\"default\":true},{\"name\":\"state\",\"kind\":\"Any\",\"default\":[]}]},{\"type\":\"model\",\"name\":\"drag1\",\"properties\":[{\"name\":\"slider_width\",\"kind\":\"Any\",\"default\":5},{\"name\":\"slider_color\",\"kind\":\"Any\",\"default\":\"black\"},{\"name\":\"value\",\"kind\":\"Any\",\"default\":50}]},{\"type\":\"model\",\"name\":\"click1\",\"properties\":[{\"name\":\"terminal_output\",\"kind\":\"Any\",\"default\":\"\"},{\"name\":\"debug_name\",\"kind\":\"Any\",\"default\":\"\"},{\"name\":\"clears\",\"kind\":\"Any\",\"default\":0}]},{\"type\":\"model\",\"name\":\"FastWrapper1\",\"properties\":[{\"name\":\"object\",\"kind\":\"Any\",\"default\":null},{\"name\":\"style\",\"kind\":\"Any\",\"default\":null}]},{\"type\":\"model\",\"name\":\"NotificationAreaBase1\",\"properties\":[{\"name\":\"js_events\",\"kind\":\"Any\",\"default\":{\"type\":\"map\"}},{\"name\":\"position\",\"kind\":\"Any\",\"default\":\"bottom-right\"},{\"name\":\"_clear\",\"kind\":\"Any\",\"default\":0}]},{\"type\":\"model\",\"name\":\"NotificationArea1\",\"properties\":[{\"name\":\"js_events\",\"kind\":\"Any\",\"default\":{\"type\":\"map\"}},{\"name\":\"notifications\",\"kind\":\"Any\",\"default\":[]},{\"name\":\"position\",\"kind\":\"Any\",\"default\":\"bottom-right\"},{\"name\":\"_clear\",\"kind\":\"Any\",\"default\":0},{\"name\":\"types\",\"kind\":\"Any\",\"default\":[{\"type\":\"map\",\"entries\":[[\"type\",\"warning\"],[\"background\",\"#ffc107\"],[\"icon\",{\"type\":\"map\",\"entries\":[[\"className\",\"fas fa-exclamation-triangle\"],[\"tagName\",\"i\"],[\"color\",\"white\"]]}]]},{\"type\":\"map\",\"entries\":[[\"type\",\"info\"],[\"background\",\"#007bff\"],[\"icon\",{\"type\":\"map\",\"entries\":[[\"className\",\"fas fa-info-circle\"],[\"tagName\",\"i\"],[\"color\",\"white\"]]}]]}]}]},{\"type\":\"model\",\"name\":\"Notification\",\"properties\":[{\"name\":\"background\",\"kind\":\"Any\",\"default\":null},{\"name\":\"duration\",\"kind\":\"Any\",\"default\":3000},{\"name\":\"icon\",\"kind\":\"Any\",\"default\":null},{\"name\":\"message\",\"kind\":\"Any\",\"default\":\"\"},{\"name\":\"notification_type\",\"kind\":\"Any\",\"default\":null},{\"name\":\"_destroyed\",\"kind\":\"Any\",\"default\":false}]},{\"type\":\"model\",\"name\":\"TemplateActions1\",\"properties\":[{\"name\":\"open_modal\",\"kind\":\"Any\",\"default\":0},{\"name\":\"close_modal\",\"kind\":\"Any\",\"default\":0}]},{\"type\":\"model\",\"name\":\"BootstrapTemplateActions1\",\"properties\":[{\"name\":\"open_modal\",\"kind\":\"Any\",\"default\":0},{\"name\":\"close_modal\",\"kind\":\"Any\",\"default\":0}]},{\"type\":\"model\",\"name\":\"TemplateEditor1\",\"properties\":[{\"name\":\"layout\",\"kind\":\"Any\",\"default\":[]}]},{\"type\":\"model\",\"name\":\"MaterialTemplateActions1\",\"properties\":[{\"name\":\"open_modal\",\"kind\":\"Any\",\"default\":0},{\"name\":\"close_modal\",\"kind\":\"Any\",\"default\":0}]},{\"type\":\"model\",\"name\":\"copy_to_clipboard1\",\"properties\":[{\"name\":\"fill\",\"kind\":\"Any\",\"default\":\"none\"},{\"name\":\"value\",\"kind\":\"Any\",\"default\":null}]}]}};\n",
       "  var render_items = [{\"docid\":\"8ad19fde-53b2-41c7-94a1-450f1ae833fe\",\"roots\":{\"0da5989e-6640-477b-a8ff-cdd89102b963\":\"d900ad9a-4a73-495a-ad29-832bddd3d5a0\"},\"root_ids\":[\"0da5989e-6640-477b-a8ff-cdd89102b963\"]}];\n",
       "  var docs = Object.values(docs_json)\n",
       "  if (!docs) {\n",
       "    return\n",
       "  }\n",
       "  const py_version = docs[0].version.replace('rc', '-rc.').replace('.dev', '-dev.')\n",
       "  function embed_document(root) {\n",
       "    var Bokeh = get_bokeh(root)\n",
       "    Bokeh.embed.embed_items_notebook(docs_json, render_items);\n",
       "    for (const render_item of render_items) {\n",
       "      for (const root_id of render_item.root_ids) {\n",
       "\tconst id_el = document.getElementById(root_id)\n",
       "\tif (id_el.children.length && (id_el.children[0].className === 'bk-root')) {\n",
       "\t  const root_el = id_el.children[0]\n",
       "\t  root_el.id = root_el.id + '-rendered'\n",
       "\t}\n",
       "      }\n",
       "    }\n",
       "  }\n",
       "  function get_bokeh(root) {\n",
       "    if (root.Bokeh === undefined) {\n",
       "      return null\n",
       "    } else if (root.Bokeh.version !== py_version) {\n",
       "      if (root.Bokeh.versions === undefined || !root.Bokeh.versions.has(py_version)) {\n",
       "\treturn null\n",
       "      }\n",
       "      return root.Bokeh.versions.get(py_version);\n",
       "    } else if (root.Bokeh.version === py_version) {\n",
       "      return root.Bokeh\n",
       "    }\n",
       "    return null\n",
       "  }\n",
       "  function is_loaded(root) {\n",
       "    var Bokeh = get_bokeh(root)\n",
       "    return (Bokeh != null && Bokeh.Panel !== undefined)\n",
       "  }\n",
       "  if (is_loaded(root)) {\n",
       "    embed_document(root);\n",
       "  } else {\n",
       "    var attempts = 0;\n",
       "    var timer = setInterval(function(root) {\n",
       "      if (is_loaded(root)) {\n",
       "        clearInterval(timer);\n",
       "        embed_document(root);\n",
       "      } else if (document.readyState == \"complete\") {\n",
       "        attempts++;\n",
       "        if (attempts > 200) {\n",
       "          clearInterval(timer);\n",
       "\t  var Bokeh = get_bokeh(root)\n",
       "\t  if (Bokeh == null || Bokeh.Panel == null) {\n",
       "            console.warn(\"Panel: ERROR: Unable to run Panel code because Bokeh or Panel library is missing\");\n",
       "\t  } else {\n",
       "\t    console.warn(\"Panel: WARNING: Attempting to render but not all required libraries could be resolved.\")\n",
       "\t    embed_document(root)\n",
       "\t  }\n",
       "        }\n",
       "      }\n",
       "    }, 25, root)\n",
       "  }\n",
       "})(window);</script>"
      ],
      "text/plain": [
       "Column(design=<class 'panel.theme.bootst...)\n",
       "    [0] EditableRangeSlider(design=<class 'panel.theme.bootst..., end=3920.0, name='y_lim', step=10, value=(3120.0, 3720.0), width=300)\n",
       "    [1] ParamFunction(function, _pane=Matplotlib, defer_load=False, design=<class 'panel.theme.bootst...)"
      ]
     },
     "execution_count": 162,
     "metadata": {
      "application/vnd.holoviews_exec.v0+json": {
       "id": "0da5989e-6640-477b-a8ff-cdd89102b963"
      }
     },
     "output_type": "execute_result"
    }
   ],
   "source": [
    "plot_probe(raw_rec, channel_labels.values.flatten())"
   ]
  },
  {
   "cell_type": "code",
   "execution_count": null,
   "id": "49b8bab8-e6e0-435a-b6e7-2ce29e3437d9",
   "metadata": {},
   "outputs": [],
   "source": [
    "# remove bad channels\n",
    "raw_rec = raw_rec.remove_channels(bad_channel_ids)\n",
    "print(\"bad channels removed\")"
   ]
  },
  {
   "cell_type": "markdown",
   "id": "e9e44dbc-60e4-4f63-b78e-5b485fcc63c3",
   "metadata": {},
   "source": [
    "## Sorting"
   ]
  },
  {
   "cell_type": "code",
   "execution_count": 127,
   "id": "2064f01d-d162-4d35-9fc2-5bfb3d372b29",
   "metadata": {
    "scrolled": true
   },
   "outputs": [
    {
     "name": "stdout",
     "output_type": "stream",
     "text": [
      "GPU available: n = 1\n",
      "========================================\n",
      "Loading recording with SpikeInterface...\n",
      "number of samples: 31760248\n",
      "number of channels: 384\n",
      "numbef of segments: 1\n",
      "sampling rate: 30000.0\n",
      "dtype: int16\n",
      "========================================\n",
      "Preprocessing filters computed in  14.91s; total  14.91s\n",
      "\n",
      "computing drift\n",
      "Re-computing universal templates from data.\n"
     ]
    },
    {
     "name": "stderr",
     "output_type": "stream",
     "text": [
      "100%|█████████████████████████████████████████████████████████████████████████████████████████████████████████████████████████████████████████████████████████████████████████████████████████████████████████████████████████████| 530/530 [09:20<00:00,  1.06s/it]\n"
     ]
    },
    {
     "name": "stdout",
     "output_type": "stream",
     "text": [
      "drift computed in  575.12s; total  590.03s\n",
      "\n",
      "Extracting spikes using templates\n",
      "Re-computing universal templates from data.\n"
     ]
    },
    {
     "name": "stderr",
     "output_type": "stream",
     "text": [
      "100%|█████████████████████████████████████████████████████████████████████████████████████████████████████████████████████████████████████████████████████████████████████████████████████████████████████████████████████████████| 530/530 [09:30<00:00,  1.08s/it]\n"
     ]
    },
    {
     "name": "stdout",
     "output_type": "stream",
     "text": [
      "2660635 spikes extracted in  579.12s; total  1169.15s\n",
      "\n",
      "First clustering\n"
     ]
    },
    {
     "name": "stderr",
     "output_type": "stream",
     "text": [
      "100%|███████████████████████████████████████████████████████████████████████████████████████████████████████████████████████████████████████████████████████████████████████████████████████████████████████████████████████████████| 96/96 [11:29<00:00,  7.18s/it]\n"
     ]
    },
    {
     "name": "stdout",
     "output_type": "stream",
     "text": [
      "316 clusters found, in  690.26s; total  1859.41s\n",
      "\n",
      "Extracting spikes using cluster waveforms\n"
     ]
    },
    {
     "name": "stderr",
     "output_type": "stream",
     "text": [
      "100%|█████████████████████████████████████████████████████████████████████████████████████████████████████████████████████████████████████████████████████████████████████████████████████████████████████████████████████████████| 530/530 [04:26<00:00,  1.99it/s]\n"
     ]
    },
    {
     "name": "stdout",
     "output_type": "stream",
     "text": [
      "3289959 spikes extracted in  267.03s; total  2126.44s\n",
      "\n",
      "Final clustering\n"
     ]
    },
    {
     "name": "stderr",
     "output_type": "stream",
     "text": [
      "100%|███████████████████████████████████████████████████████████████████████████████████████████████████████████████████████████████████████████████████████████████████████████████████████████████████████████████████████████████| 96/96 [08:47<00:00,  5.50s/it]\n"
     ]
    },
    {
     "name": "stdout",
     "output_type": "stream",
     "text": [
      "281 clusters found, in  528.03s; total  2654.48s\n",
      "\n",
      "Merging clusters\n",
      "278 units found, in  2.77s; total  2657.25s\n",
      "\n",
      "Saving to phy and computing refractory periods\n",
      "51 units found with good refractory periods\n",
      "\n",
      "Total runtime: 2693.37s = 00:44:53 h:m:s\n",
      "kilosort4 run time 2695.52s\n",
      "========================================\n",
      "Loading recording with SpikeInterface...\n",
      "number of samples: 31760248\n",
      "number of channels: 384\n",
      "numbef of segments: 1\n",
      "sampling rate: 30000.0\n",
      "dtype: int16\n",
      "========================================\n",
      "Preprocessing filters computed in  7.63s; total  7.63s\n",
      "\n",
      "computing drift\n",
      "Re-computing universal templates from data.\n"
     ]
    },
    {
     "name": "stderr",
     "output_type": "stream",
     "text": [
      "100%|█████████████████████████████████████████████████████████████████████████████████████████████████████████████████████████████████████████████████████████████████████████████████████████████████████████████████████████████| 530/530 [08:42<00:00,  1.01it/s]\n"
     ]
    },
    {
     "name": "stdout",
     "output_type": "stream",
     "text": [
      "drift computed in  534.21s; total  541.84s\n",
      "\n",
      "Extracting spikes using templates\n",
      "Re-computing universal templates from data.\n"
     ]
    },
    {
     "name": "stderr",
     "output_type": "stream",
     "text": [
      "100%|█████████████████████████████████████████████████████████████████████████████████████████████████████████████████████████████████████████████████████████████████████████████████████████████████████████████████████████████| 530/530 [08:45<00:00,  1.01it/s]\n"
     ]
    },
    {
     "name": "stdout",
     "output_type": "stream",
     "text": [
      "2663567 spikes extracted in  535.87s; total  1077.71s\n",
      "\n",
      "First clustering\n"
     ]
    },
    {
     "name": "stderr",
     "output_type": "stream",
     "text": [
      "100%|███████████████████████████████████████████████████████████████████████████████████████████████████████████████████████████████████████████████████████████████████████████████████████████████████████████████████████████████| 96/96 [09:24<00:00,  5.88s/it]\n"
     ]
    },
    {
     "name": "stdout",
     "output_type": "stream",
     "text": [
      "280 clusters found, in  564.46s; total  1642.17s\n",
      "\n",
      "Extracting spikes using cluster waveforms\n"
     ]
    },
    {
     "name": "stderr",
     "output_type": "stream",
     "text": [
      "100%|█████████████████████████████████████████████████████████████████████████████████████████████████████████████████████████████████████████████████████████████████████████████████████████████████████████████████████████████| 530/530 [04:31<00:00,  1.96it/s]\n"
     ]
    },
    {
     "name": "stdout",
     "output_type": "stream",
     "text": [
      "2707619 spikes extracted in  271.49s; total  1913.66s\n",
      "\n",
      "Final clustering\n"
     ]
    },
    {
     "name": "stderr",
     "output_type": "stream",
     "text": [
      "100%|███████████████████████████████████████████████████████████████████████████████████████████████████████████████████████████████████████████████████████████████████████████████████████████████████████████████████████████████| 96/96 [05:45<00:00,  3.59s/it]\n"
     ]
    },
    {
     "name": "stdout",
     "output_type": "stream",
     "text": [
      "269 clusters found, in  345.05s; total  2258.72s\n",
      "\n",
      "Merging clusters\n",
      "265 units found, in  2.20s; total  2260.92s\n",
      "\n",
      "Saving to phy and computing refractory periods\n",
      "41 units found with good refractory periods\n",
      "\n",
      "Total runtime: 2293.39s = 00:38:13 h:m:s\n",
      "kilosort4 run time 2295.68s\n",
      "CPU times: user 19h 59min 21s, sys: 28min 21s, total: 20h 27min 42s\n",
      "Wall time: 1h 23min 19s\n"
     ]
    }
   ],
   "source": [
    "%%time\n",
    "\n",
    "check_gpu_availability()\n",
    "\n",
    "split_preprocessed_recording = raw_rec.split_by(\"group\")\n",
    "for group, sub_rec in split_preprocessed_recording.items():\n",
    "    sorting = si.run_sorter(\n",
    "        sorter_name=\"kilosort4\",\n",
    "        recording=sub_rec,\n",
    "        output_folder=f\"{path_recording_folder}/spike_interface_output/probe{group}\",\n",
    "        verbose=True,\n",
    "        remove_existing_folder=True\n",
    "        )"
   ]
  },
  {
   "cell_type": "markdown",
   "id": "32189ba6-4c10-4baf-84c2-bfc309203fb5",
   "metadata": {},
   "source": []
  },
  {
   "cell_type": "markdown",
   "id": "50701cbf-91a9-4dbc-b561-11e618956a51",
   "metadata": {},
   "source": [
    "# Post-processing"
   ]
  },
  {
   "cell_type": "markdown",
   "id": "37f72bdb-a244-4e48-ab62-30ab6fe09ff1",
   "metadata": {},
   "source": [
    "## Manual curation with Phy"
   ]
  },
  {
   "cell_type": "markdown",
   "id": "04d500c2-92ea-4215-8759-5c319a2fa56c",
   "metadata": {},
   "source": [
    "### Add custom metrics in phy"
   ]
  },
  {
   "cell_type": "code",
   "execution_count": 235,
   "id": "fbc07281-374d-40cf-8803-b1198c48e0d6",
   "metadata": {},
   "outputs": [],
   "source": [
    "from spikeinterface.core import write_binary_recording\n",
    "from Utils.Settings import job_kwargs\n",
    "from Utils.Paths import conda_path\n",
    "from spikeinterface import create_sorting_analyzer"
   ]
  },
  {
   "cell_type": "code",
   "execution_count": null,
   "id": "b8e79729-c072-45f5-a189-436f4b569d90",
   "metadata": {},
   "outputs": [],
   "source": [
    "%%time\n",
    "split_preprocessed_recording = raw_rec.split_by(\"group\")\n",
    "\n",
    "for group, sub_rec in split_preprocessed_recording.items():\n",
    "    write_binary_recording( sub_rec, file_paths=f\"{path_recording_folder}/spike_interface_output/probe{group}/sorter_output/recording.dat\", **job_kwargs)\n",
    "\n",
    "    with (f\"{path_recording_folder}/spike_interface_output/probe{group}/sorter_output/params.py\").open(\"w\") as f:\n",
    "            f.write(f\"dat_path = r'recording.dat'\\n\")\n",
    "\n",
    "    # compute 'isi_violation', 'presence_ratio' to add to phy\n",
    "    analyzer = create_sorting_analyzer(sorting, sub_rec, sparse=True, format=\"memory\", **job_kwargs , \n",
    "                                           folder=f\"{path_recording_folder}/spike_interface_output/probe{group}/sorting_analyzer\")\n",
    "\n",
    "    analyzer.compute({\"random_spikes\": dict(method=\"uniform\", max_spikes_per_unit=500), \n",
    "                  \"templates\": dict(),\n",
    "                   \"noise_levels\":dict(),\n",
    "                  \"quality_metrics\": dict(metric_names=['isi_violation', 'presence_ratio'])})\n",
    "    metrics = analyzer.get_extension('quality_metrics').get_data()\n",
    "    metrics.index.name=\"cluster_id\"\n",
    "    metrics.reset_index(inplace=True)\n",
    "    #create .tsv files in sorter_output folder\n",
    "    for metric in ['isi_violation', 'presence_ratio']:\n",
    "        metrics[[\"cluster_id\", metric]].to_csv(f\"{path_recording_folder}/spike_interface_output/probe{group}/sorter_output/cluster_{metric}.tsv\", sep=\"\\t\", index=False)\n",
    "\n",
    "    # Use ks labels as default\n",
    "    kslabels = pd.read_csv(f\"{path_recording_folder}/spike_interface_output/probe{group}/sorter_output/cluster_KSLabel.tsv\", sep=\"\\t\")\n",
    "    kslabels.rename(columns={\"KSLabel\": \"group\"}, inplace=True)\n",
    "    kslabels.to_csv(f\"{path_recording_folder}/spike_interface_output/probe{group}/sorter_output/cluster_group.tsv\", sep=\"\\t\", index=False)"
   ]
  },
  {
   "cell_type": "markdown",
   "id": "abbecdf5-dd2d-48a0-9802-1fc11957c7a9",
   "metadata": {},
   "source": [
    "### Open phy"
   ]
  },
  {
   "cell_type": "code",
   "execution_count": 292,
   "id": "d6fca62e-5493-4baa-bd74-e190464839f6",
   "metadata": {},
   "outputs": [],
   "source": [
    "group = 0"
   ]
  },
  {
   "cell_type": "code",
   "execution_count": 293,
   "id": "8fb48a20-7bcb-4fd9-a794-3e5f84d90dfc",
   "metadata": {},
   "outputs": [
    {
     "name": "stdout",
     "output_type": "stream",
     "text": [
      "\u001b[33m17:12:35.098 [W] model:667            Skipping spike waveforms that do not exist, they will be extracted on the fly from the raw data as needed.\u001b[0m\n",
      "[3055417:7:0426/171241.855654:ERROR:command_buffer_proxy_impl.cc(141)] ContextResult::kTransientFailure: Failed to send GpuChannelMsg_CreateCommandBuffer.\n",
      "[3055418:7:0426/171241.855821:ERROR:command_buffer_proxy_impl.cc(141)] ContextResult::kTransientFailure: Failed to send GpuChannelMsg_CreateCommandBuffer.\n",
      "\u001b[0m17:17:37.108 [I] supervisor:700       Merge clusters 0, 1 to 278.\u001b[0m\n",
      "^C\n"
     ]
    }
   ],
   "source": [
    "dynamic_path = f\"{path_recording_folder}/spike_interface_output/probe{group}/sorter_output\"  # Set your path here\n",
    "\n",
    "! source $conda_path && conda activate phy2 && cd $dynamic_path && phy template-gui params.py\n"
   ]
  },
  {
   "cell_type": "markdown",
   "id": "fca4efe2-ea6b-465c-874b-8bb7afd5d98a",
   "metadata": {},
   "source": [
    "# Calculate metrics on selected clusters"
   ]
  },
  {
   "cell_type": "code",
   "execution_count": null,
   "id": "6820791d-3958-4425-aa14-f00a0dcf6c61",
   "metadata": {},
   "outputs": [],
   "source": [
    "from spikeinterface.extractors import read_phy\n",
    "from spikeinterface import create_sorting_analyzer, load_sorting_analyzer\n",
    "from spikeinterface.qualitymetrics import compute_quality_metrics, get_quality_metric_list, get_quality_pca_metric_list\n",
    "from spikeinterface.sorters import read_sorter_folder\n",
    "from spikeinterface.postprocessing import compute_template_metrics\n",
    "from spikeinterface.exporters import export_to_phy\n",
    "from spikeinterface.core import write_binary_recording"
   ]
  },
  {
   "cell_type": "code",
   "execution_count": 32,
   "id": "740fea32-60d3-44d1-a45f-ba52488211b4",
   "metadata": {
    "scrolled": true
   },
   "outputs": [
    {
     "name": "stdout",
     "output_type": "stream",
     "text": [
      "Processing probe0\n"
     ]
    },
    {
     "data": {
      "application/vnd.jupyter.widget-view+json": {
       "model_id": "4bd1bdebcc7149999606977956602236",
       "version_major": 2,
       "version_minor": 0
      },
      "text/plain": [
       "estimate_sparsity:   0%|          | 0/36 [00:00<?, ?it/s]"
      ]
     },
     "metadata": {},
     "output_type": "display_data"
    },
    {
     "data": {
      "application/vnd.jupyter.widget-view+json": {
       "model_id": "b11c218e617b4ba896d8adfe30cddaf6",
       "version_major": 2,
       "version_minor": 0
      },
      "text/plain": [
       "compute_waveforms:   0%|          | 0/1059 [00:00<?, ?it/s]"
      ]
     },
     "metadata": {},
     "output_type": "display_data"
    },
    {
     "name": "stderr",
     "output_type": "stream",
     "text": [
      "/alzheimer/Roberto/Software/mambaforge/envs/spikesorting/lib/python3.9/site-packages/sklearn/linear_model/_theil_sen.py:128: ConvergenceWarning: Maximum number of iterations 300 reached in spatial median for TheilSen regressor.\n",
      "  warnings.warn(\n",
      "/alzheimer/Roberto/Software/mambaforge/envs/spikesorting/lib/python3.9/site-packages/sklearn/linear_model/_theil_sen.py:128: ConvergenceWarning: Maximum number of iterations 300 reached in spatial median for TheilSen regressor.\n",
      "  warnings.warn(\n",
      "/alzheimer/Roberto/Software/mambaforge/envs/spikesorting/lib/python3.9/site-packages/sklearn/linear_model/_theil_sen.py:128: ConvergenceWarning: Maximum number of iterations 300 reached in spatial median for TheilSen regressor.\n",
      "  warnings.warn(\n",
      "/alzheimer/Roberto/Software/mambaforge/envs/spikesorting/lib/python3.9/site-packages/sklearn/linear_model/_theil_sen.py:128: ConvergenceWarning: Maximum number of iterations 300 reached in spatial median for TheilSen regressor.\n",
      "  warnings.warn(\n",
      "/alzheimer/Roberto/Software/mambaforge/envs/spikesorting/lib/python3.9/site-packages/sklearn/linear_model/_theil_sen.py:128: ConvergenceWarning: Maximum number of iterations 300 reached in spatial median for TheilSen regressor.\n",
      "  warnings.warn(\n",
      "/alzheimer/Roberto/Software/mambaforge/envs/spikesorting/lib/python3.9/site-packages/sklearn/linear_model/_theil_sen.py:128: ConvergenceWarning: Maximum number of iterations 300 reached in spatial median for TheilSen regressor.\n",
      "  warnings.warn(\n",
      "/alzheimer/Roberto/Software/mambaforge/envs/spikesorting/lib/python3.9/site-packages/sklearn/linear_model/_theil_sen.py:128: ConvergenceWarning: Maximum number of iterations 300 reached in spatial median for TheilSen regressor.\n",
      "  warnings.warn(\n",
      "/alzheimer/Roberto/Software/mambaforge/envs/spikesorting/lib/python3.9/site-packages/sklearn/linear_model/_theil_sen.py:128: ConvergenceWarning: Maximum number of iterations 300 reached in spatial median for TheilSen regressor.\n",
      "  warnings.warn(\n",
      "/alzheimer/Roberto/Software/mambaforge/envs/spikesorting/lib/python3.9/site-packages/sklearn/linear_model/_theil_sen.py:128: ConvergenceWarning: Maximum number of iterations 300 reached in spatial median for TheilSen regressor.\n",
      "  warnings.warn(\n",
      "/alzheimer/Roberto/Software/mambaforge/envs/spikesorting/lib/python3.9/site-packages/sklearn/linear_model/_theil_sen.py:128: ConvergenceWarning: Maximum number of iterations 300 reached in spatial median for TheilSen regressor.\n",
      "  warnings.warn(\n",
      "/alzheimer/Roberto/Software/mambaforge/envs/spikesorting/lib/python3.9/site-packages/scipy/stats/_stats_mstats_common.py:182: RuntimeWarning: invalid value encountered in scalar divide\n",
      "  slope = ssxym / ssxm\n",
      "/alzheimer/Roberto/Software/mambaforge/envs/spikesorting/lib/python3.9/site-packages/scipy/stats/_stats_mstats_common.py:196: RuntimeWarning: invalid value encountered in sqrt\n",
      "  t = r * np.sqrt(df / ((1.0 - r + TINY)*(1.0 + r + TINY)))\n",
      "/alzheimer/Roberto/Software/mambaforge/envs/spikesorting/lib/python3.9/site-packages/scipy/stats/_stats_mstats_common.py:199: RuntimeWarning: invalid value encountered in scalar divide\n",
      "  slope_stderr = np.sqrt((1 - r**2) * ssym / ssxm / df)\n",
      "/alzheimer/Roberto/Software/mambaforge/envs/spikesorting/lib/python3.9/site-packages/sklearn/linear_model/_theil_sen.py:128: ConvergenceWarning: Maximum number of iterations 300 reached in spatial median for TheilSen regressor.\n",
      "  warnings.warn(\n",
      "/alzheimer/Roberto/Software/mambaforge/envs/spikesorting/lib/python3.9/site-packages/sklearn/linear_model/_theil_sen.py:128: ConvergenceWarning: Maximum number of iterations 300 reached in spatial median for TheilSen regressor.\n",
      "  warnings.warn(\n",
      "/alzheimer/Roberto/Software/mambaforge/envs/spikesorting/lib/python3.9/site-packages/sklearn/linear_model/_theil_sen.py:128: ConvergenceWarning: Maximum number of iterations 300 reached in spatial median for TheilSen regressor.\n",
      "  warnings.warn(\n",
      "/alzheimer/Roberto/Software/mambaforge/envs/spikesorting/lib/python3.9/site-packages/sklearn/linear_model/_theil_sen.py:128: ConvergenceWarning: Maximum number of iterations 300 reached in spatial median for TheilSen regressor.\n",
      "  warnings.warn(\n",
      "/alzheimer/Roberto/Software/mambaforge/envs/spikesorting/lib/python3.9/site-packages/sklearn/linear_model/_theil_sen.py:128: ConvergenceWarning: Maximum number of iterations 300 reached in spatial median for TheilSen regressor.\n",
      "  warnings.warn(\n"
     ]
    },
    {
     "data": {
      "application/vnd.jupyter.widget-view+json": {
       "model_id": "4415531a6e12448da41624b73e3358b3",
       "version_major": 2,
       "version_minor": 0
      },
      "text/plain": [
       "Compute : spike_amplitudes + spike_locations:   0%|          | 0/1059 [00:00<?, ?it/s]"
      ]
     },
     "metadata": {},
     "output_type": "display_data"
    },
    {
     "name": "stderr",
     "output_type": "stream",
     "text": [
      "/alzheimer/Roberto/Software/mambaforge/envs/spikesorting/lib/python3.9/site-packages/spikeinterface/sortingcomponents/peak_localization.py:215: RuntimeWarning: invalid value encountered in divide\n",
      "  coms = np.dot(wf_data, local_contact_locations) / (np.sum(wf_data, axis=1)[:, np.newaxis])\n",
      "/alzheimer/Roberto/Software/mambaforge/envs/spikesorting/lib/python3.9/site-packages/spikeinterface/qualitymetrics/misc_metrics.py:880: UserWarning: Some units have too few spikes : amplitude_cutoff is set to NaN\n",
      "  warnings.warn(f\"Some units have too few spikes : amplitude_cutoff is set to NaN\")\n",
      "/alzheimer/Roberto/Software/mambaforge/envs/spikesorting/lib/python3.9/site-packages/numpy/core/_methods.py:206: RuntimeWarning: Degrees of freedom <= 0 for slice\n",
      "  ret = _var(a, axis=axis, dtype=dtype, out=out, ddof=ddof,\n",
      "/alzheimer/Roberto/Software/mambaforge/envs/spikesorting/lib/python3.9/site-packages/numpy/core/_methods.py:163: RuntimeWarning: invalid value encountered in divide\n",
      "  arrmean = um.true_divide(arrmean, div, out=arrmean,\n",
      "/alzheimer/Roberto/Software/mambaforge/envs/spikesorting/lib/python3.9/site-packages/numpy/core/_methods.py:198: RuntimeWarning: invalid value encountered in divide\n",
      "  ret = ret.dtype.type(ret / rcount)\n"
     ]
    },
    {
     "name": "stdout",
     "output_type": "stream",
     "text": [
      "CPU times: user 13min 52s, sys: 3min 36s, total: 17min 28s\n",
      "Wall time: 12min 54s\n"
     ]
    }
   ],
   "source": [
    "%%time\n",
    "\n",
    "# Here we calculate the following metrics: ['num_spikes','firing_rate','presence_ratio','snr','isi_violation','rp_violation','sliding_rp_violation','amplitude_cutoff','amplitude_median','amplitude_cv','synchrony','firing_range','drift','sd_ratio']\n",
    " \n",
    "split_preprocessed_recording = raw_rec.split_by(\"group\")\n",
    "for group, sub_rec in split_preprocessed_recording.items(): # we do this on single probes, save space!\n",
    "    if os.path.exists(f\"{path_recording_folder}/spike_interface_output/probe{group}/sorting_analyzer/\"):\n",
    "        analyzer = load_sorting_analyzer(f\"{path_recording_folder}/spike_interface_output/probe{group}/sorting_analyzer/\")\n",
    "    else:\n",
    "        print(f\"Processing probe{group}\")\n",
    "        sorting = read_phy(f\"{path_recording_folder}/spike_interface_output/probe{group}/sorter_output/\")\n",
    "        analyzer = create_sorting_analyzer(sorting, sub_rec, sparse=True, format=\"binary_folder\", n_jobs=20, chunk_duration='30s', progress_bar=True, \n",
    "                                           folder=f\"{path_recording_folder}/spike_interface_output/probe{group}/sorting_analyzer\") # job params propagate\n",
    "        analyzer.compute({\"random_spikes\": dict(method=\"uniform\", max_spikes_per_unit=500), \n",
    "                          \"waveforms\":  dict(ms_before=1,ms_after=2.),\n",
    "                         \"templates\": dict(operators=[\"average\", \"std\"]),\n",
    "                         \"noise_levels\":dict(), \n",
    "                          'correlograms':dict() ,\n",
    "                         'spike_amplitudes':dict(),\n",
    "                         'unit_locations':dict(method=\"monopolar_triangulation\"),\n",
    "                         'template_similarity':dict(),\n",
    "                         \"template_metrics\":dict(include_multi_channel_metrics=True),\n",
    "                         \"spike_locations\":dict(),\n",
    "                         \"quality_metrics\": dict(metric_names=get_quality_metric_list())})\n",
    "\n",
    "        #analyzer.compute(\"principal_components\", **job_kwargs)\n",
    "        \n",
    "        metrics = pd.concat([metrics, analyzer.get_extension(\"template_metrics\").get_data()], axis=1)# add template metrics\n",
    "        metrics[\"probe_n\"] = f\"probe{group}\"\n",
    "        \n",
    "        metrics.to_csv(f\"{path_recording_folder}/spike_interface_output/probe{group}/metrics\")\n"
   ]
  },
  {
   "cell_type": "code",
   "execution_count": 82,
   "id": "62b75d17-7512-4157-ac38-287557bb6f07",
   "metadata": {},
   "outputs": [
    {
     "data": {
      "text/plain": [
       "{0: 2.3954596519470215,\n",
       " 1: 32.328617095947266,\n",
       " 2: 60.35238265991211,\n",
       " 3: 189.92311096191406,\n",
       " 4: -0.0,\n",
       " 5: 1.8408143520355225,\n",
       " 6: 91.21063232421875,\n",
       " 7: 100.03543090820312,\n",
       " 8: -0.0,\n",
       " 9: 49.462623596191406,\n",
       " 10: -0.0,\n",
       " 11: 56.25676727294922,\n",
       " 12: 1.8157645463943481,\n",
       " 13: 136.17788696289062,\n",
       " 14: -0.0,\n",
       " 15: -0.0,\n",
       " 16: -0.0,\n",
       " 17: 127.95379638671875,\n",
       " 18: 69.46692657470703,\n",
       " 19: 66.54749298095703,\n",
       " 20: 361.9164123535156,\n",
       " 21: 32.401973724365234,\n",
       " 22: 6.7512688636779785,\n",
       " 23: 164.82566833496094,\n",
       " 24: 75.86808013916016,\n",
       " 25: 1.1949092149734497,\n",
       " 26: 217.67869567871094,\n",
       " 27: 260.3925476074219,\n",
       " 28: 67.3272476196289,\n",
       " 29: 43.20925521850586,\n",
       " 30: 149.94393920898438,\n",
       " 31: -0.0,\n",
       " 32: 63.04146194458008,\n",
       " 33: 4.684933185577393,\n",
       " 34: 39.49567413330078,\n",
       " 35: 88.0630874633789,\n",
       " 36: 95.41625213623047,\n",
       " 37: 60.08255386352539,\n",
       " 38: 0.6057077050209045,\n",
       " 39: 57.3911247253418,\n",
       " 40: 104.39668273925781,\n",
       " 41: 1.8130919933319092,\n",
       " 42: -0.0,\n",
       " 43: 148.60287475585938,\n",
       " 44: 134.3810272216797,\n",
       " 45: -0.0,\n",
       " 46: 86.71324920654297,\n",
       " 47: 134.17913818359375,\n",
       " 48: 85.44759368896484,\n",
       " 49: 62.38624572753906,\n",
       " 50: 53.520835876464844,\n",
       " 51: 1.335758090019226,\n",
       " 52: 119.68743896484375,\n",
       " 53: 1.9019016027450562,\n",
       " 54: 152.95907592773438,\n",
       " 55: 3.1535751819610596,\n",
       " 56: 186.39540100097656,\n",
       " 57: 423.7362365722656,\n",
       " 58: 102.10440826416016,\n",
       " 59: 186.9756317138672,\n",
       " 60: 219.40440368652344,\n",
       " 61: 2.2356765270233154,\n",
       " 62: 40.099891662597656,\n",
       " 63: 0.08181410282850266,\n",
       " 64: 113.56270599365234,\n",
       " 65: 2.4774553775787354,\n",
       " 66: 6.469461441040039,\n",
       " 67: 2.242744207382202,\n",
       " 68: 0.3257182836532593,\n",
       " 69: 13.285158157348633,\n",
       " 70: 114.12397766113281,\n",
       " 71: 178.75375366210938,\n",
       " 72: 139.51715087890625,\n",
       " 73: -0.0,\n",
       " 74: 270.7377624511719,\n",
       " 75: 1.321549415588379,\n",
       " 76: 76.78416442871094,\n",
       " 77: 62.76653289794922,\n",
       " 78: -0.0,\n",
       " 79: 96.51548767089844,\n",
       " 80: 3.731693744659424,\n",
       " 81: -0.0,\n",
       " 82: 82.33123779296875,\n",
       " 83: -0.0,\n",
       " 84: -0.0,\n",
       " 85: 65.22992706298828,\n",
       " 86: 92.77000427246094,\n",
       " 87: 94.15057373046875,\n",
       " 88: 1.3291670083999634,\n",
       " 89: 72.60655975341797,\n",
       " 90: 2.8464977741241455,\n",
       " 91: 1.2022342681884766,\n",
       " 92: 45.9049186706543,\n",
       " 93: -0.0,\n",
       " 94: 4.715293884277344,\n",
       " 95: 37.284141540527344,\n",
       " 96: 50.641754150390625,\n",
       " 97: 5.21342658996582,\n",
       " 98: 4.945537090301514,\n",
       " 99: 47.59836959838867,\n",
       " 100: 40.43319320678711,\n",
       " 101: 48.55166244506836,\n",
       " 102: 2.491446018218994,\n",
       " 103: 36.039344787597656,\n",
       " 104: 3.3560588359832764,\n",
       " 105: 34.435359954833984,\n",
       " 106: 45.73359680175781,\n",
       " 107: 6.2402472496032715,\n",
       " 108: 31.340251922607422,\n",
       " 109: 19.95477294921875,\n",
       " 110: 63.34393310546875,\n",
       " 111: 1.4559532403945923,\n",
       " 112: 158.35189819335938,\n",
       " 113: 54.85032272338867,\n",
       " 114: 57.177040100097656,\n",
       " 115: 0.20372945070266724,\n",
       " 116: 0.21109020709991455,\n",
       " 117: 148.74154663085938,\n",
       " 118: 63.68202590942383,\n",
       " 119: 4.109597682952881,\n",
       " 120: 34.56458282470703,\n",
       " 121: 11.476638793945312,\n",
       " 122: 31.673662185668945,\n",
       " 123: 7.512718200683594,\n",
       " 124: 39.13457107543945,\n",
       " 125: 2.8813254833221436,\n",
       " 126: 28.599092483520508,\n",
       " 127: 67.72918701171875,\n",
       " 128: -0.0,\n",
       " 129: 101.82528686523438,\n",
       " 130: 11.528600692749023,\n",
       " 131: -0.0,\n",
       " 132: 100.3343276977539,\n",
       " 133: 1.3335970640182495,\n",
       " 134: 177.79339599609375,\n",
       " 135: 315.73846435546875,\n",
       " 136: 160.93690490722656,\n",
       " 137: 2.1884336471557617,\n",
       " 138: 117.40452575683594,\n",
       " 139: 70.42463684082031,\n",
       " 140: 270.6349792480469,\n",
       " 141: 1.0751546621322632,\n",
       " 142: 2.719820261001587,\n",
       " 143: 0.9274206757545471,\n",
       " 144: 465.3599548339844,\n",
       " 145: 65.68518829345703,\n",
       " 146: 61.054935455322266,\n",
       " 147: 2.3577752113342285,\n",
       " 148: 141.5811309814453,\n",
       " 149: 103.96025848388672,\n",
       " 150: 1.0943814516067505,\n",
       " 151: 87.88275146484375,\n",
       " 152: 2.148735284805298,\n",
       " 153: 98.7275161743164,\n",
       " 154: 303.29656982421875,\n",
       " 155: 60.195167541503906,\n",
       " 156: 92.77210235595703,\n",
       " 157: 1.9463236331939697,\n",
       " 158: 72.54511260986328,\n",
       " 159: 151.89979553222656,\n",
       " 160: -0.0,\n",
       " 161: 71.1571273803711,\n",
       " 162: 87.73249816894531,\n",
       " 163: 61.512657165527344,\n",
       " 164: -0.0,\n",
       " 165: 91.45706939697266,\n",
       " 166: -0.0,\n",
       " 167: 70.85896301269531,\n",
       " 168: 127.83546447753906,\n",
       " 169: 69.60258483886719,\n",
       " 170: 141.7995147705078,\n",
       " 171: 162.7030029296875,\n",
       " 172: 92.67573547363281,\n",
       " 173: -0.0,\n",
       " 174: 80.64743041992188,\n",
       " 175: 109.80803680419922,\n",
       " 176: 75.01576232910156,\n",
       " 177: -0.0,\n",
       " 178: 60.81972885131836,\n",
       " 179: 63.783748626708984,\n",
       " 180: 62.84181594848633,\n",
       " 181: -0.0,\n",
       " 182: 73.86971282958984,\n",
       " 183: 0.14791694283485413,\n",
       " 184: 430.3379211425781,\n",
       " 185: 6.998724460601807,\n",
       " 186: 77.4463882446289,\n",
       " 187: 1.6366465091705322,\n",
       " 188: -0.0,\n",
       " 189: 87.50702667236328,\n",
       " 190: 74.24109649658203,\n",
       " 191: 1.7164089679718018,\n",
       " 192: -0.0,\n",
       " 193: 70.28612518310547,\n",
       " 194: 92.38721466064453,\n",
       " 195: 71.38274383544922,\n",
       " 196: 55.4985237121582,\n",
       " 197: 115.35245513916016,\n",
       " 198: 0.7588120102882385,\n",
       " 199: 60.07270050048828,\n",
       " 200: 97.30441284179688,\n",
       " 201: 10.295500755310059,\n",
       " 202: 41.118690490722656,\n",
       " 203: 46.97837829589844,\n",
       " 204: 0.1662280261516571,\n",
       " 205: 51.57845687866211,\n",
       " 206: 53.823978424072266,\n",
       " 207: 106.64452362060547,\n",
       " 208: 53.89423370361328,\n",
       " 209: -0.0,\n",
       " 210: 41.120906829833984,\n",
       " 211: -0.0,\n",
       " 212: 6.754561901092529,\n",
       " 213: 0.25089865922927856,\n",
       " 214: 35.70339584350586,\n",
       " 215: 0.8803607821464539,\n",
       " 216: 45.31044006347656,\n",
       " 217: 8.407544136047363,\n",
       " 218: 30.393726348876953,\n",
       " 219: 1.8218817710876465,\n",
       " 220: 32.371429443359375,\n",
       " 221: 35.23827362060547,\n",
       " 222: 92.34954833984375,\n",
       " 223: 34.188838958740234,\n",
       " 224: 0.7206884622573853,\n",
       " 225: 31.69253158569336,\n",
       " 226: 30.302061080932617,\n",
       " 227: 37.18529510498047,\n",
       " 228: 41.682437896728516,\n",
       " 229: 4.010646820068359,\n",
       " 230: 1.0332224369049072,\n",
       " 231: 44.13182830810547,\n",
       " 232: 42.868736267089844,\n",
       " 233: -0.0,\n",
       " 234: 2.1109766960144043,\n",
       " 235: 131.05087280273438,\n",
       " 236: 35.952186584472656,\n",
       " 237: 27.759273529052734,\n",
       " 238: 15.532293319702148,\n",
       " 239: 34.22633743286133,\n",
       " 240: 30.177356719970703,\n",
       " 241: -0.0,\n",
       " 242: 30.933849334716797,\n",
       " 243: 31.509201049804688,\n",
       " 244: 0.38273870944976807,\n",
       " 245: 15.168463706970215,\n",
       " 246: 11.028646469116211,\n",
       " 247: 18.32192611694336,\n",
       " 248: 215.2305145263672,\n",
       " 249: 28.75463104248047,\n",
       " 250: 4.699545383453369,\n",
       " 251: 4.274325370788574,\n",
       " 252: 28.223899841308594,\n",
       " 253: 2.7241063117980957,\n",
       " 254: 15.128240585327148,\n",
       " 255: -0.0,\n",
       " 256: -0.0,\n",
       " 257: 15.287696838378906,\n",
       " 258: 32.07987976074219,\n",
       " 259: 8.666916847229004,\n",
       " 260: 18.317670822143555,\n",
       " 261: 26.100940704345703,\n",
       " 262: 17.467239379882812,\n",
       " 263: 237.8761749267578,\n",
       " 264: 33.70295333862305,\n",
       " 265: 38.97034454345703,\n",
       " 266: 12.350186347961426,\n",
       " 267: 65.51394653320312,\n",
       " 268: 83.73090362548828,\n",
       " 269: 22.530813217163086,\n",
       " 270: 0.535123348236084,\n",
       " 271: -0.0,\n",
       " 272: 38.676570892333984,\n",
       " 273: 193.3626708984375,\n",
       " 274: 69.79100799560547,\n",
       " 275: 88.88560485839844,\n",
       " 276: 1.7914495468139648,\n",
       " 277: 40.13691711425781}"
      ]
     },
     "execution_count": 82,
     "metadata": {},
     "output_type": "execute_result"
    }
   ],
   "source": [
    "si.get_template_extremum_amplitude(analyzer)"
   ]
  },
  {
   "cell_type": "code",
   "execution_count": 114,
   "id": "76c6f9b7-e83a-43ec-b765-75e318033dd1",
   "metadata": {},
   "outputs": [
    {
     "data": {
      "text/html": [
       "<div>\n",
       "<style scoped>\n",
       "    .dataframe tbody tr th:only-of-type {\n",
       "        vertical-align: middle;\n",
       "    }\n",
       "\n",
       "    .dataframe tbody tr th {\n",
       "        vertical-align: top;\n",
       "    }\n",
       "\n",
       "    .dataframe thead th {\n",
       "        text-align: right;\n",
       "    }\n",
       "</style>\n",
       "<table border=\"1\" class=\"dataframe\">\n",
       "  <thead>\n",
       "    <tr style=\"text-align: right;\">\n",
       "      <th></th>\n",
       "      <th>0</th>\n",
       "      <th>1</th>\n",
       "    </tr>\n",
       "  </thead>\n",
       "  <tbody>\n",
       "    <tr>\n",
       "      <th>0</th>\n",
       "      <td>8.0</td>\n",
       "      <td>100.0</td>\n",
       "    </tr>\n",
       "    <tr>\n",
       "      <th>1</th>\n",
       "      <td>-24.0</td>\n",
       "      <td>100.0</td>\n",
       "    </tr>\n",
       "    <tr>\n",
       "      <th>2</th>\n",
       "      <td>8.0</td>\n",
       "      <td>340.0</td>\n",
       "    </tr>\n",
       "    <tr>\n",
       "      <th>3</th>\n",
       "      <td>-24.0</td>\n",
       "      <td>340.0</td>\n",
       "    </tr>\n",
       "    <tr>\n",
       "      <th>4</th>\n",
       "      <td>8.0</td>\n",
       "      <td>580.0</td>\n",
       "    </tr>\n",
       "    <tr>\n",
       "      <th>...</th>\n",
       "      <td>...</td>\n",
       "      <td>...</td>\n",
       "    </tr>\n",
       "    <tr>\n",
       "      <th>763</th>\n",
       "      <td>242.0</td>\n",
       "      <td>3440.0</td>\n",
       "    </tr>\n",
       "    <tr>\n",
       "      <th>764</th>\n",
       "      <td>274.0</td>\n",
       "      <td>3680.0</td>\n",
       "    </tr>\n",
       "    <tr>\n",
       "      <th>765</th>\n",
       "      <td>242.0</td>\n",
       "      <td>3680.0</td>\n",
       "    </tr>\n",
       "    <tr>\n",
       "      <th>766</th>\n",
       "      <td>274.0</td>\n",
       "      <td>3920.0</td>\n",
       "    </tr>\n",
       "    <tr>\n",
       "      <th>767</th>\n",
       "      <td>242.0</td>\n",
       "      <td>3920.0</td>\n",
       "    </tr>\n",
       "  </tbody>\n",
       "</table>\n",
       "<p>768 rows × 2 columns</p>\n",
       "</div>"
      ],
      "text/plain": [
       "         0       1\n",
       "0      8.0   100.0\n",
       "1    -24.0   100.0\n",
       "2      8.0   340.0\n",
       "3    -24.0   340.0\n",
       "4      8.0   580.0\n",
       "..     ...     ...\n",
       "763  242.0  3440.0\n",
       "764  274.0  3680.0\n",
       "765  242.0  3680.0\n",
       "766  274.0  3920.0\n",
       "767  242.0  3920.0\n",
       "\n",
       "[768 rows x 2 columns]"
      ]
     },
     "execution_count": 114,
     "metadata": {},
     "output_type": "execute_result"
    }
   ],
   "source": [
    "pd.DataFrame(analyzer.get_channel_locations())"
   ]
  },
  {
   "cell_type": "code",
   "execution_count": 81,
   "id": "f7214f55-9e2e-43d9-8458-e09f2b07c91c",
   "metadata": {},
   "outputs": [
    {
     "data": {
      "text/plain": [
       "{0: 65,\n",
       " 1: 1,\n",
       " 2: 129,\n",
       " 3: 129,\n",
       " 4: 129,\n",
       " 5: 257,\n",
       " 6: 257,\n",
       " 7: 385,\n",
       " 8: 449,\n",
       " 9: 385,\n",
       " 10: 576,\n",
       " 11: 513,\n",
       " 12: 641,\n",
       " 13: 641,\n",
       " 14: 705,\n",
       " 15: 3,\n",
       " 16: 130,\n",
       " 17: 3,\n",
       " 18: 3,\n",
       " 19: 3,\n",
       " 20: 3,\n",
       " 21: 259,\n",
       " 22: 130,\n",
       " 23: 259,\n",
       " 24: 259,\n",
       " 25: 386,\n",
       " 26: 451,\n",
       " 27: 451,\n",
       " 28: 515,\n",
       " 29: 515,\n",
       " 30: 515,\n",
       " 31: 515,\n",
       " 32: 578,\n",
       " 33: 707,\n",
       " 34: 706,\n",
       " 35: 578,\n",
       " 36: 643,\n",
       " 37: 5,\n",
       " 38: 68,\n",
       " 39: 68,\n",
       " 40: 5,\n",
       " 41: 68,\n",
       " 42: 69,\n",
       " 43: 133,\n",
       " 44: 133,\n",
       " 45: 197,\n",
       " 46: 133,\n",
       " 47: 196,\n",
       " 48: 133,\n",
       " 49: 325,\n",
       " 50: 324,\n",
       " 51: 261,\n",
       " 52: 325,\n",
       " 53: 325,\n",
       " 54: 261,\n",
       " 55: 324,\n",
       " 56: 261,\n",
       " 57: 325,\n",
       " 58: 389,\n",
       " 59: 389,\n",
       " 60: 389,\n",
       " 61: 388,\n",
       " 62: 388,\n",
       " 63: 517,\n",
       " 64: 517,\n",
       " 65: 517,\n",
       " 66: 580,\n",
       " 67: 517,\n",
       " 68: 581,\n",
       " 69: 708,\n",
       " 70: 645,\n",
       " 71: 645,\n",
       " 72: 709,\n",
       " 73: 709,\n",
       " 74: 325,\n",
       " 75: 645,\n",
       " 76: 645,\n",
       " 77: 7,\n",
       " 78: 71,\n",
       " 79: 198,\n",
       " 80: 135,\n",
       " 81: 263,\n",
       " 82: 199,\n",
       " 83: 709,\n",
       " 84: 263,\n",
       " 85: 326,\n",
       " 86: 519,\n",
       " 87: 391,\n",
       " 88: 455,\n",
       " 89: 519,\n",
       " 90: 582,\n",
       " 91: 519,\n",
       " 92: 647,\n",
       " 93: 711,\n",
       " 94: 73,\n",
       " 95: 73,\n",
       " 96: 265,\n",
       " 97: 329,\n",
       " 98: 584,\n",
       " 99: 521,\n",
       " 100: 584,\n",
       " 101: 649,\n",
       " 102: 10,\n",
       " 103: 75,\n",
       " 104: 202,\n",
       " 105: 203,\n",
       " 106: 330,\n",
       " 107: 459,\n",
       " 108: 458,\n",
       " 109: 715,\n",
       " 110: 651,\n",
       " 111: 77,\n",
       " 112: 13,\n",
       " 113: 13,\n",
       " 114: 141,\n",
       " 115: 141,\n",
       " 116: 205,\n",
       " 117: 204,\n",
       " 118: 204,\n",
       " 119: 269,\n",
       " 120: 333,\n",
       " 121: 645,\n",
       " 122: 461,\n",
       " 123: 163,\n",
       " 124: 525,\n",
       " 125: 717,\n",
       " 126: 14,\n",
       " 127: 79,\n",
       " 128: 79,\n",
       " 129: 206,\n",
       " 130: 143,\n",
       " 131: 142,\n",
       " 132: 143,\n",
       " 133: 271,\n",
       " 134: 335,\n",
       " 135: 271,\n",
       " 136: 335,\n",
       " 137: 335,\n",
       " 138: 271,\n",
       " 139: 206,\n",
       " 140: 399,\n",
       " 141: 399,\n",
       " 142: 399,\n",
       " 143: 462,\n",
       " 144: 399,\n",
       " 145: 462,\n",
       " 146: 590,\n",
       " 147: 590,\n",
       " 148: 399,\n",
       " 149: 591,\n",
       " 150: 527,\n",
       " 151: 527,\n",
       " 152: 654,\n",
       " 153: 655,\n",
       " 154: 655,\n",
       " 155: 718,\n",
       " 156: 655,\n",
       " 157: 81,\n",
       " 158: 17,\n",
       " 159: 145,\n",
       " 160: 209,\n",
       " 161: 145,\n",
       " 162: 208,\n",
       " 163: 273,\n",
       " 164: 272,\n",
       " 165: 336,\n",
       " 166: 465,\n",
       " 167: 401,\n",
       " 168: 464,\n",
       " 169: 464,\n",
       " 170: 464,\n",
       " 171: 401,\n",
       " 172: 529,\n",
       " 173: 656,\n",
       " 174: 592,\n",
       " 175: 657,\n",
       " 176: 657,\n",
       " 177: 656,\n",
       " 178: 720,\n",
       " 179: 657,\n",
       " 180: 19,\n",
       " 181: 19,\n",
       " 182: 210,\n",
       " 183: 147,\n",
       " 184: 210,\n",
       " 185: 403,\n",
       " 186: 339,\n",
       " 187: 275,\n",
       " 188: 403,\n",
       " 189: 338,\n",
       " 190: 275,\n",
       " 191: 403,\n",
       " 192: 467,\n",
       " 193: 466,\n",
       " 194: 403,\n",
       " 195: 531,\n",
       " 196: 594,\n",
       " 197: 531,\n",
       " 198: 594,\n",
       " 199: 722,\n",
       " 200: 659,\n",
       " 201: 84,\n",
       " 202: 21,\n",
       " 203: 149,\n",
       " 204: 340,\n",
       " 205: 340,\n",
       " 206: 405,\n",
       " 207: 405,\n",
       " 208: 469,\n",
       " 209: 468,\n",
       " 210: 532,\n",
       " 211: 597,\n",
       " 212: 533,\n",
       " 213: 725,\n",
       " 214: 22,\n",
       " 215: 86,\n",
       " 216: 150,\n",
       " 217: 215,\n",
       " 218: 342,\n",
       " 219: 471,\n",
       " 220: 471,\n",
       " 221: 535,\n",
       " 222: 535,\n",
       " 223: 599,\n",
       " 224: 599,\n",
       " 225: 727,\n",
       " 226: 89,\n",
       " 227: 281,\n",
       " 228: 345,\n",
       " 229: 345,\n",
       " 230: 473,\n",
       " 231: 473,\n",
       " 232: 601,\n",
       " 233: 601,\n",
       " 234: 728,\n",
       " 235: 664,\n",
       " 236: 729,\n",
       " 237: 91,\n",
       " 238: 390,\n",
       " 239: 155,\n",
       " 240: 347,\n",
       " 241: 411,\n",
       " 242: 411,\n",
       " 243: 602,\n",
       " 244: 602,\n",
       " 245: 190,\n",
       " 246: 667,\n",
       " 247: 92,\n",
       " 248: 92,\n",
       " 249: 92,\n",
       " 250: 92,\n",
       " 251: 221,\n",
       " 252: 221,\n",
       " 253: 348,\n",
       " 254: 389,\n",
       " 255: 399,\n",
       " 256: 519,\n",
       " 257: 401,\n",
       " 258: 732,\n",
       " 259: 92,\n",
       " 260: 399,\n",
       " 261: 95,\n",
       " 262: 134,\n",
       " 263: 92,\n",
       " 264: 223,\n",
       " 265: 350,\n",
       " 266: 478,\n",
       " 267: 478,\n",
       " 268: 543,\n",
       " 269: 145,\n",
       " 270: 607,\n",
       " 271: 671,\n",
       " 272: 671,\n",
       " 273: 325,\n",
       " 274: 735,\n",
       " 275: 671,\n",
       " 276: 671,\n",
       " 277: 735}"
      ]
     },
     "execution_count": 81,
     "metadata": {},
     "output_type": "execute_result"
    }
   ],
   "source": [
    "si.get_template_extremum_channel(analyzer, outputs=\"index\")"
   ]
  },
  {
   "cell_type": "code",
   "execution_count": 77,
   "id": "29a62a51-0f39-48ba-8a52-0ab1805ff1d7",
   "metadata": {},
   "outputs": [
    {
     "data": {
      "text/plain": [
       "array([[   8.,  100.],\n",
       "       [ -24.,  100.],\n",
       "       [   8.,  340.],\n",
       "       ...,\n",
       "       [ 242., 3680.],\n",
       "       [ 274., 3920.],\n",
       "       [ 242., 3920.]])"
      ]
     },
     "execution_count": 77,
     "metadata": {},
     "output_type": "execute_result"
    }
   ],
   "source": [
    "analyzer.get_channel_locations()"
   ]
  },
  {
   "cell_type": "code",
   "execution_count": 70,
   "id": "619cb345-d608-41cd-b72c-a3938e856b20",
   "metadata": {},
   "outputs": [],
   "source": [
    "analyzer = load_sorting_analyzer(folder=f\"{path_recording_folder}/spike_interface_output/probe0/sorting_analyzer_allchan\")"
   ]
  },
  {
   "cell_type": "code",
   "execution_count": 92,
   "id": "c479e81a-fb09-41da-81a1-b181851ba549",
   "metadata": {},
   "outputs": [
    {
     "data": {
      "text/plain": [
       "array([[-51.72229221, 128.52032825,   3.39921508],\n",
       "       [-48.24928543, 110.09615969,   2.00707626],\n",
       "       [-33.93869908, 184.41437656,   1.53194314],\n",
       "       [-28.45047553, 180.32792834,   1.66825795],\n",
       "       [-33.42324987, 185.32340784,   1.62044861]])"
      ]
     },
     "execution_count": 92,
     "metadata": {},
     "output_type": "execute_result"
    }
   ],
   "source": [
    "analyzer.get_extension(\"unit_locations\").get_data()[:5]"
   ]
  },
  {
   "cell_type": "code",
   "execution_count": 94,
   "id": "d43a0138-9b42-4b21-b26c-0a6ade245de3",
   "metadata": {},
   "outputs": [
    {
     "data": {
      "text/plain": [
       "[<matplotlib.lines.Line2D at 0x7f7d6b387070>,\n",
       " <matplotlib.lines.Line2D at 0x7f7d6b3870a0>,\n",
       " <matplotlib.lines.Line2D at 0x7f7d6b3beac0>]"
      ]
     },
     "execution_count": 94,
     "metadata": {},
     "output_type": "execute_result"
    },
    {
     "data": {
      "image/png": "[encoded data removed]",
      "text/plain": [
       "<Figure size 640x480 with 1 Axes>"
      ]
     },
     "metadata": {},
     "output_type": "display_data"
    }
   ],
   "source": [
    "plt.plot(analyzer.get_extension(\"unit_locations\").get_data()[:10])"
   ]
  },
  {
   "cell_type": "code",
   "execution_count": 43,
   "id": "1ef20650-adef-4a7c-b895-2058cacd2f5d",
   "metadata": {},
   "outputs": [],
   "source": [
    "from spikeinterface.widgets import plot_sorting_summary"
   ]
  },
  {
   "cell_type": "code",
   "execution_count": 58,
   "id": "dea35bb6-b398-4aac-9548-cf3986dd285d",
   "metadata": {},
   "outputs": [
    {
     "ename": "TypeError",
     "evalue": "'NoneType' object is not subscriptable",
     "output_type": "error",
     "traceback": [
      "\u001b[0;31m---------------------------------------------------------------------------\u001b[0m",
      "\u001b[0;31mTypeError\u001b[0m                                 Traceback (most recent call last)",
      "Cell \u001b[0;32mIn[58], line 1\u001b[0m\n\u001b[0;32m----> 1\u001b[0m \u001b[43mplot_sorting_summary\u001b[49m\u001b[43m(\u001b[49m\u001b[43manalyzer\u001b[49m\u001b[43m,\u001b[49m\u001b[43m \u001b[49m\u001b[43mcuration\u001b[49m\u001b[38;5;241;43m=\u001b[39;49m\u001b[38;5;28;43;01mTrue\u001b[39;49;00m\u001b[43m,\u001b[49m\u001b[43m \u001b[49m\u001b[43mbackend\u001b[49m\u001b[38;5;241;43m=\u001b[39;49m\u001b[38;5;124;43m'\u001b[39;49m\u001b[38;5;124;43msortingview\u001b[39;49m\u001b[38;5;124;43m'\u001b[39;49m\u001b[43m,\u001b[49m\u001b[43m \u001b[49m\u001b[43munit_table_properties\u001b[49m\u001b[38;5;241;43m=\u001b[39;49m\u001b[43m[\u001b[49m\u001b[38;5;124;43m\"\u001b[39;49m\u001b[38;5;124;43mamplitude_cutoff\u001b[39;49m\u001b[38;5;124;43m\"\u001b[39;49m\u001b[43m]\u001b[49m\u001b[43m)\u001b[49m\n",
      "File \u001b[0;32m/alzheimer/Roberto/Software/mambaforge/envs/spikesorting/lib/python3.9/site-packages/spikeinterface/widgets/sorting_summary.py:83\u001b[0m, in \u001b[0;36mSortingSummaryWidget.__init__\u001b[0;34m(self, sorting_analyzer, unit_ids, sparsity, max_amplitudes_per_unit, min_similarity_for_correlograms, curation, unit_table_properties, label_choices, backend, **backend_kwargs)\u001b[0m\n\u001b[1;32m     70\u001b[0m     unit_ids \u001b[38;5;241m=\u001b[39m sorting\u001b[38;5;241m.\u001b[39mget_unit_ids()\n\u001b[1;32m     72\u001b[0m plot_data \u001b[38;5;241m=\u001b[39m \u001b[38;5;28mdict\u001b[39m(\n\u001b[1;32m     73\u001b[0m     sorting_analyzer\u001b[38;5;241m=\u001b[39msorting_analyzer,\n\u001b[1;32m     74\u001b[0m     unit_ids\u001b[38;5;241m=\u001b[39munit_ids,\n\u001b[0;32m   (...)\u001b[0m\n\u001b[1;32m     80\u001b[0m     max_amplitudes_per_unit\u001b[38;5;241m=\u001b[39mmax_amplitudes_per_unit,\n\u001b[1;32m     81\u001b[0m )\n\u001b[0;32m---> 83\u001b[0m \u001b[43mBaseWidget\u001b[49m\u001b[38;5;241;43m.\u001b[39;49m\u001b[38;5;21;43m__init__\u001b[39;49m\u001b[43m(\u001b[49m\u001b[38;5;28;43mself\u001b[39;49m\u001b[43m,\u001b[49m\u001b[43m \u001b[49m\u001b[43mplot_data\u001b[49m\u001b[43m,\u001b[49m\u001b[43m \u001b[49m\u001b[43mbackend\u001b[49m\u001b[38;5;241;43m=\u001b[39;49m\u001b[43mbackend\u001b[49m\u001b[43m,\u001b[49m\u001b[43m \u001b[49m\u001b[38;5;241;43m*\u001b[39;49m\u001b[38;5;241;43m*\u001b[39;49m\u001b[43mbackend_kwargs\u001b[49m\u001b[43m)\u001b[49m\n",
      "File \u001b[0;32m/alzheimer/Roberto/Software/mambaforge/envs/spikesorting/lib/python3.9/site-packages/spikeinterface/widgets/base.py:87\u001b[0m, in \u001b[0;36mBaseWidget.__init__\u001b[0;34m(self, data_plot, backend, immediate_plot, **backend_kwargs)\u001b[0m\n\u001b[1;32m     84\u001b[0m \u001b[38;5;28mself\u001b[39m\u001b[38;5;241m.\u001b[39mbackend_kwargs \u001b[38;5;241m=\u001b[39m backend_kwargs_\n\u001b[1;32m     86\u001b[0m \u001b[38;5;28;01mif\u001b[39;00m immediate_plot:\n\u001b[0;32m---> 87\u001b[0m     \u001b[38;5;28;43mself\u001b[39;49m\u001b[38;5;241;43m.\u001b[39;49m\u001b[43mdo_plot\u001b[49m\u001b[43m(\u001b[49m\u001b[43m)\u001b[49m\n",
      "File \u001b[0;32m/alzheimer/Roberto/Software/mambaforge/envs/spikesorting/lib/python3.9/site-packages/spikeinterface/widgets/base.py:108\u001b[0m, in \u001b[0;36mBaseWidget.do_plot\u001b[0;34m(self)\u001b[0m\n\u001b[1;32m    106\u001b[0m \u001b[38;5;28;01mdef\u001b[39;00m \u001b[38;5;21mdo_plot\u001b[39m(\u001b[38;5;28mself\u001b[39m):\n\u001b[1;32m    107\u001b[0m     func \u001b[38;5;241m=\u001b[39m \u001b[38;5;28mgetattr\u001b[39m(\u001b[38;5;28mself\u001b[39m, \u001b[38;5;124mf\u001b[39m\u001b[38;5;124m\"\u001b[39m\u001b[38;5;124mplot_\u001b[39m\u001b[38;5;132;01m{\u001b[39;00m\u001b[38;5;28mself\u001b[39m\u001b[38;5;241m.\u001b[39mbackend\u001b[38;5;132;01m}\u001b[39;00m\u001b[38;5;124m\"\u001b[39m)\n\u001b[0;32m--> 108\u001b[0m     \u001b[43mfunc\u001b[49m\u001b[43m(\u001b[49m\u001b[38;5;28;43mself\u001b[39;49m\u001b[38;5;241;43m.\u001b[39;49m\u001b[43mdata_plot\u001b[49m\u001b[43m,\u001b[49m\u001b[43m \u001b[49m\u001b[38;5;241;43m*\u001b[39;49m\u001b[38;5;241;43m*\u001b[39;49m\u001b[38;5;28;43mself\u001b[39;49m\u001b[38;5;241;43m.\u001b[39;49m\u001b[43mbackend_kwargs\u001b[49m\u001b[43m)\u001b[49m\n",
      "File \u001b[0;32m/alzheimer/Roberto/Software/mambaforge/envs/spikesorting/lib/python3.9/site-packages/spikeinterface/widgets/sorting_summary.py:153\u001b[0m, in \u001b[0;36mSortingSummaryWidget.plot_sortingview\u001b[0;34m(self, data_plot, **backend_kwargs)\u001b[0m\n\u001b[1;32m    148\u001b[0m         similarity_scores\u001b[38;5;241m.\u001b[39mappend(\n\u001b[1;32m    149\u001b[0m             vv\u001b[38;5;241m.\u001b[39mUnitSimilarityScore(unit_id1\u001b[38;5;241m=\u001b[39mu1, unit_id2\u001b[38;5;241m=\u001b[39mu2, similarity\u001b[38;5;241m=\u001b[39msimilarity[i1, i2]\u001b[38;5;241m.\u001b[39mastype(\u001b[38;5;124m\"\u001b[39m\u001b[38;5;124mfloat32\u001b[39m\u001b[38;5;124m\"\u001b[39m))\n\u001b[1;32m    150\u001b[0m         )\n\u001b[1;32m    152\u001b[0m \u001b[38;5;66;03m# unit ids\u001b[39;00m\n\u001b[0;32m--> 153\u001b[0m v_units_table \u001b[38;5;241m=\u001b[39m \u001b[43mgenerate_unit_table_view\u001b[49m\u001b[43m(\u001b[49m\n\u001b[1;32m    154\u001b[0m \u001b[43m    \u001b[49m\u001b[43mdp\u001b[49m\u001b[38;5;241;43m.\u001b[39;49m\u001b[43msorting_analyzer\u001b[49m\u001b[38;5;241;43m.\u001b[39;49m\u001b[43msorting\u001b[49m\u001b[43m,\u001b[49m\u001b[43m \u001b[49m\u001b[43mdp\u001b[49m\u001b[38;5;241;43m.\u001b[39;49m\u001b[43munit_table_properties\u001b[49m\u001b[43m,\u001b[49m\u001b[43m \u001b[49m\u001b[43msimilarity_scores\u001b[49m\u001b[38;5;241;43m=\u001b[39;49m\u001b[43msimilarity_scores\u001b[49m\n\u001b[1;32m    155\u001b[0m \u001b[43m\u001b[49m\u001b[43m)\u001b[49m\n\u001b[1;32m    157\u001b[0m \u001b[38;5;28;01mif\u001b[39;00m dp\u001b[38;5;241m.\u001b[39mcuration:\n\u001b[1;32m    158\u001b[0m     v_curation \u001b[38;5;241m=\u001b[39m vv\u001b[38;5;241m.\u001b[39mSortingCuration2(label_choices\u001b[38;5;241m=\u001b[39mdp\u001b[38;5;241m.\u001b[39mlabel_choices)\n",
      "File \u001b[0;32m/alzheimer/Roberto/Software/mambaforge/envs/spikesorting/lib/python3.9/site-packages/spikeinterface/widgets/utils_sortingview.py:62\u001b[0m, in \u001b[0;36mgenerate_unit_table_view\u001b[0;34m(sorting, unit_properties, similarity_scores)\u001b[0m\n\u001b[1;32m     60\u001b[0m property_values \u001b[38;5;241m=\u001b[39m sorting\u001b[38;5;241m.\u001b[39mget_property(prop_name)\n\u001b[1;32m     61\u001b[0m \u001b[38;5;66;03m# make dtype available\u001b[39;00m\n\u001b[0;32m---> 62\u001b[0m val0 \u001b[38;5;241m=\u001b[39m np\u001b[38;5;241m.\u001b[39marray(\u001b[43mproperty_values\u001b[49m\u001b[43m[\u001b[49m\u001b[38;5;241;43m0\u001b[39;49m\u001b[43m]\u001b[49m)\n\u001b[1;32m     63\u001b[0m \u001b[38;5;28;01mif\u001b[39;00m val0\u001b[38;5;241m.\u001b[39mdtype\u001b[38;5;241m.\u001b[39mkind \u001b[38;5;129;01min\u001b[39;00m (\u001b[38;5;124m\"\u001b[39m\u001b[38;5;124mi\u001b[39m\u001b[38;5;124m\"\u001b[39m, \u001b[38;5;124m\"\u001b[39m\u001b[38;5;124mu\u001b[39m\u001b[38;5;124m\"\u001b[39m):\n\u001b[1;32m     64\u001b[0m     dtype \u001b[38;5;241m=\u001b[39m \u001b[38;5;124m\"\u001b[39m\u001b[38;5;124mint\u001b[39m\u001b[38;5;124m\"\u001b[39m\n",
      "\u001b[0;31mTypeError\u001b[0m: 'NoneType' object is not subscriptable"
     ]
    }
   ],
   "source": [
    " "
   ]
  },
  {
   "cell_type": "code",
   "execution_count": 49,
   "id": "83e75e2a-9ca1-4e48-ac6f-88c664a16dab",
   "metadata": {},
   "outputs": [
    {
     "data": {
      "text/plain": [
       "0      0.000029\n",
       "1      0.002922\n",
       "2      0.000303\n",
       "3      0.002027\n",
       "4      0.000332\n",
       "         ...   \n",
       "273         NaN\n",
       "274    0.000041\n",
       "275    0.000402\n",
       "276    0.000236\n",
       "277    0.001029\n",
       "Name: amplitude_cutoff, Length: 278, dtype: float64"
      ]
     },
     "execution_count": 49,
     "metadata": {},
     "output_type": "execute_result"
    }
   ],
   "source": [
    "metrics[\"amplitude_cutoff\"]"
   ]
  },
  {
   "cell_type": "code",
   "execution_count": 60,
   "id": "5a8ad492-3671-4394-91c5-13453f014b9c",
   "metadata": {},
   "outputs": [
    {
     "data": {
      "application/vnd.jupyter.widget-view+json": {
       "model_id": "9ce2ebabcf7940e4b32f10ffe83b143c",
       "version_major": 2,
       "version_minor": 0
      },
      "text/plain": [
       "write_binary_recording:   0%|          | 0/36 [00:00<?, ?it/s]"
      ]
     },
     "metadata": {},
     "output_type": "display_data"
    },
    {
     "data": {
      "application/vnd.jupyter.widget-view+json": {
       "model_id": "bf788d04159b463e8d32e662298e1078",
       "version_major": 2,
       "version_minor": 0
      },
      "text/plain": [
       "extract PCs:   0%|          | 0/36 [00:00<?, ?it/s]"
      ]
     },
     "metadata": {},
     "output_type": "display_data"
    },
    {
     "name": "stderr",
     "output_type": "stream",
     "text": [
      "Process ForkProcess-103:\n",
      "Process ForkProcess-111:\n",
      "Process ForkProcess-102:\n",
      "Process ForkProcess-119:\n",
      "Process ForkProcess-109:\n",
      "Process ForkProcess-104:\n",
      "Traceback (most recent call last):\n",
      "Traceback (most recent call last):\n",
      "Process ForkProcess-118:\n",
      "Traceback (most recent call last):\n",
      "Traceback (most recent call last):\n",
      "  File \"/alzheimer/Roberto/Software/mambaforge/envs/spikesorting/lib/python3.9/multiprocessing/process.py\", line 315, in _bootstrap\n",
      "    self.run()\n",
      "  File \"/alzheimer/Roberto/Software/mambaforge/envs/spikesorting/lib/python3.9/multiprocessing/process.py\", line 315, in _bootstrap\n",
      "    self.run()\n",
      "  File \"/alzheimer/Roberto/Software/mambaforge/envs/spikesorting/lib/python3.9/multiprocessing/process.py\", line 315, in _bootstrap\n",
      "    self.run()\n",
      "Traceback (most recent call last):\n",
      "Traceback (most recent call last):\n",
      "  File \"/alzheimer/Roberto/Software/mambaforge/envs/spikesorting/lib/python3.9/multiprocessing/process.py\", line 315, in _bootstrap\n",
      "    self.run()\n",
      "  File \"/alzheimer/Roberto/Software/mambaforge/envs/spikesorting/lib/python3.9/multiprocessing/process.py\", line 108, in run\n",
      "    self._target(*self._args, **self._kwargs)\n",
      "  File \"/alzheimer/Roberto/Software/mambaforge/envs/spikesorting/lib/python3.9/multiprocessing/process.py\", line 108, in run\n",
      "    self._target(*self._args, **self._kwargs)\n",
      "  File \"/alzheimer/Roberto/Software/mambaforge/envs/spikesorting/lib/python3.9/multiprocessing/process.py\", line 108, in run\n",
      "    self._target(*self._args, **self._kwargs)\n",
      "Traceback (most recent call last):\n",
      "  File \"/alzheimer/Roberto/Software/mambaforge/envs/spikesorting/lib/python3.9/multiprocessing/process.py\", line 315, in _bootstrap\n",
      "    self.run()\n",
      "  File \"/alzheimer/Roberto/Software/mambaforge/envs/spikesorting/lib/python3.9/concurrent/futures/process.py\", line 240, in _process_worker\n",
      "    call_item = call_queue.get(block=True)\n",
      "  File \"/alzheimer/Roberto/Software/mambaforge/envs/spikesorting/lib/python3.9/concurrent/futures/process.py\", line 240, in _process_worker\n",
      "    call_item = call_queue.get(block=True)\n",
      "  File \"/alzheimer/Roberto/Software/mambaforge/envs/spikesorting/lib/python3.9/concurrent/futures/process.py\", line 240, in _process_worker\n",
      "    call_item = call_queue.get(block=True)\n",
      "  File \"/alzheimer/Roberto/Software/mambaforge/envs/spikesorting/lib/python3.9/multiprocessing/process.py\", line 315, in _bootstrap\n",
      "    self.run()\n",
      "  File \"/alzheimer/Roberto/Software/mambaforge/envs/spikesorting/lib/python3.9/multiprocessing/process.py\", line 108, in run\n",
      "    self._target(*self._args, **self._kwargs)\n",
      "  File \"/alzheimer/Roberto/Software/mambaforge/envs/spikesorting/lib/python3.9/multiprocessing/process.py\", line 315, in _bootstrap\n",
      "    self.run()\n",
      "  File \"/alzheimer/Roberto/Software/mambaforge/envs/spikesorting/lib/python3.9/multiprocessing/queues.py\", line 102, in get\n",
      "    with self._rlock:\n",
      "  File \"/alzheimer/Roberto/Software/mambaforge/envs/spikesorting/lib/python3.9/multiprocessing/queues.py\", line 102, in get\n",
      "    with self._rlock:\n",
      "  File \"/alzheimer/Roberto/Software/mambaforge/envs/spikesorting/lib/python3.9/multiprocessing/queues.py\", line 102, in get\n",
      "    with self._rlock:\n",
      "  File \"/alzheimer/Roberto/Software/mambaforge/envs/spikesorting/lib/python3.9/concurrent/futures/process.py\", line 240, in _process_worker\n",
      "    call_item = call_queue.get(block=True)\n",
      "  File \"/alzheimer/Roberto/Software/mambaforge/envs/spikesorting/lib/python3.9/multiprocessing/process.py\", line 108, in run\n",
      "    self._target(*self._args, **self._kwargs)\n",
      "  File \"/alzheimer/Roberto/Software/mambaforge/envs/spikesorting/lib/python3.9/multiprocessing/synchronize.py\", line 95, in __enter__\n",
      "    return self._semlock.__enter__()\n",
      "  File \"/alzheimer/Roberto/Software/mambaforge/envs/spikesorting/lib/python3.9/multiprocessing/synchronize.py\", line 95, in __enter__\n",
      "    return self._semlock.__enter__()\n",
      "  File \"/alzheimer/Roberto/Software/mambaforge/envs/spikesorting/lib/python3.9/multiprocessing/synchronize.py\", line 95, in __enter__\n",
      "    return self._semlock.__enter__()\n",
      "  File \"/alzheimer/Roberto/Software/mambaforge/envs/spikesorting/lib/python3.9/multiprocessing/queues.py\", line 103, in get\n",
      "    res = self._recv_bytes()\n",
      "  File \"/alzheimer/Roberto/Software/mambaforge/envs/spikesorting/lib/python3.9/concurrent/futures/process.py\", line 240, in _process_worker\n",
      "    call_item = call_queue.get(block=True)\n",
      "  File \"/alzheimer/Roberto/Software/mambaforge/envs/spikesorting/lib/python3.9/multiprocessing/process.py\", line 108, in run\n",
      "    self._target(*self._args, **self._kwargs)\n",
      "  File \"/alzheimer/Roberto/Software/mambaforge/envs/spikesorting/lib/python3.9/multiprocessing/process.py\", line 108, in run\n",
      "    self._target(*self._args, **self._kwargs)\n",
      "  File \"/alzheimer/Roberto/Software/mambaforge/envs/spikesorting/lib/python3.9/multiprocessing/queues.py\", line 102, in get\n",
      "    with self._rlock:\n",
      "  File \"/alzheimer/Roberto/Software/mambaforge/envs/spikesorting/lib/python3.9/concurrent/futures/process.py\", line 240, in _process_worker\n",
      "    call_item = call_queue.get(block=True)\n",
      "KeyboardInterrupt\n",
      "  File \"/alzheimer/Roberto/Software/mambaforge/envs/spikesorting/lib/python3.9/multiprocessing/connection.py\", line 216, in recv_bytes\n",
      "    buf = self._recv_bytes(maxlength)\n",
      "KeyboardInterrupt\n",
      "  File \"/alzheimer/Roberto/Software/mambaforge/envs/spikesorting/lib/python3.9/multiprocessing/synchronize.py\", line 95, in __enter__\n",
      "    return self._semlock.__enter__()\n",
      "KeyboardInterrupt\n",
      "  File \"/alzheimer/Roberto/Software/mambaforge/envs/spikesorting/lib/python3.9/multiprocessing/queues.py\", line 102, in get\n",
      "    with self._rlock:\n",
      "  File \"/alzheimer/Roberto/Software/mambaforge/envs/spikesorting/lib/python3.9/multiprocessing/synchronize.py\", line 95, in __enter__\n",
      "    return self._semlock.__enter__()\n",
      "  File \"/alzheimer/Roberto/Software/mambaforge/envs/spikesorting/lib/python3.9/concurrent/futures/process.py\", line 240, in _process_worker\n",
      "    call_item = call_queue.get(block=True)\n",
      "KeyboardInterrupt\n",
      "  File \"/alzheimer/Roberto/Software/mambaforge/envs/spikesorting/lib/python3.9/multiprocessing/connection.py\", line 414, in _recv_bytes\n",
      "    buf = self._recv(4)\n",
      "  File \"/alzheimer/Roberto/Software/mambaforge/envs/spikesorting/lib/python3.9/multiprocessing/queues.py\", line 102, in get\n",
      "    with self._rlock:\n",
      "  File \"/alzheimer/Roberto/Software/mambaforge/envs/spikesorting/lib/python3.9/multiprocessing/connection.py\", line 379, in _recv\n",
      "    chunk = read(handle, remaining)\n",
      "KeyboardInterrupt\n",
      "  File \"/alzheimer/Roberto/Software/mambaforge/envs/spikesorting/lib/python3.9/multiprocessing/synchronize.py\", line 95, in __enter__\n",
      "    return self._semlock.__enter__()\n",
      "KeyboardInterrupt\n",
      "Process ForkProcess-115:\n",
      "KeyboardInterrupt\n",
      "Traceback (most recent call last):\n",
      "  File \"/alzheimer/Roberto/Software/mambaforge/envs/spikesorting/lib/python3.9/multiprocessing/process.py\", line 315, in _bootstrap\n",
      "    self.run()\n",
      "  File \"/alzheimer/Roberto/Software/mambaforge/envs/spikesorting/lib/python3.9/multiprocessing/process.py\", line 108, in run\n",
      "    self._target(*self._args, **self._kwargs)\n",
      "  File \"/alzheimer/Roberto/Software/mambaforge/envs/spikesorting/lib/python3.9/concurrent/futures/process.py\", line 240, in _process_worker\n",
      "    call_item = call_queue.get(block=True)\n",
      "  File \"/alzheimer/Roberto/Software/mambaforge/envs/spikesorting/lib/python3.9/multiprocessing/queues.py\", line 102, in get\n",
      "    with self._rlock:\n",
      "  File \"/alzheimer/Roberto/Software/mambaforge/envs/spikesorting/lib/python3.9/multiprocessing/synchronize.py\", line 95, in __enter__\n",
      "    return self._semlock.__enter__()\n",
      "KeyboardInterrupt\n"
     ]
    },
    {
     "ename": "KeyboardInterrupt",
     "evalue": "",
     "output_type": "error",
     "traceback": [
      "\u001b[0;31m---------------------------------------------------------------------------\u001b[0m",
      "\u001b[0;31mKeyboardInterrupt\u001b[0m                         Traceback (most recent call last)",
      "File \u001b[0;32m<timed eval>:1\u001b[0m\n",
      "File \u001b[0;32m/alzheimer/Roberto/Software/mambaforge/envs/spikesorting/lib/python3.9/site-packages/spikeinterface/exporters/to_phy.py:230\u001b[0m, in \u001b[0;36mexport_to_phy\u001b[0;34m(sorting_analyzer, output_folder, compute_pc_features, compute_amplitudes, sparsity, copy_binary, remove_if_exists, peak_sign, template_mode, dtype, verbose, use_relative_path, **job_kwargs)\u001b[0m\n\u001b[1;32m    226\u001b[0m     sorting_analyzer\u001b[38;5;241m.\u001b[39mcompute(\u001b[38;5;124m\"\u001b[39m\u001b[38;5;124mprincipal_components\u001b[39m\u001b[38;5;124m\"\u001b[39m, n_components\u001b[38;5;241m=\u001b[39m\u001b[38;5;241m5\u001b[39m, mode\u001b[38;5;241m=\u001b[39m\u001b[38;5;124m\"\u001b[39m\u001b[38;5;124mby_channel_local\u001b[39m\u001b[38;5;124m\"\u001b[39m, \u001b[38;5;241m*\u001b[39m\u001b[38;5;241m*\u001b[39mjob_kwargs)\n\u001b[1;32m    228\u001b[0m pca_extension \u001b[38;5;241m=\u001b[39m sorting_analyzer\u001b[38;5;241m.\u001b[39mget_extension(\u001b[38;5;124m\"\u001b[39m\u001b[38;5;124mprincipal_components\u001b[39m\u001b[38;5;124m\"\u001b[39m)\n\u001b[0;32m--> 230\u001b[0m \u001b[43mpca_extension\u001b[49m\u001b[38;5;241;43m.\u001b[39;49m\u001b[43mrun_for_all_spikes\u001b[49m\u001b[43m(\u001b[49m\u001b[43moutput_folder\u001b[49m\u001b[43m \u001b[49m\u001b[38;5;241;43m/\u001b[39;49m\u001b[43m \u001b[49m\u001b[38;5;124;43m\"\u001b[39;49m\u001b[38;5;124;43mpc_features.npy\u001b[39;49m\u001b[38;5;124;43m\"\u001b[39;49m\u001b[43m,\u001b[49m\u001b[43m \u001b[49m\u001b[38;5;241;43m*\u001b[39;49m\u001b[38;5;241;43m*\u001b[39;49m\u001b[43mjob_kwargs\u001b[49m\u001b[43m)\u001b[49m\n\u001b[1;32m    232\u001b[0m max_num_channels_pc \u001b[38;5;241m=\u001b[39m \u001b[38;5;28mmax\u001b[39m(\u001b[38;5;28mlen\u001b[39m(chan_inds) \u001b[38;5;28;01mfor\u001b[39;00m chan_inds \u001b[38;5;129;01min\u001b[39;00m used_sparsity\u001b[38;5;241m.\u001b[39munit_id_to_channel_indices\u001b[38;5;241m.\u001b[39mvalues())\n\u001b[1;32m    233\u001b[0m pc_feature_ind \u001b[38;5;241m=\u001b[39m \u001b[38;5;241m-\u001b[39mnp\u001b[38;5;241m.\u001b[39mones((\u001b[38;5;28mlen\u001b[39m(unit_ids), max_num_channels_pc), dtype\u001b[38;5;241m=\u001b[39m\u001b[38;5;124m\"\u001b[39m\u001b[38;5;124mint64\u001b[39m\u001b[38;5;124m\"\u001b[39m)\n",
      "File \u001b[0;32m/alzheimer/Roberto/Software/mambaforge/envs/spikesorting/lib/python3.9/site-packages/spikeinterface/postprocessing/principal_component.py:363\u001b[0m, in \u001b[0;36mComputePrincipalComponents.run_for_all_spikes\u001b[0;34m(self, file_path, **job_kwargs)\u001b[0m\n\u001b[1;32m    353\u001b[0m init_args \u001b[38;5;241m=\u001b[39m (\n\u001b[1;32m    354\u001b[0m     recording,\n\u001b[1;32m    355\u001b[0m     sorting\u001b[38;5;241m.\u001b[39mto_multiprocessing(job_kwargs[\u001b[38;5;124m\"\u001b[39m\u001b[38;5;124mn_jobs\u001b[39m\u001b[38;5;124m\"\u001b[39m]),\n\u001b[0;32m   (...)\u001b[0m\n\u001b[1;32m    360\u001b[0m     pca_model,\n\u001b[1;32m    361\u001b[0m )\n\u001b[1;32m    362\u001b[0m processor \u001b[38;5;241m=\u001b[39m ChunkRecordingExecutor(recording, func, init_func, init_args, job_name\u001b[38;5;241m=\u001b[39m\u001b[38;5;124m\"\u001b[39m\u001b[38;5;124mextract PCs\u001b[39m\u001b[38;5;124m\"\u001b[39m, \u001b[38;5;241m*\u001b[39m\u001b[38;5;241m*\u001b[39mjob_kwargs)\n\u001b[0;32m--> 363\u001b[0m \u001b[43mprocessor\u001b[49m\u001b[38;5;241;43m.\u001b[39;49m\u001b[43mrun\u001b[49m\u001b[43m(\u001b[49m\u001b[43m)\u001b[49m\n",
      "File \u001b[0;32m/alzheimer/Roberto/Software/mambaforge/envs/spikesorting/lib/python3.9/site-packages/spikeinterface/core/job_tools.py:401\u001b[0m, in \u001b[0;36mChunkRecordingExecutor.run\u001b[0;34m(self)\u001b[0m\n\u001b[1;32m    398\u001b[0m \u001b[38;5;28;01mif\u001b[39;00m \u001b[38;5;28mself\u001b[39m\u001b[38;5;241m.\u001b[39mprogress_bar:\n\u001b[1;32m    399\u001b[0m     results \u001b[38;5;241m=\u001b[39m tqdm(results, desc\u001b[38;5;241m=\u001b[39m\u001b[38;5;28mself\u001b[39m\u001b[38;5;241m.\u001b[39mjob_name, total\u001b[38;5;241m=\u001b[39m\u001b[38;5;28mlen\u001b[39m(all_chunks))\n\u001b[0;32m--> 401\u001b[0m \u001b[38;5;28;01mfor\u001b[39;00m res \u001b[38;5;129;01min\u001b[39;00m results:\n\u001b[1;32m    402\u001b[0m     \u001b[38;5;28;01mif\u001b[39;00m \u001b[38;5;28mself\u001b[39m\u001b[38;5;241m.\u001b[39mhandle_returns:\n\u001b[1;32m    403\u001b[0m         returns\u001b[38;5;241m.\u001b[39mappend(res)\n",
      "File \u001b[0;32m/alzheimer/Roberto/Software/mambaforge/envs/spikesorting/lib/python3.9/site-packages/tqdm/notebook.py:250\u001b[0m, in \u001b[0;36mtqdm_notebook.__iter__\u001b[0;34m(self)\u001b[0m\n\u001b[1;32m    248\u001b[0m \u001b[38;5;28;01mtry\u001b[39;00m:\n\u001b[1;32m    249\u001b[0m     it \u001b[38;5;241m=\u001b[39m \u001b[38;5;28msuper\u001b[39m(tqdm_notebook, \u001b[38;5;28mself\u001b[39m)\u001b[38;5;241m.\u001b[39m\u001b[38;5;21m__iter__\u001b[39m()\n\u001b[0;32m--> 250\u001b[0m     \u001b[38;5;28;01mfor\u001b[39;00m obj \u001b[38;5;129;01min\u001b[39;00m it:\n\u001b[1;32m    251\u001b[0m         \u001b[38;5;66;03m# return super(tqdm...) will not catch exception\u001b[39;00m\n\u001b[1;32m    252\u001b[0m         \u001b[38;5;28;01myield\u001b[39;00m obj\n\u001b[1;32m    253\u001b[0m \u001b[38;5;66;03m# NB: except ... [ as ...] breaks IPython async KeyboardInterrupt\u001b[39;00m\n",
      "File \u001b[0;32m/alzheimer/Roberto/Software/mambaforge/envs/spikesorting/lib/python3.9/site-packages/tqdm/std.py:1181\u001b[0m, in \u001b[0;36mtqdm.__iter__\u001b[0;34m(self)\u001b[0m\n\u001b[1;32m   1178\u001b[0m time \u001b[38;5;241m=\u001b[39m \u001b[38;5;28mself\u001b[39m\u001b[38;5;241m.\u001b[39m_time\n\u001b[1;32m   1180\u001b[0m \u001b[38;5;28;01mtry\u001b[39;00m:\n\u001b[0;32m-> 1181\u001b[0m     \u001b[38;5;28;01mfor\u001b[39;00m obj \u001b[38;5;129;01min\u001b[39;00m iterable:\n\u001b[1;32m   1182\u001b[0m         \u001b[38;5;28;01myield\u001b[39;00m obj\n\u001b[1;32m   1183\u001b[0m         \u001b[38;5;66;03m# Update and possibly print the progressbar.\u001b[39;00m\n\u001b[1;32m   1184\u001b[0m         \u001b[38;5;66;03m# Note: does not call self.update(1) for speed optimisation.\u001b[39;00m\n",
      "File \u001b[0;32m/alzheimer/Roberto/Software/mambaforge/envs/spikesorting/lib/python3.9/concurrent/futures/process.py:562\u001b[0m, in \u001b[0;36m_chain_from_iterable_of_lists\u001b[0;34m(iterable)\u001b[0m\n\u001b[1;32m    556\u001b[0m \u001b[38;5;28;01mdef\u001b[39;00m \u001b[38;5;21m_chain_from_iterable_of_lists\u001b[39m(iterable):\n\u001b[1;32m    557\u001b[0m \u001b[38;5;250m    \u001b[39m\u001b[38;5;124;03m\"\"\"\u001b[39;00m\n\u001b[1;32m    558\u001b[0m \u001b[38;5;124;03m    Specialized implementation of itertools.chain.from_iterable.\u001b[39;00m\n\u001b[1;32m    559\u001b[0m \u001b[38;5;124;03m    Each item in *iterable* should be a list.  This function is\u001b[39;00m\n\u001b[1;32m    560\u001b[0m \u001b[38;5;124;03m    careful not to keep references to yielded objects.\u001b[39;00m\n\u001b[1;32m    561\u001b[0m \u001b[38;5;124;03m    \"\"\"\u001b[39;00m\n\u001b[0;32m--> 562\u001b[0m     \u001b[38;5;28;01mfor\u001b[39;00m element \u001b[38;5;129;01min\u001b[39;00m iterable:\n\u001b[1;32m    563\u001b[0m         element\u001b[38;5;241m.\u001b[39mreverse()\n\u001b[1;32m    564\u001b[0m         \u001b[38;5;28;01mwhile\u001b[39;00m element:\n",
      "File \u001b[0;32m/alzheimer/Roberto/Software/mambaforge/envs/spikesorting/lib/python3.9/concurrent/futures/_base.py:609\u001b[0m, in \u001b[0;36mExecutor.map.<locals>.result_iterator\u001b[0;34m()\u001b[0m\n\u001b[1;32m    606\u001b[0m \u001b[38;5;28;01mwhile\u001b[39;00m fs:\n\u001b[1;32m    607\u001b[0m     \u001b[38;5;66;03m# Careful not to keep a reference to the popped future\u001b[39;00m\n\u001b[1;32m    608\u001b[0m     \u001b[38;5;28;01mif\u001b[39;00m timeout \u001b[38;5;129;01mis\u001b[39;00m \u001b[38;5;28;01mNone\u001b[39;00m:\n\u001b[0;32m--> 609\u001b[0m         \u001b[38;5;28;01myield\u001b[39;00m \u001b[43mfs\u001b[49m\u001b[38;5;241;43m.\u001b[39;49m\u001b[43mpop\u001b[49m\u001b[43m(\u001b[49m\u001b[43m)\u001b[49m\u001b[38;5;241;43m.\u001b[39;49m\u001b[43mresult\u001b[49m\u001b[43m(\u001b[49m\u001b[43m)\u001b[49m\n\u001b[1;32m    610\u001b[0m     \u001b[38;5;28;01melse\u001b[39;00m:\n\u001b[1;32m    611\u001b[0m         \u001b[38;5;28;01myield\u001b[39;00m fs\u001b[38;5;241m.\u001b[39mpop()\u001b[38;5;241m.\u001b[39mresult(end_time \u001b[38;5;241m-\u001b[39m time\u001b[38;5;241m.\u001b[39mmonotonic())\n",
      "File \u001b[0;32m/alzheimer/Roberto/Software/mambaforge/envs/spikesorting/lib/python3.9/concurrent/futures/_base.py:441\u001b[0m, in \u001b[0;36mFuture.result\u001b[0;34m(self, timeout)\u001b[0m\n\u001b[1;32m    438\u001b[0m \u001b[38;5;28;01melif\u001b[39;00m \u001b[38;5;28mself\u001b[39m\u001b[38;5;241m.\u001b[39m_state \u001b[38;5;241m==\u001b[39m FINISHED:\n\u001b[1;32m    439\u001b[0m     \u001b[38;5;28;01mreturn\u001b[39;00m \u001b[38;5;28mself\u001b[39m\u001b[38;5;241m.\u001b[39m__get_result()\n\u001b[0;32m--> 441\u001b[0m \u001b[38;5;28;43mself\u001b[39;49m\u001b[38;5;241;43m.\u001b[39;49m\u001b[43m_condition\u001b[49m\u001b[38;5;241;43m.\u001b[39;49m\u001b[43mwait\u001b[49m\u001b[43m(\u001b[49m\u001b[43mtimeout\u001b[49m\u001b[43m)\u001b[49m\n\u001b[1;32m    443\u001b[0m \u001b[38;5;28;01mif\u001b[39;00m \u001b[38;5;28mself\u001b[39m\u001b[38;5;241m.\u001b[39m_state \u001b[38;5;129;01min\u001b[39;00m [CANCELLED, CANCELLED_AND_NOTIFIED]:\n\u001b[1;32m    444\u001b[0m     \u001b[38;5;28;01mraise\u001b[39;00m CancelledError()\n",
      "File \u001b[0;32m/alzheimer/Roberto/Software/mambaforge/envs/spikesorting/lib/python3.9/threading.py:312\u001b[0m, in \u001b[0;36mCondition.wait\u001b[0;34m(self, timeout)\u001b[0m\n\u001b[1;32m    310\u001b[0m \u001b[38;5;28;01mtry\u001b[39;00m:    \u001b[38;5;66;03m# restore state no matter what (e.g., KeyboardInterrupt)\u001b[39;00m\n\u001b[1;32m    311\u001b[0m     \u001b[38;5;28;01mif\u001b[39;00m timeout \u001b[38;5;129;01mis\u001b[39;00m \u001b[38;5;28;01mNone\u001b[39;00m:\n\u001b[0;32m--> 312\u001b[0m         \u001b[43mwaiter\u001b[49m\u001b[38;5;241;43m.\u001b[39;49m\u001b[43macquire\u001b[49m\u001b[43m(\u001b[49m\u001b[43m)\u001b[49m\n\u001b[1;32m    313\u001b[0m         gotit \u001b[38;5;241m=\u001b[39m \u001b[38;5;28;01mTrue\u001b[39;00m\n\u001b[1;32m    314\u001b[0m     \u001b[38;5;28;01melse\u001b[39;00m:\n",
      "\u001b[0;31mKeyboardInterrupt\u001b[0m: "
     ]
    }
   ],
   "source": [
    "%%time\n",
    "export_to_phy(analyzer, output_folder=f\"{path_recording_folder}/spike_interface_output/probe{group}/phy\", copy_binary=True, verbose=True, n_jobs=20, chunk_duration='30s', progress_bar=True)\n",
    "        \n",
    "    "
   ]
  },
  {
   "cell_type": "code",
   "execution_count": 52,
   "id": "4973d5d0-ec3a-44f2-998e-d352e7689700",
   "metadata": {},
   "outputs": [],
   "source": [
    "group=0"
   ]
  },
  {
   "cell_type": "code",
   "execution_count": null,
   "id": "c8035b36-11a1-4c08-a4be-7738682f8604",
   "metadata": {},
   "outputs": [],
   "source": [
    "%%time"
   ]
  },
  {
   "cell_type": "code",
   "execution_count": null,
   "id": "50d787c9-d097-4fc2-87b9-2d45045162e9",
   "metadata": {},
   "outputs": [],
   "source": []
  },
  {
   "cell_type": "code",
   "execution_count": 809,
   "id": "3170a937-f266-4711-890f-985f92e9ece8",
   "metadata": {},
   "outputs": [
    {
     "name": "stdout",
     "output_type": "stream",
     "text": [
      "No gaps detected.\n"
     ]
    }
   ],
   "source": []
  },
  {
   "cell_type": "markdown",
   "id": "14cfe9ed-c694-4c52-980b-dda7c9f63c6f",
   "metadata": {},
   "source": [
    "# Trash"
   ]
  },
  {
   "cell_type": "markdown",
   "id": "0baa1688-a3ac-4095-bfd2-6a6042fcaf0e",
   "metadata": {},
   "source": [
    "### Export Analog IO channels"
   ]
  },
  {
   "cell_type": "code",
   "execution_count": 160,
   "id": "74ca6465-ab54-43f1-a1e1-61d510146bbe",
   "metadata": {},
   "outputs": [
    {
     "name": "stdout",
     "output_type": "stream",
     "text": [
      "'.analog' folder alread available: 20231212_183552.analog\n",
      "CPU times: user 553 µs, sys: 109 µs, total: 662 µs\n",
      "Wall time: 770 µs\n"
     ]
    }
   ],
   "source": [
    "%%time\n",
    "extract_analogIO(path_recording_folder, path_recording)# 55 min too slow\n"
   ]
  },
  {
   "cell_type": "markdown",
   "id": "44682015-b2c5-468a-a72e-be9eb7cd8959",
   "metadata": {},
   "source": [
    "### Export timestamps"
   ]
  },
  {
   "cell_type": "code",
   "execution_count": 161,
   "id": "e92a966b-e589-4081-8de4-81d3554a2398",
   "metadata": {},
   "outputs": [
    {
     "name": "stdout",
     "output_type": "stream",
     "text": [
      "CPU times: user 4 µs, sys: 1e+03 ns, total: 5 µs\n",
      "Wall time: 9.78 µs\n"
     ]
    }
   ],
   "source": [
    "%%time\n",
    "#extract_time(path_recording_folder, path_recording) # slower than analogIO somehow!!"
   ]
  },
  {
   "cell_type": "markdown",
   "id": "e7e156a2-4a35-4e36-b288-0fdd6fac0cfa",
   "metadata": {},
   "source": [
    "## Load Trodes timestamps"
   ]
  },
  {
   "cell_type": "code",
   "execution_count": 174,
   "id": "3cc23407-518f-4955-a8f4-4a99077f4d50",
   "metadata": {},
   "outputs": [],
   "source": [
    "path_analogIO_folder = Path(path_recording_folder,  f\"{rec_file_name[:rec_file_name.rfind('.')]}.analog\")"
   ]
  },
  {
   "cell_type": "code",
   "execution_count": 521,
   "id": "b2a3e731-8777-425f-837a-09dbb6c83255",
   "metadata": {},
   "outputs": [
    {
     "ename": "NameError",
     "evalue": "name 'path_analogIO_folder' is not defined",
     "output_type": "error",
     "traceback": [
      "\u001b[0;31m---------------------------------------------------------------------------\u001b[0m",
      "\u001b[0;31mNameError\u001b[0m                                 Traceback (most recent call last)",
      "Cell \u001b[0;32mIn[521], line 2\u001b[0m\n\u001b[1;32m      1\u001b[0m \u001b[38;5;28;01mfrom\u001b[39;00m \u001b[38;5;21;01mUtils\u001b[39;00m\u001b[38;5;21;01m.\u001b[39;00m\u001b[38;5;21;01mTrodesToPython\u001b[39;00m\u001b[38;5;21;01m.\u001b[39;00m\u001b[38;5;21;01mreadTrodesExtractedDataFile3\u001b[39;00m \u001b[38;5;28;01mimport\u001b[39;00m readTrodesExtractedDataFile, get_Trodes_timestamps\n\u001b[0;32m----> 2\u001b[0m analog_dict \u001b[38;5;241m=\u001b[39m readTrodesExtractedDataFile(Path(\u001b[43mpath_analogIO_folder\u001b[49m, \u001b[38;5;124mf\u001b[39m\u001b[38;5;124m\"\u001b[39m\u001b[38;5;132;01m{\u001b[39;00mrec_file_name[:rec_file_name\u001b[38;5;241m.\u001b[39mrfind(\u001b[38;5;124m'\u001b[39m\u001b[38;5;124m.\u001b[39m\u001b[38;5;124m'\u001b[39m)]\u001b[38;5;132;01m}\u001b[39;00m\u001b[38;5;124m.timestamps.dat\u001b[39m\u001b[38;5;124m\"\u001b[39m))\n",
      "\u001b[0;31mNameError\u001b[0m: name 'path_analogIO_folder' is not defined"
     ]
    }
   ],
   "source": [
    "from Utils.TrodesToPython.readTrodesExtractedDataFile3 import readTrodesExtractedDataFile, get_Trodes_timestamps\n",
    "analog_dict = readTrodesExtractedDataFile(Path(path_analogIO_folder, f\"{rec_file_name[:rec_file_name.rfind('.')]}.timestamps.dat\"))"
   ]
  },
  {
   "cell_type": "code",
   "execution_count": 178,
   "id": "2f50eb3c-93f5-4036-8cbf-9ea146e2accb",
   "metadata": {
    "jupyter": {
     "source_hidden": true
    }
   },
   "outputs": [
    {
     "data": {
      "text/plain": [
       "(277320457,)"
      ]
     },
     "execution_count": 178,
     "metadata": {},
     "output_type": "execute_result"
    }
   ],
   "source": [
    "analog_dict[\"data\"].shape"
   ]
  },
  {
   "cell_type": "code",
   "execution_count": 179,
   "id": "9bb7ae17-5c09-4d81-a3d9-8e2023526e54",
   "metadata": {},
   "outputs": [
    {
     "data": {
      "text/plain": [
       "277320457"
      ]
     },
     "execution_count": 179,
     "metadata": {},
     "output_type": "execute_result"
    }
   ],
   "source": [
    "raw_rec.get_total_samples()"
   ]
  },
  {
   "cell_type": "code",
   "execution_count": 640,
   "id": "faa6b1e8-4342-460b-b2f2-6e20e9458671",
   "metadata": {},
   "outputs": [
    {
     "name": "stdout",
     "output_type": "stream",
     "text": [
      "CPU times: user 849 µs, sys: 467 ms, total: 468 ms\n",
      "Wall time: 465 ms\n"
     ]
    }
   ],
   "source": [
    "%%time\n",
    "kilosort_timestamp2 = get_Trodes_timestamps(Path(\"/alzheimer/Roberto/Dariya/12/ephys/20240126_184212.rec/test/20240126_184212.timestamps.dat\"))"
   ]
  },
  {
   "cell_type": "code",
   "execution_count": null,
   "id": "f138984d-cafb-4c54-af7f-6383d18a8659",
   "metadata": {},
   "outputs": [],
   "source": []
  },
  {
   "cell_type": "code",
   "execution_count": null,
   "id": "5b326dce-d53d-4775-8b5b-8d6809f0063a",
   "metadata": {},
   "outputs": [],
   "source": []
  },
  {
   "cell_type": "code",
   "execution_count": null,
   "id": "77a7fe8b-88b5-494b-aec3-f126fbe1db59",
   "metadata": {},
   "outputs": [],
   "source": []
  },
  {
   "cell_type": "code",
   "execution_count": 643,
   "id": "34693f93-fb3f-471b-bf6d-1bd8b126865f",
   "metadata": {},
   "outputs": [
    {
     "data": {
      "text/plain": [
       "array([  2871885,   2871886,   2871887, ..., 227366668, 227366669,\n",
       "       227366670], dtype=uint32)"
      ]
     },
     "execution_count": 643,
     "metadata": {},
     "output_type": "execute_result"
    }
   ],
   "source": [
    "kilosort_timestamp2"
   ]
  },
  {
   "cell_type": "code",
   "execution_count": 187,
   "id": "2e36b2bf-6e6a-4e9d-9343-78242b03d76a",
   "metadata": {},
   "outputs": [
    {
     "data": {
      "text/plain": [
       "array([  1279032,   1279033,   1279034, ..., 278599486, 278599487,\n",
       "       278599488], dtype=uint32)"
      ]
     },
     "execution_count": 187,
     "metadata": {},
     "output_type": "execute_result"
    }
   ],
   "source": [
    "analog_dict[\"data\"][\"time\"]"
   ]
  },
  {
   "cell_type": "code",
   "execution_count": 641,
   "id": "e41048f8-ee9b-4fb0-862a-cce2acd12d51",
   "metadata": {},
   "outputs": [
    {
     "name": "stdout",
     "output_type": "stream",
     "text": [
      "CPU times: user 0 ns, sys: 452 ms, total: 452 ms\n",
      "Wall time: 449 ms\n"
     ]
    }
   ],
   "source": [
    "%%time\n",
    "kilosort_timestamp = readTrodesExtractedDataFile(Path(\"/alzheimer/Roberto/Dariya/12/ephys/20240126_184212.rec/test/20240126_184212.timestamps.dat\"))"
   ]
  },
  {
   "cell_type": "code",
   "execution_count": 638,
   "id": "8b0bcaa1-ab58-420a-b01b-00eda07b0a4e",
   "metadata": {},
   "outputs": [
    {
     "data": {
      "text/plain": [
       "array([  2871885,   2871886,   2871887, ..., 227366668, 227366669,\n",
       "       227366670], dtype=uint32)"
      ]
     },
     "execution_count": 638,
     "metadata": {},
     "output_type": "execute_result"
    }
   ],
   "source": [
    "kilosort_timestamp[\"data\"][\"time\"]"
   ]
  },
  {
   "cell_type": "code",
   "execution_count": 671,
   "id": "53270c43-439f-42aa-b582-0557c0f95f34",
   "metadata": {},
   "outputs": [],
   "source": [
    "analog_timestamp = readTrodesExtractedDataFile(Path(\"/alzheimer/Roberto/Dariya/12/ephys/20240126_184212.rec/test/20240126_184212.timestampsanalog.dat\"))"
   ]
  },
  {
   "cell_type": "code",
   "execution_count": 608,
   "id": "068b2ace-d4ec-452d-9639-e69993e6d6ae",
   "metadata": {},
   "outputs": [
    {
     "data": {
      "text/plain": [
       "array([   1,    2,    3,  691, 1437, 2094, 2374, 2375, 2390, 2391],\n",
       "      dtype=uint32)"
      ]
     },
     "execution_count": 608,
     "metadata": {},
     "output_type": "execute_result"
    }
   ],
   "source": [
    "np.unique(np.diff(analog_timestamp[\"data\"][\"time\"]))"
   ]
  },
  {
   "cell_type": "code",
   "execution_count": 609,
   "id": "b67ca5c8-c3b3-4a95-b1c6-dc9747ad38f5",
   "metadata": {},
   "outputs": [
    {
     "data": {
      "text/plain": [
       "array([   1,    2,    3,  691, 1437, 2094, 2374, 2375, 2390, 2391],\n",
       "      dtype=uint32)"
      ]
     },
     "execution_count": 609,
     "metadata": {},
     "output_type": "execute_result"
    }
   ],
   "source": [
    "np.unique(np.diff(kilosort_timestamp[\"data\"][\"time\"]))"
   ]
  },
  {
   "cell_type": "code",
   "execution_count": 539,
   "id": "1a184a9e-e386-44ba-891b-6887579a5381",
   "metadata": {},
   "outputs": [
    {
     "data": {
      "text/plain": [
       "array([3.33333328e-05, 3.33333332e-05, 3.33333333e-05, 3.33333333e-05,\n",
       "       3.33333333e-05, 3.33333333e-05, 3.33333333e-05, 3.33333333e-05,\n",
       "       3.33333333e-05, 3.33333333e-05, 3.33333333e-05, 3.33333333e-05,\n",
       "       3.33333333e-05, 3.33333333e-05, 3.33333333e-05, 3.33333333e-05,\n",
       "       3.33333333e-05, 3.33333333e-05, 3.33333333e-05, 3.33333333e-05,\n",
       "       3.33333333e-05, 3.33333333e-05, 3.33333333e-05, 3.33333333e-05,\n",
       "       3.33333333e-05, 3.33333334e-05, 3.33333335e-05, 3.33333337e-05])"
      ]
     },
     "execution_count": 539,
     "metadata": {},
     "output_type": "execute_result"
    }
   ],
   "source": [
    "np.unique(np.diff(raw_rec.get_times()))"
   ]
  },
  {
   "cell_type": "code",
   "execution_count": 601,
   "id": "307e300c-c384-47f6-824d-ea5e7fe3691d",
   "metadata": {},
   "outputs": [
    {
     "data": {
      "text/plain": [
       "array([0.00000000e+00, 3.33333333e-05, 6.66666667e-05, ...,\n",
       "       7.48217130e+03, 7.48217133e+03, 7.48217137e+03])"
      ]
     },
     "execution_count": 601,
     "metadata": {},
     "output_type": "execute_result"
    }
   ],
   "source": [
    "raw_rec.get_times()"
   ]
  },
  {
   "cell_type": "code",
   "execution_count": 604,
   "id": "8e393177-1d38-4362-b105-b22ed23cab41",
   "metadata": {},
   "outputs": [
    {
     "data": {
      "text/plain": [
       "array([0.00000000e+00, 3.33333333e-05, 6.66666667e-05, ...,\n",
       "       7.48315943e+03, 7.48315947e+03, 7.48315950e+03])"
      ]
     },
     "execution_count": 604,
     "metadata": {},
     "output_type": "execute_result"
    }
   ],
   "source": [
    "(analog_timestamp[\"data\"][\"time\"]- analog_timestamp[\"data\"][\"time\"][0]) / 30000.0"
   ]
  },
  {
   "cell_type": "code",
   "execution_count": 513,
   "id": "4560db5d-84b0-49ae-91fe-15e766624053",
   "metadata": {},
   "outputs": [
    {
     "data": {
      "text/plain": [
       "array([  2871885,   2871886,   2871887, ..., 227366668, 227366669,\n",
       "       227366670], dtype=uint32)"
      ]
     },
     "execution_count": 513,
     "metadata": {},
     "output_type": "execute_result"
    }
   ],
   "source": [
    "analog_timestamp[\"data\"][\"time\"]"
   ]
  },
  {
   "cell_type": "code",
   "execution_count": 655,
   "id": "c39fa20e-ff09-40c7-b565-16be8aeb31f5",
   "metadata": {},
   "outputs": [
    {
     "name": "stdout",
     "output_type": "stream",
     "text": [
      "CPU times: user 3.59 ms, sys: 1.66 s, total: 1.66 s\n",
      "Wall time: 6.6 s\n"
     ]
    }
   ],
   "source": [
    "%%time\n",
    "t=readTrodesExtractedDataFile(Path(\"/alzheimer/Roberto/Dariya/12/ephys/20231212_183552.rec/20231212_183552.analog/20231212_183552.analog_Headstage_GyroX.dat\"))"
   ]
  },
  {
   "cell_type": "code",
   "execution_count": 670,
   "id": "396cd20e-645a-47ac-8503-7385acbd3e70",
   "metadata": {},
   "outputs": [
    {
     "name": "stdout",
     "output_type": "stream",
     "text": [
      "Found 1 timestamps.dat files\n"
     ]
    },
    {
     "data": {
      "text/plain": [
       "['/alzheimer/Roberto/Dariya/12/ephys/20231212_183552.rec/20231212_183552.analog/20231212_183552.timestamps.dat']"
      ]
     },
     "execution_count": 670,
     "metadata": {},
     "output_type": "execute_result"
    }
   ],
   "source": [
    "path_timestamps = find_file(\"/alzheimer/Roberto/Dariya/12/ephys/20231212_183552.rec/\", \"timestamps.dat\")\n",
    "path_timestamps"
   ]
  },
  {
   "cell_type": "code",
   "execution_count": 666,
   "id": "ed0c81ae-9641-4ddd-a9ef-d92366e597d6",
   "metadata": {},
   "outputs": [],
   "source": [
    "path_timestamps"
   ]
  },
  {
   "cell_type": "code",
   "execution_count": 657,
   "id": "cd1302ca-b1fb-44c6-915a-60416a44a35f",
   "metadata": {},
   "outputs": [
    {
     "data": {
      "text/plain": [
       "[<matplotlib.lines.Line2D at 0x7fcc5e23cd30>]"
      ]
     },
     "execution_count": 657,
     "metadata": {},
     "output_type": "execute_result"
    },
    {
     "data": {
      "image/png": "[encoded data removed]",
      "text/plain": [
       "<Figure size 640x480 with 1 Axes>"
      ]
     },
     "metadata": {},
     "output_type": "display_data"
    }
   ],
   "source": [
    "plt.plot(t[\"data\"][\"voltage\"][:30000*20])"
   ]
  },
  {
   "cell_type": "code",
   "execution_count": null,
   "id": "512de35d-d152-45b1-8030-94171b1f31a3",
   "metadata": {},
   "outputs": [],
   "source": []
  },
  {
   "cell_type": "code",
   "execution_count": null,
   "id": "f29b86a4-e606-4320-ab8b-24d41524a66d",
   "metadata": {},
   "outputs": [],
   "source": []
  },
  {
   "cell_type": "markdown",
   "id": "5d168b4e-cc71-4c2d-966a-1836b1c95a1f",
   "metadata": {},
   "source": [
    "## save space"
   ]
  },
  {
   "cell_type": "code",
   "execution_count": 41,
   "id": "737e490e-aa42-435d-ae5f-9d6a1479758d",
   "metadata": {},
   "outputs": [
    {
     "data": {
      "text/plain": [
       "SortingAnalyzer: 768 channels - 278 units - 1 segments - binary_folder - sparse - has recording\n",
       "Loaded 10 extensions: spike_amplitudes, waveforms, unit_locations, template_similarity, templates, template_metrics, random_spikes, noise_levels, correlograms, quality_metrics"
      ]
     },
     "execution_count": 41,
     "metadata": {},
     "output_type": "execute_result"
    }
   ],
   "source": [
    "analyzer = load_sorting_analyzer(f\"{path_recording_folder}/spike_interface_output/probe0/sorting_analyzer_allchan/\")\n",
    "analyzer"
   ]
  },
  {
   "cell_type": "code",
   "execution_count": 42,
   "id": "6b278302-1559-463b-9c5e-01fd5ee3733f",
   "metadata": {},
   "outputs": [
    {
     "data": {
      "text/plain": [
       "SortingAnalyzer: 384 channels - 278 units - 1 segments - binary_folder - sparse - has recording\n",
       "Loaded 11 extensions: spike_amplitudes, template_similarity, random_spikes, templates, spike_locations, unit_locations, noise_levels, correlograms, waveforms, template_metrics, quality_metrics"
      ]
     },
     "execution_count": 42,
     "metadata": {},
     "output_type": "execute_result"
    }
   ],
   "source": [
    "analyzer = load_sorting_analyzer(f\"{path_recording_folder}/spike_interface_output/probe0/sorting_analyzer/\")\n",
    "analyzer"
   ]
  }
 ],
 "metadata": {
  "kernelspec": {
   "display_name": "Python 3 (ipykernel)",
   "language": "python",
   "name": "python3"
  },
  "language_info": {
   "codemirror_mode": {
    "name": "ipython",
    "version": 3
   },
   "file_extension": ".py",
   "mimetype": "text/x-python",
   "name": "python",
   "nbconvert_exporter": "python",
   "pygments_lexer": "ipython3",
   "version": "3.9.18"
  }
 },
 "nbformat": 4,
 "nbformat_minor": 5
}

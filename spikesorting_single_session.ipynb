{
 "cells": [
  {
   "cell_type": "code",
   "execution_count": 1,
   "id": "e78940eb-18f0-48cb-9b9e-c7fa67a20dcb",
   "metadata": {},
   "outputs": [
    {
     "data": {
      "application/javascript": [
       "(function(root) {\n",
       "  function now() {\n",
       "    return new Date();\n",
       "  }\n",
       "\n",
       "  var force = true;\n",
       "  var py_version = '3.4.1'.replace('rc', '-rc.').replace('.dev', '-dev.');\n",
       "  var reloading = false;\n",
       "  var Bokeh = root.Bokeh;\n",
       "\n",
       "  if (typeof (root._bokeh_timeout) === \"undefined\" || force) {\n",
       "    root._bokeh_timeout = Date.now() + 5000;\n",
       "    root._bokeh_failed_load = false;\n",
       "  }\n",
       "\n",
       "  function run_callbacks() {\n",
       "    try {\n",
       "      root._bokeh_onload_callbacks.forEach(function(callback) {\n",
       "        if (callback != null)\n",
       "          callback();\n",
       "      });\n",
       "    } finally {\n",
       "      delete root._bokeh_onload_callbacks;\n",
       "    }\n",
       "    console.debug(\"Bokeh: all callbacks have finished\");\n",
       "  }\n",
       "\n",
       "  function load_libs(css_urls, js_urls, js_modules, js_exports, callback) {\n",
       "    if (css_urls == null) css_urls = [];\n",
       "    if (js_urls == null) js_urls = [];\n",
       "    if (js_modules == null) js_modules = [];\n",
       "    if (js_exports == null) js_exports = {};\n",
       "\n",
       "    root._bokeh_onload_callbacks.push(callback);\n",
       "\n",
       "    if (root._bokeh_is_loading > 0) {\n",
       "      console.debug(\"Bokeh: BokehJS is being loaded, scheduling callback at\", now());\n",
       "      return null;\n",
       "    }\n",
       "    if (js_urls.length === 0 && js_modules.length === 0 && Object.keys(js_exports).length === 0) {\n",
       "      run_callbacks();\n",
       "      return null;\n",
       "    }\n",
       "    if (!reloading) {\n",
       "      console.debug(\"Bokeh: BokehJS not loaded, scheduling load and callback at\", now());\n",
       "    }\n",
       "\n",
       "    function on_load() {\n",
       "      root._bokeh_is_loading--;\n",
       "      if (root._bokeh_is_loading === 0) {\n",
       "        console.debug(\"Bokeh: all BokehJS libraries/stylesheets loaded\");\n",
       "        run_callbacks()\n",
       "      }\n",
       "    }\n",
       "    window._bokeh_on_load = on_load\n",
       "\n",
       "    function on_error() {\n",
       "      console.error(\"failed to load \" + url);\n",
       "    }\n",
       "\n",
       "    var skip = [];\n",
       "    if (window.requirejs) {\n",
       "      window.requirejs.config({'packages': {}, 'paths': {}, 'shim': {}});\n",
       "      root._bokeh_is_loading = css_urls.length + 0;\n",
       "    } else {\n",
       "      root._bokeh_is_loading = css_urls.length + js_urls.length + js_modules.length + Object.keys(js_exports).length;\n",
       "    }\n",
       "\n",
       "    var existing_stylesheets = []\n",
       "    var links = document.getElementsByTagName('link')\n",
       "    for (var i = 0; i < links.length; i++) {\n",
       "      var link = links[i]\n",
       "      if (link.href != null) {\n",
       "\texisting_stylesheets.push(link.href)\n",
       "      }\n",
       "    }\n",
       "    for (var i = 0; i < css_urls.length; i++) {\n",
       "      var url = css_urls[i];\n",
       "      if (existing_stylesheets.indexOf(url) !== -1) {\n",
       "\ton_load()\n",
       "\tcontinue;\n",
       "      }\n",
       "      const element = document.createElement(\"link\");\n",
       "      element.onload = on_load;\n",
       "      element.onerror = on_error;\n",
       "      element.rel = \"stylesheet\";\n",
       "      element.type = \"text/css\";\n",
       "      element.href = url;\n",
       "      console.debug(\"Bokeh: injecting link tag for BokehJS stylesheet: \", url);\n",
       "      document.body.appendChild(element);\n",
       "    }    var existing_scripts = []\n",
       "    var scripts = document.getElementsByTagName('script')\n",
       "    for (var i = 0; i < scripts.length; i++) {\n",
       "      var script = scripts[i]\n",
       "      if (script.src != null) {\n",
       "\texisting_scripts.push(script.src)\n",
       "      }\n",
       "    }\n",
       "    for (var i = 0; i < js_urls.length; i++) {\n",
       "      var url = js_urls[i];\n",
       "      if (skip.indexOf(url) !== -1 || existing_scripts.indexOf(url) !== -1) {\n",
       "\tif (!window.requirejs) {\n",
       "\t  on_load();\n",
       "\t}\n",
       "\tcontinue;\n",
       "      }\n",
       "      var element = document.createElement('script');\n",
       "      element.onload = on_load;\n",
       "      element.onerror = on_error;\n",
       "      element.async = false;\n",
       "      element.src = url;\n",
       "      console.debug(\"Bokeh: injecting script tag for BokehJS library: \", url);\n",
       "      document.head.appendChild(element);\n",
       "    }\n",
       "    for (var i = 0; i < js_modules.length; i++) {\n",
       "      var url = js_modules[i];\n",
       "      if (skip.indexOf(url) !== -1 || existing_scripts.indexOf(url) !== -1) {\n",
       "\tif (!window.requirejs) {\n",
       "\t  on_load();\n",
       "\t}\n",
       "\tcontinue;\n",
       "      }\n",
       "      var element = document.createElement('script');\n",
       "      element.onload = on_load;\n",
       "      element.onerror = on_error;\n",
       "      element.async = false;\n",
       "      element.src = url;\n",
       "      element.type = \"module\";\n",
       "      console.debug(\"Bokeh: injecting script tag for BokehJS library: \", url);\n",
       "      document.head.appendChild(element);\n",
       "    }\n",
       "    for (const name in js_exports) {\n",
       "      var url = js_exports[name];\n",
       "      if (skip.indexOf(url) >= 0 || root[name] != null) {\n",
       "\tif (!window.requirejs) {\n",
       "\t  on_load();\n",
       "\t}\n",
       "\tcontinue;\n",
       "      }\n",
       "      var element = document.createElement('script');\n",
       "      element.onerror = on_error;\n",
       "      element.async = false;\n",
       "      element.type = \"module\";\n",
       "      console.debug(\"Bokeh: injecting script tag for BokehJS library: \", url);\n",
       "      element.textContent = `\n",
       "      import ${name} from \"${url}\"\n",
       "      window.${name} = ${name}\n",
       "      window._bokeh_on_load()\n",
       "      `\n",
       "      document.head.appendChild(element);\n",
       "    }\n",
       "    if (!js_urls.length && !js_modules.length) {\n",
       "      on_load()\n",
       "    }\n",
       "  };\n",
       "\n",
       "  function inject_raw_css(css) {\n",
       "    const element = document.createElement(\"style\");\n",
       "    element.appendChild(document.createTextNode(css));\n",
       "    document.body.appendChild(element);\n",
       "  }\n",
       "\n",
       "  var js_urls = [\"https://cdn.bokeh.org/bokeh/release/bokeh-3.4.1.min.js\", \"https://cdn.bokeh.org/bokeh/release/bokeh-gl-3.4.1.min.js\", \"https://cdn.bokeh.org/bokeh/release/bokeh-widgets-3.4.1.min.js\", \"https://cdn.bokeh.org/bokeh/release/bokeh-tables-3.4.1.min.js\", \"https://cdn.holoviz.org/panel/1.4.1/dist/bundled/bootstrap5/js/bootstrap.bundle.min.js\", \"https://cdn.holoviz.org/panel/1.4.1/dist/panel.min.js\"];\n",
       "  var js_modules = [];\n",
       "  var js_exports = {};\n",
       "  var css_urls = [];\n",
       "  var inline_js = [    function(Bokeh) {\n",
       "      Bokeh.set_log_level(\"info\");\n",
       "    },\n",
       "function(Bokeh) {} // ensure no trailing comma for IE\n",
       "  ];\n",
       "\n",
       "  function run_inline_js() {\n",
       "    if ((root.Bokeh !== undefined) || (force === true)) {\n",
       "      for (var i = 0; i < inline_js.length; i++) {\n",
       "\ttry {\n",
       "          inline_js[i].call(root, root.Bokeh);\n",
       "\t} catch(e) {\n",
       "\t  if (!reloading) {\n",
       "\t    throw e;\n",
       "\t  }\n",
       "\t}\n",
       "      }\n",
       "      // Cache old bokeh versions\n",
       "      if (Bokeh != undefined && !reloading) {\n",
       "\tvar NewBokeh = root.Bokeh;\n",
       "\tif (Bokeh.versions === undefined) {\n",
       "\t  Bokeh.versions = new Map();\n",
       "\t}\n",
       "\tif (NewBokeh.version !== Bokeh.version) {\n",
       "\t  Bokeh.versions.set(NewBokeh.version, NewBokeh)\n",
       "\t}\n",
       "\troot.Bokeh = Bokeh;\n",
       "      }} else if (Date.now() < root._bokeh_timeout) {\n",
       "      setTimeout(run_inline_js, 100);\n",
       "    } else if (!root._bokeh_failed_load) {\n",
       "      console.log(\"Bokeh: BokehJS failed to load within specified timeout.\");\n",
       "      root._bokeh_failed_load = true;\n",
       "    }\n",
       "    root._bokeh_is_initializing = false\n",
       "  }\n",
       "\n",
       "  function load_or_wait() {\n",
       "    // Implement a backoff loop that tries to ensure we do not load multiple\n",
       "    // versions of Bokeh and its dependencies at the same time.\n",
       "    // In recent versions we use the root._bokeh_is_initializing flag\n",
       "    // to determine whether there is an ongoing attempt to initialize\n",
       "    // bokeh, however for backward compatibility we also try to ensure\n",
       "    // that we do not start loading a newer (Panel>=1.0 and Bokeh>3) version\n",
       "    // before older versions are fully initialized.\n",
       "    if (root._bokeh_is_initializing && Date.now() > root._bokeh_timeout) {\n",
       "      root._bokeh_is_initializing = false;\n",
       "      root._bokeh_onload_callbacks = undefined;\n",
       "      console.log(\"Bokeh: BokehJS was loaded multiple times but one version failed to initialize.\");\n",
       "      load_or_wait();\n",
       "    } else if (root._bokeh_is_initializing || (typeof root._bokeh_is_initializing === \"undefined\" && root._bokeh_onload_callbacks !== undefined)) {\n",
       "      setTimeout(load_or_wait, 100);\n",
       "    } else {\n",
       "      root._bokeh_is_initializing = true\n",
       "      root._bokeh_onload_callbacks = []\n",
       "      var bokeh_loaded = Bokeh != null && (Bokeh.version === py_version || (Bokeh.versions !== undefined && Bokeh.versions.has(py_version)));\n",
       "      if (!reloading && !bokeh_loaded) {\n",
       "\troot.Bokeh = undefined;\n",
       "      }\n",
       "      load_libs(css_urls, js_urls, js_modules, js_exports, function() {\n",
       "\tconsole.debug(\"Bokeh: BokehJS plotting callback run at\", now());\n",
       "\trun_inline_js();\n",
       "      });\n",
       "    }\n",
       "  }\n",
       "  // Give older versions of the autoload script a head-start to ensure\n",
       "  // they initialize before we start loading newer version.\n",
       "  setTimeout(load_or_wait, 100)\n",
       "}(window));"
      ],
      "application/vnd.holoviews_load.v0+json": "(function(root) {\n  function now() {\n    return new Date();\n  }\n\n  var force = true;\n  var py_version = '3.4.1'.replace('rc', '-rc.').replace('.dev', '-dev.');\n  var reloading = false;\n  var Bokeh = root.Bokeh;\n\n  if (typeof (root._bokeh_timeout) === \"undefined\" || force) {\n    root._bokeh_timeout = Date.now() + 5000;\n    root._bokeh_failed_load = false;\n  }\n\n  function run_callbacks() {\n    try {\n      root._bokeh_onload_callbacks.forEach(function(callback) {\n        if (callback != null)\n          callback();\n      });\n    } finally {\n      delete root._bokeh_onload_callbacks;\n    }\n    console.debug(\"Bokeh: all callbacks have finished\");\n  }\n\n  function load_libs(css_urls, js_urls, js_modules, js_exports, callback) {\n    if (css_urls == null) css_urls = [];\n    if (js_urls == null) js_urls = [];\n    if (js_modules == null) js_modules = [];\n    if (js_exports == null) js_exports = {};\n\n    root._bokeh_onload_callbacks.push(callback);\n\n    if (root._bokeh_is_loading > 0) {\n      console.debug(\"Bokeh: BokehJS is being loaded, scheduling callback at\", now());\n      return null;\n    }\n    if (js_urls.length === 0 && js_modules.length === 0 && Object.keys(js_exports).length === 0) {\n      run_callbacks();\n      return null;\n    }\n    if (!reloading) {\n      console.debug(\"Bokeh: BokehJS not loaded, scheduling load and callback at\", now());\n    }\n\n    function on_load() {\n      root._bokeh_is_loading--;\n      if (root._bokeh_is_loading === 0) {\n        console.debug(\"Bokeh: all BokehJS libraries/stylesheets loaded\");\n        run_callbacks()\n      }\n    }\n    window._bokeh_on_load = on_load\n\n    function on_error() {\n      console.error(\"failed to load \" + url);\n    }\n\n    var skip = [];\n    if (window.requirejs) {\n      window.requirejs.config({'packages': {}, 'paths': {}, 'shim': {}});\n      root._bokeh_is_loading = css_urls.length + 0;\n    } else {\n      root._bokeh_is_loading = css_urls.length + js_urls.length + js_modules.length + Object.keys(js_exports).length;\n    }\n\n    var existing_stylesheets = []\n    var links = document.getElementsByTagName('link')\n    for (var i = 0; i < links.length; i++) {\n      var link = links[i]\n      if (link.href != null) {\n\texisting_stylesheets.push(link.href)\n      }\n    }\n    for (var i = 0; i < css_urls.length; i++) {\n      var url = css_urls[i];\n      if (existing_stylesheets.indexOf(url) !== -1) {\n\ton_load()\n\tcontinue;\n      }\n      const element = document.createElement(\"link\");\n      element.onload = on_load;\n      element.onerror = on_error;\n      element.rel = \"stylesheet\";\n      element.type = \"text/css\";\n      element.href = url;\n      console.debug(\"Bokeh: injecting link tag for BokehJS stylesheet: \", url);\n      document.body.appendChild(element);\n    }    var existing_scripts = []\n    var scripts = document.getElementsByTagName('script')\n    for (var i = 0; i < scripts.length; i++) {\n      var script = scripts[i]\n      if (script.src != null) {\n\texisting_scripts.push(script.src)\n      }\n    }\n    for (var i = 0; i < js_urls.length; i++) {\n      var url = js_urls[i];\n      if (skip.indexOf(url) !== -1 || existing_scripts.indexOf(url) !== -1) {\n\tif (!window.requirejs) {\n\t  on_load();\n\t}\n\tcontinue;\n      }\n      var element = document.createElement('script');\n      element.onload = on_load;\n      element.onerror = on_error;\n      element.async = false;\n      element.src = url;\n      console.debug(\"Bokeh: injecting script tag for BokehJS library: \", url);\n      document.head.appendChild(element);\n    }\n    for (var i = 0; i < js_modules.length; i++) {\n      var url = js_modules[i];\n      if (skip.indexOf(url) !== -1 || existing_scripts.indexOf(url) !== -1) {\n\tif (!window.requirejs) {\n\t  on_load();\n\t}\n\tcontinue;\n      }\n      var element = document.createElement('script');\n      element.onload = on_load;\n      element.onerror = on_error;\n      element.async = false;\n      element.src = url;\n      element.type = \"module\";\n      console.debug(\"Bokeh: injecting script tag for BokehJS library: \", url);\n      document.head.appendChild(element);\n    }\n    for (const name in js_exports) {\n      var url = js_exports[name];\n      if (skip.indexOf(url) >= 0 || root[name] != null) {\n\tif (!window.requirejs) {\n\t  on_load();\n\t}\n\tcontinue;\n      }\n      var element = document.createElement('script');\n      element.onerror = on_error;\n      element.async = false;\n      element.type = \"module\";\n      console.debug(\"Bokeh: injecting script tag for BokehJS library: \", url);\n      element.textContent = `\n      import ${name} from \"${url}\"\n      window.${name} = ${name}\n      window._bokeh_on_load()\n      `\n      document.head.appendChild(element);\n    }\n    if (!js_urls.length && !js_modules.length) {\n      on_load()\n    }\n  };\n\n  function inject_raw_css(css) {\n    const element = document.createElement(\"style\");\n    element.appendChild(document.createTextNode(css));\n    document.body.appendChild(element);\n  }\n\n  var js_urls = [\"https://cdn.bokeh.org/bokeh/release/bokeh-3.4.1.min.js\", \"https://cdn.bokeh.org/bokeh/release/bokeh-gl-3.4.1.min.js\", \"https://cdn.bokeh.org/bokeh/release/bokeh-widgets-3.4.1.min.js\", \"https://cdn.bokeh.org/bokeh/release/bokeh-tables-3.4.1.min.js\", \"https://cdn.holoviz.org/panel/1.4.1/dist/bundled/bootstrap5/js/bootstrap.bundle.min.js\", \"https://cdn.holoviz.org/panel/1.4.1/dist/panel.min.js\"];\n  var js_modules = [];\n  var js_exports = {};\n  var css_urls = [];\n  var inline_js = [    function(Bokeh) {\n      Bokeh.set_log_level(\"info\");\n    },\nfunction(Bokeh) {} // ensure no trailing comma for IE\n  ];\n\n  function run_inline_js() {\n    if ((root.Bokeh !== undefined) || (force === true)) {\n      for (var i = 0; i < inline_js.length; i++) {\n\ttry {\n          inline_js[i].call(root, root.Bokeh);\n\t} catch(e) {\n\t  if (!reloading) {\n\t    throw e;\n\t  }\n\t}\n      }\n      // Cache old bokeh versions\n      if (Bokeh != undefined && !reloading) {\n\tvar NewBokeh = root.Bokeh;\n\tif (Bokeh.versions === undefined) {\n\t  Bokeh.versions = new Map();\n\t}\n\tif (NewBokeh.version !== Bokeh.version) {\n\t  Bokeh.versions.set(NewBokeh.version, NewBokeh)\n\t}\n\troot.Bokeh = Bokeh;\n      }} else if (Date.now() < root._bokeh_timeout) {\n      setTimeout(run_inline_js, 100);\n    } else if (!root._bokeh_failed_load) {\n      console.log(\"Bokeh: BokehJS failed to load within specified timeout.\");\n      root._bokeh_failed_load = true;\n    }\n    root._bokeh_is_initializing = false\n  }\n\n  function load_or_wait() {\n    // Implement a backoff loop that tries to ensure we do not load multiple\n    // versions of Bokeh and its dependencies at the same time.\n    // In recent versions we use the root._bokeh_is_initializing flag\n    // to determine whether there is an ongoing attempt to initialize\n    // bokeh, however for backward compatibility we also try to ensure\n    // that we do not start loading a newer (Panel>=1.0 and Bokeh>3) version\n    // before older versions are fully initialized.\n    if (root._bokeh_is_initializing && Date.now() > root._bokeh_timeout) {\n      root._bokeh_is_initializing = false;\n      root._bokeh_onload_callbacks = undefined;\n      console.log(\"Bokeh: BokehJS was loaded multiple times but one version failed to initialize.\");\n      load_or_wait();\n    } else if (root._bokeh_is_initializing || (typeof root._bokeh_is_initializing === \"undefined\" && root._bokeh_onload_callbacks !== undefined)) {\n      setTimeout(load_or_wait, 100);\n    } else {\n      root._bokeh_is_initializing = true\n      root._bokeh_onload_callbacks = []\n      var bokeh_loaded = Bokeh != null && (Bokeh.version === py_version || (Bokeh.versions !== undefined && Bokeh.versions.has(py_version)));\n      if (!reloading && !bokeh_loaded) {\n\troot.Bokeh = undefined;\n      }\n      load_libs(css_urls, js_urls, js_modules, js_exports, function() {\n\tconsole.debug(\"Bokeh: BokehJS plotting callback run at\", now());\n\trun_inline_js();\n      });\n    }\n  }\n  // Give older versions of the autoload script a head-start to ensure\n  // they initialize before we start loading newer version.\n  setTimeout(load_or_wait, 100)\n}(window));"
     },
     "metadata": {},
     "output_type": "display_data"
    },
    {
     "data": {
      "application/javascript": [
       "\n",
       "if ((window.PyViz === undefined) || (window.PyViz instanceof HTMLElement)) {\n",
       "  window.PyViz = {comms: {}, comm_status:{}, kernels:{}, receivers: {}, plot_index: []}\n",
       "}\n",
       "\n",
       "\n",
       "    function JupyterCommManager() {\n",
       "    }\n",
       "\n",
       "    JupyterCommManager.prototype.register_target = function(plot_id, comm_id, msg_handler) {\n",
       "      if (window.comm_manager || ((window.Jupyter !== undefined) && (Jupyter.notebook.kernel != null))) {\n",
       "        var comm_manager = window.comm_manager || Jupyter.notebook.kernel.comm_manager;\n",
       "        comm_manager.register_target(comm_id, function(comm) {\n",
       "          comm.on_msg(msg_handler);\n",
       "        });\n",
       "      } else if ((plot_id in window.PyViz.kernels) && (window.PyViz.kernels[plot_id])) {\n",
       "        window.PyViz.kernels[plot_id].registerCommTarget(comm_id, function(comm) {\n",
       "          comm.onMsg = msg_handler;\n",
       "        });\n",
       "      } else if (typeof google != 'undefined' && google.colab.kernel != null) {\n",
       "        google.colab.kernel.comms.registerTarget(comm_id, (comm) => {\n",
       "          var messages = comm.messages[Symbol.asyncIterator]();\n",
       "          function processIteratorResult(result) {\n",
       "            var message = result.value;\n",
       "            console.log(message)\n",
       "            var content = {data: message.data, comm_id};\n",
       "            var buffers = []\n",
       "            for (var buffer of message.buffers || []) {\n",
       "              buffers.push(new DataView(buffer))\n",
       "            }\n",
       "            var metadata = message.metadata || {};\n",
       "            var msg = {content, buffers, metadata}\n",
       "            msg_handler(msg);\n",
       "            return messages.next().then(processIteratorResult);\n",
       "          }\n",
       "          return messages.next().then(processIteratorResult);\n",
       "        })\n",
       "      }\n",
       "    }\n",
       "\n",
       "    JupyterCommManager.prototype.get_client_comm = function(plot_id, comm_id, msg_handler) {\n",
       "      if (comm_id in window.PyViz.comms) {\n",
       "        return window.PyViz.comms[comm_id];\n",
       "      } else if (window.comm_manager || ((window.Jupyter !== undefined) && (Jupyter.notebook.kernel != null))) {\n",
       "        var comm_manager = window.comm_manager || Jupyter.notebook.kernel.comm_manager;\n",
       "        var comm = comm_manager.new_comm(comm_id, {}, {}, {}, comm_id);\n",
       "        if (msg_handler) {\n",
       "          comm.on_msg(msg_handler);\n",
       "        }\n",
       "      } else if ((plot_id in window.PyViz.kernels) && (window.PyViz.kernels[plot_id])) {\n",
       "        var comm = window.PyViz.kernels[plot_id].connectToComm(comm_id);\n",
       "        comm.open();\n",
       "        if (msg_handler) {\n",
       "          comm.onMsg = msg_handler;\n",
       "        }\n",
       "      } else if (typeof google != 'undefined' && google.colab.kernel != null) {\n",
       "        var comm_promise = google.colab.kernel.comms.open(comm_id)\n",
       "        comm_promise.then((comm) => {\n",
       "          window.PyViz.comms[comm_id] = comm;\n",
       "          if (msg_handler) {\n",
       "            var messages = comm.messages[Symbol.asyncIterator]();\n",
       "            function processIteratorResult(result) {\n",
       "              var message = result.value;\n",
       "              var content = {data: message.data};\n",
       "              var metadata = message.metadata || {comm_id};\n",
       "              var msg = {content, metadata}\n",
       "              msg_handler(msg);\n",
       "              return messages.next().then(processIteratorResult);\n",
       "            }\n",
       "            return messages.next().then(processIteratorResult);\n",
       "          }\n",
       "        }) \n",
       "        var sendClosure = (data, metadata, buffers, disposeOnDone) => {\n",
       "          return comm_promise.then((comm) => {\n",
       "            comm.send(data, metadata, buffers, disposeOnDone);\n",
       "          });\n",
       "        };\n",
       "        var comm = {\n",
       "          send: sendClosure\n",
       "        };\n",
       "      }\n",
       "      window.PyViz.comms[comm_id] = comm;\n",
       "      return comm;\n",
       "    }\n",
       "    window.PyViz.comm_manager = new JupyterCommManager();\n",
       "    \n",
       "\n",
       "\n",
       "var JS_MIME_TYPE = 'application/javascript';\n",
       "var HTML_MIME_TYPE = 'text/html';\n",
       "var EXEC_MIME_TYPE = 'application/vnd.holoviews_exec.v0+json';\n",
       "var CLASS_NAME = 'output';\n",
       "\n",
       "/**\n",
       " * Render data to the DOM node\n",
       " */\n",
       "function render(props, node) {\n",
       "  var div = document.createElement(\"div\");\n",
       "  var script = document.createElement(\"script\");\n",
       "  node.appendChild(div);\n",
       "  node.appendChild(script);\n",
       "}\n",
       "\n",
       "/**\n",
       " * Handle when a new output is added\n",
       " */\n",
       "function handle_add_output(event, handle) {\n",
       "  var output_area = handle.output_area;\n",
       "  var output = handle.output;\n",
       "  if ((output.data == undefined) || (!output.data.hasOwnProperty(EXEC_MIME_TYPE))) {\n",
       "    return\n",
       "  }\n",
       "  var id = output.metadata[EXEC_MIME_TYPE][\"id\"];\n",
       "  var toinsert = output_area.element.find(\".\" + CLASS_NAME.split(' ')[0]);\n",
       "  if (id !== undefined) {\n",
       "    var nchildren = toinsert.length;\n",
       "    var html_node = toinsert[nchildren-1].children[0];\n",
       "    html_node.innerHTML = output.data[HTML_MIME_TYPE];\n",
       "    var scripts = [];\n",
       "    var nodelist = html_node.querySelectorAll(\"script\");\n",
       "    for (var i in nodelist) {\n",
       "      if (nodelist.hasOwnProperty(i)) {\n",
       "        scripts.push(nodelist[i])\n",
       "      }\n",
       "    }\n",
       "\n",
       "    scripts.forEach( function (oldScript) {\n",
       "      var newScript = document.createElement(\"script\");\n",
       "      var attrs = [];\n",
       "      var nodemap = oldScript.attributes;\n",
       "      for (var j in nodemap) {\n",
       "        if (nodemap.hasOwnProperty(j)) {\n",
       "          attrs.push(nodemap[j])\n",
       "        }\n",
       "      }\n",
       "      attrs.forEach(function(attr) { newScript.setAttribute(attr.name, attr.value) });\n",
       "      newScript.appendChild(document.createTextNode(oldScript.innerHTML));\n",
       "      oldScript.parentNode.replaceChild(newScript, oldScript);\n",
       "    });\n",
       "    if (JS_MIME_TYPE in output.data) {\n",
       "      toinsert[nchildren-1].children[1].textContent = output.data[JS_MIME_TYPE];\n",
       "    }\n",
       "    output_area._hv_plot_id = id;\n",
       "    if ((window.Bokeh !== undefined) && (id in Bokeh.index)) {\n",
       "      window.PyViz.plot_index[id] = Bokeh.index[id];\n",
       "    } else {\n",
       "      window.PyViz.plot_index[id] = null;\n",
       "    }\n",
       "  } else if (output.metadata[EXEC_MIME_TYPE][\"server_id\"] !== undefined) {\n",
       "    var bk_div = document.createElement(\"div\");\n",
       "    bk_div.innerHTML = output.data[HTML_MIME_TYPE];\n",
       "    var script_attrs = bk_div.children[0].attributes;\n",
       "    for (var i = 0; i < script_attrs.length; i++) {\n",
       "      toinsert[toinsert.length - 1].childNodes[1].setAttribute(script_attrs[i].name, script_attrs[i].value);\n",
       "    }\n",
       "    // store reference to server id on output_area\n",
       "    output_area._bokeh_server_id = output.metadata[EXEC_MIME_TYPE][\"server_id\"];\n",
       "  }\n",
       "}\n",
       "\n",
       "/**\n",
       " * Handle when an output is cleared or removed\n",
       " */\n",
       "function handle_clear_output(event, handle) {\n",
       "  var id = handle.cell.output_area._hv_plot_id;\n",
       "  var server_id = handle.cell.output_area._bokeh_server_id;\n",
       "  if (((id === undefined) || !(id in PyViz.plot_index)) && (server_id !== undefined)) { return; }\n",
       "  var comm = window.PyViz.comm_manager.get_client_comm(\"hv-extension-comm\", \"hv-extension-comm\", function () {});\n",
       "  if (server_id !== null) {\n",
       "    comm.send({event_type: 'server_delete', 'id': server_id});\n",
       "    return;\n",
       "  } else if (comm !== null) {\n",
       "    comm.send({event_type: 'delete', 'id': id});\n",
       "  }\n",
       "  delete PyViz.plot_index[id];\n",
       "  if ((window.Bokeh !== undefined) & (id in window.Bokeh.index)) {\n",
       "    var doc = window.Bokeh.index[id].model.document\n",
       "    doc.clear();\n",
       "    const i = window.Bokeh.documents.indexOf(doc);\n",
       "    if (i > -1) {\n",
       "      window.Bokeh.documents.splice(i, 1);\n",
       "    }\n",
       "  }\n",
       "}\n",
       "\n",
       "/**\n",
       " * Handle kernel restart event\n",
       " */\n",
       "function handle_kernel_cleanup(event, handle) {\n",
       "  delete PyViz.comms[\"hv-extension-comm\"];\n",
       "  window.PyViz.plot_index = {}\n",
       "}\n",
       "\n",
       "/**\n",
       " * Handle update_display_data messages\n",
       " */\n",
       "function handle_update_output(event, handle) {\n",
       "  handle_clear_output(event, {cell: {output_area: handle.output_area}})\n",
       "  handle_add_output(event, handle)\n",
       "}\n",
       "\n",
       "function register_renderer(events, OutputArea) {\n",
       "  function append_mime(data, metadata, element) {\n",
       "    // create a DOM node to render to\n",
       "    var toinsert = this.create_output_subarea(\n",
       "    metadata,\n",
       "    CLASS_NAME,\n",
       "    EXEC_MIME_TYPE\n",
       "    );\n",
       "    this.keyboard_manager.register_events(toinsert);\n",
       "    // Render to node\n",
       "    var props = {data: data, metadata: metadata[EXEC_MIME_TYPE]};\n",
       "    render(props, toinsert[0]);\n",
       "    element.append(toinsert);\n",
       "    return toinsert\n",
       "  }\n",
       "\n",
       "  events.on('output_added.OutputArea', handle_add_output);\n",
       "  events.on('output_updated.OutputArea', handle_update_output);\n",
       "  events.on('clear_output.CodeCell', handle_clear_output);\n",
       "  events.on('delete.Cell', handle_clear_output);\n",
       "  events.on('kernel_ready.Kernel', handle_kernel_cleanup);\n",
       "\n",
       "  OutputArea.prototype.register_mime_type(EXEC_MIME_TYPE, append_mime, {\n",
       "    safe: true,\n",
       "    index: 0\n",
       "  });\n",
       "}\n",
       "\n",
       "if (window.Jupyter !== undefined) {\n",
       "  try {\n",
       "    var events = require('base/js/events');\n",
       "    var OutputArea = require('notebook/js/outputarea').OutputArea;\n",
       "    if (OutputArea.prototype.mime_types().indexOf(EXEC_MIME_TYPE) == -1) {\n",
       "      register_renderer(events, OutputArea);\n",
       "    }\n",
       "  } catch(err) {\n",
       "  }\n",
       "}\n"
      ],
      "application/vnd.holoviews_load.v0+json": "\nif ((window.PyViz === undefined) || (window.PyViz instanceof HTMLElement)) {\n  window.PyViz = {comms: {}, comm_status:{}, kernels:{}, receivers: {}, plot_index: []}\n}\n\n\n    function JupyterCommManager() {\n    }\n\n    JupyterCommManager.prototype.register_target = function(plot_id, comm_id, msg_handler) {\n      if (window.comm_manager || ((window.Jupyter !== undefined) && (Jupyter.notebook.kernel != null))) {\n        var comm_manager = window.comm_manager || Jupyter.notebook.kernel.comm_manager;\n        comm_manager.register_target(comm_id, function(comm) {\n          comm.on_msg(msg_handler);\n        });\n      } else if ((plot_id in window.PyViz.kernels) && (window.PyViz.kernels[plot_id])) {\n        window.PyViz.kernels[plot_id].registerCommTarget(comm_id, function(comm) {\n          comm.onMsg = msg_handler;\n        });\n      } else if (typeof google != 'undefined' && google.colab.kernel != null) {\n        google.colab.kernel.comms.registerTarget(comm_id, (comm) => {\n          var messages = comm.messages[Symbol.asyncIterator]();\n          function processIteratorResult(result) {\n            var message = result.value;\n            console.log(message)\n            var content = {data: message.data, comm_id};\n            var buffers = []\n            for (var buffer of message.buffers || []) {\n              buffers.push(new DataView(buffer))\n            }\n            var metadata = message.metadata || {};\n            var msg = {content, buffers, metadata}\n            msg_handler(msg);\n            return messages.next().then(processIteratorResult);\n          }\n          return messages.next().then(processIteratorResult);\n        })\n      }\n    }\n\n    JupyterCommManager.prototype.get_client_comm = function(plot_id, comm_id, msg_handler) {\n      if (comm_id in window.PyViz.comms) {\n        return window.PyViz.comms[comm_id];\n      } else if (window.comm_manager || ((window.Jupyter !== undefined) && (Jupyter.notebook.kernel != null))) {\n        var comm_manager = window.comm_manager || Jupyter.notebook.kernel.comm_manager;\n        var comm = comm_manager.new_comm(comm_id, {}, {}, {}, comm_id);\n        if (msg_handler) {\n          comm.on_msg(msg_handler);\n        }\n      } else if ((plot_id in window.PyViz.kernels) && (window.PyViz.kernels[plot_id])) {\n        var comm = window.PyViz.kernels[plot_id].connectToComm(comm_id);\n        comm.open();\n        if (msg_handler) {\n          comm.onMsg = msg_handler;\n        }\n      } else if (typeof google != 'undefined' && google.colab.kernel != null) {\n        var comm_promise = google.colab.kernel.comms.open(comm_id)\n        comm_promise.then((comm) => {\n          window.PyViz.comms[comm_id] = comm;\n          if (msg_handler) {\n            var messages = comm.messages[Symbol.asyncIterator]();\n            function processIteratorResult(result) {\n              var message = result.value;\n              var content = {data: message.data};\n              var metadata = message.metadata || {comm_id};\n              var msg = {content, metadata}\n              msg_handler(msg);\n              return messages.next().then(processIteratorResult);\n            }\n            return messages.next().then(processIteratorResult);\n          }\n        }) \n        var sendClosure = (data, metadata, buffers, disposeOnDone) => {\n          return comm_promise.then((comm) => {\n            comm.send(data, metadata, buffers, disposeOnDone);\n          });\n        };\n        var comm = {\n          send: sendClosure\n        };\n      }\n      window.PyViz.comms[comm_id] = comm;\n      return comm;\n    }\n    window.PyViz.comm_manager = new JupyterCommManager();\n    \n\n\nvar JS_MIME_TYPE = 'application/javascript';\nvar HTML_MIME_TYPE = 'text/html';\nvar EXEC_MIME_TYPE = 'application/vnd.holoviews_exec.v0+json';\nvar CLASS_NAME = 'output';\n\n/**\n * Render data to the DOM node\n */\nfunction render(props, node) {\n  var div = document.createElement(\"div\");\n  var script = document.createElement(\"script\");\n  node.appendChild(div);\n  node.appendChild(script);\n}\n\n/**\n * Handle when a new output is added\n */\nfunction handle_add_output(event, handle) {\n  var output_area = handle.output_area;\n  var output = handle.output;\n  if ((output.data == undefined) || (!output.data.hasOwnProperty(EXEC_MIME_TYPE))) {\n    return\n  }\n  var id = output.metadata[EXEC_MIME_TYPE][\"id\"];\n  var toinsert = output_area.element.find(\".\" + CLASS_NAME.split(' ')[0]);\n  if (id !== undefined) {\n    var nchildren = toinsert.length;\n    var html_node = toinsert[nchildren-1].children[0];\n    html_node.innerHTML = output.data[HTML_MIME_TYPE];\n    var scripts = [];\n    var nodelist = html_node.querySelectorAll(\"script\");\n    for (var i in nodelist) {\n      if (nodelist.hasOwnProperty(i)) {\n        scripts.push(nodelist[i])\n      }\n    }\n\n    scripts.forEach( function (oldScript) {\n      var newScript = document.createElement(\"script\");\n      var attrs = [];\n      var nodemap = oldScript.attributes;\n      for (var j in nodemap) {\n        if (nodemap.hasOwnProperty(j)) {\n          attrs.push(nodemap[j])\n        }\n      }\n      attrs.forEach(function(attr) { newScript.setAttribute(attr.name, attr.value) });\n      newScript.appendChild(document.createTextNode(oldScript.innerHTML));\n      oldScript.parentNode.replaceChild(newScript, oldScript);\n    });\n    if (JS_MIME_TYPE in output.data) {\n      toinsert[nchildren-1].children[1].textContent = output.data[JS_MIME_TYPE];\n    }\n    output_area._hv_plot_id = id;\n    if ((window.Bokeh !== undefined) && (id in Bokeh.index)) {\n      window.PyViz.plot_index[id] = Bokeh.index[id];\n    } else {\n      window.PyViz.plot_index[id] = null;\n    }\n  } else if (output.metadata[EXEC_MIME_TYPE][\"server_id\"] !== undefined) {\n    var bk_div = document.createElement(\"div\");\n    bk_div.innerHTML = output.data[HTML_MIME_TYPE];\n    var script_attrs = bk_div.children[0].attributes;\n    for (var i = 0; i < script_attrs.length; i++) {\n      toinsert[toinsert.length - 1].childNodes[1].setAttribute(script_attrs[i].name, script_attrs[i].value);\n    }\n    // store reference to server id on output_area\n    output_area._bokeh_server_id = output.metadata[EXEC_MIME_TYPE][\"server_id\"];\n  }\n}\n\n/**\n * Handle when an output is cleared or removed\n */\nfunction handle_clear_output(event, handle) {\n  var id = handle.cell.output_area._hv_plot_id;\n  var server_id = handle.cell.output_area._bokeh_server_id;\n  if (((id === undefined) || !(id in PyViz.plot_index)) && (server_id !== undefined)) { return; }\n  var comm = window.PyViz.comm_manager.get_client_comm(\"hv-extension-comm\", \"hv-extension-comm\", function () {});\n  if (server_id !== null) {\n    comm.send({event_type: 'server_delete', 'id': server_id});\n    return;\n  } else if (comm !== null) {\n    comm.send({event_type: 'delete', 'id': id});\n  }\n  delete PyViz.plot_index[id];\n  if ((window.Bokeh !== undefined) & (id in window.Bokeh.index)) {\n    var doc = window.Bokeh.index[id].model.document\n    doc.clear();\n    const i = window.Bokeh.documents.indexOf(doc);\n    if (i > -1) {\n      window.Bokeh.documents.splice(i, 1);\n    }\n  }\n}\n\n/**\n * Handle kernel restart event\n */\nfunction handle_kernel_cleanup(event, handle) {\n  delete PyViz.comms[\"hv-extension-comm\"];\n  window.PyViz.plot_index = {}\n}\n\n/**\n * Handle update_display_data messages\n */\nfunction handle_update_output(event, handle) {\n  handle_clear_output(event, {cell: {output_area: handle.output_area}})\n  handle_add_output(event, handle)\n}\n\nfunction register_renderer(events, OutputArea) {\n  function append_mime(data, metadata, element) {\n    // create a DOM node to render to\n    var toinsert = this.create_output_subarea(\n    metadata,\n    CLASS_NAME,\n    EXEC_MIME_TYPE\n    );\n    this.keyboard_manager.register_events(toinsert);\n    // Render to node\n    var props = {data: data, metadata: metadata[EXEC_MIME_TYPE]};\n    render(props, toinsert[0]);\n    element.append(toinsert);\n    return toinsert\n  }\n\n  events.on('output_added.OutputArea', handle_add_output);\n  events.on('output_updated.OutputArea', handle_update_output);\n  events.on('clear_output.CodeCell', handle_clear_output);\n  events.on('delete.Cell', handle_clear_output);\n  events.on('kernel_ready.Kernel', handle_kernel_cleanup);\n\n  OutputArea.prototype.register_mime_type(EXEC_MIME_TYPE, append_mime, {\n    safe: true,\n    index: 0\n  });\n}\n\nif (window.Jupyter !== undefined) {\n  try {\n    var events = require('base/js/events');\n    var OutputArea = require('notebook/js/outputarea').OutputArea;\n    if (OutputArea.prototype.mime_types().indexOf(EXEC_MIME_TYPE) == -1) {\n      register_renderer(events, OutputArea);\n    }\n  } catch(err) {\n  }\n}\n"
     },
     "metadata": {},
     "output_type": "display_data"
    },
    {
     "data": {
      "text/html": [
       "<style>*[data-root-id],\n",
       "*[data-root-id] > * {\n",
       "  box-sizing: border-box;\n",
       "  font-family: var(--jp-ui-font-family);\n",
       "  font-size: var(--jp-ui-font-size1);\n",
       "  color: var(--vscode-editor-foreground, var(--jp-ui-font-color1));\n",
       "}\n",
       "\n",
       "/* Override VSCode background color */\n",
       ".cell-output-ipywidget-background:has(\n",
       "    > .cell-output-ipywidget-background > .lm-Widget > *[data-root-id]\n",
       "  ),\n",
       ".cell-output-ipywidget-background:has(> .lm-Widget > *[data-root-id]) {\n",
       "  background-color: transparent !important;\n",
       "}\n",
       "</style>"
      ]
     },
     "metadata": {},
     "output_type": "display_data"
    },
    {
     "data": {
      "application/vnd.holoviews_exec.v0+json": "",
      "text/html": [
       "<div id='de7397fe-42e5-4f9c-b33e-d750ca20c5bf'>\n",
       "  <div id=\"a8645698-996b-462a-bb91-7eb005a84191\" data-root-id=\"de7397fe-42e5-4f9c-b33e-d750ca20c5bf\" style=\"display: contents;\"></div>\n",
       "</div>\n",
       "<script type=\"application/javascript\">(function(root) {\n",
       "  var docs_json = {\"7c040e1b-27ff-4a07-b664-b249f42c667c\":{\"version\":\"3.4.1\",\"title\":\"Bokeh Application\",\"roots\":[{\"type\":\"object\",\"name\":\"panel.models.browser.BrowserInfo\",\"id\":\"de7397fe-42e5-4f9c-b33e-d750ca20c5bf\"},{\"type\":\"object\",\"name\":\"panel.models.comm_manager.CommManager\",\"id\":\"4cc16cc1-efd2-4800-9c1e-fc88064b7159\",\"attributes\":{\"plot_id\":\"de7397fe-42e5-4f9c-b33e-d750ca20c5bf\",\"comm_id\":\"70eb15aab0064c11920190cc9b17c531\",\"client_comm_id\":\"3e5f4936a6474b1f9ebbd058e10d4e9b\"}}],\"defs\":[{\"type\":\"model\",\"name\":\"ReactiveHTML1\"},{\"type\":\"model\",\"name\":\"FlexBox1\",\"properties\":[{\"name\":\"align_content\",\"kind\":\"Any\",\"default\":\"flex-start\"},{\"name\":\"align_items\",\"kind\":\"Any\",\"default\":\"flex-start\"},{\"name\":\"flex_direction\",\"kind\":\"Any\",\"default\":\"row\"},{\"name\":\"flex_wrap\",\"kind\":\"Any\",\"default\":\"wrap\"},{\"name\":\"gap\",\"kind\":\"Any\",\"default\":\"\"},{\"name\":\"justify_content\",\"kind\":\"Any\",\"default\":\"flex-start\"}]},{\"type\":\"model\",\"name\":\"FloatPanel1\",\"properties\":[{\"name\":\"config\",\"kind\":\"Any\",\"default\":{\"type\":\"map\"}},{\"name\":\"contained\",\"kind\":\"Any\",\"default\":true},{\"name\":\"position\",\"kind\":\"Any\",\"default\":\"right-top\"},{\"name\":\"offsetx\",\"kind\":\"Any\",\"default\":null},{\"name\":\"offsety\",\"kind\":\"Any\",\"default\":null},{\"name\":\"theme\",\"kind\":\"Any\",\"default\":\"primary\"},{\"name\":\"status\",\"kind\":\"Any\",\"default\":\"normalized\"}]},{\"type\":\"model\",\"name\":\"GridStack1\",\"properties\":[{\"name\":\"mode\",\"kind\":\"Any\",\"default\":\"warn\"},{\"name\":\"ncols\",\"kind\":\"Any\",\"default\":null},{\"name\":\"nrows\",\"kind\":\"Any\",\"default\":null},{\"name\":\"allow_resize\",\"kind\":\"Any\",\"default\":true},{\"name\":\"allow_drag\",\"kind\":\"Any\",\"default\":true},{\"name\":\"state\",\"kind\":\"Any\",\"default\":[]}]},{\"type\":\"model\",\"name\":\"drag1\",\"properties\":[{\"name\":\"slider_width\",\"kind\":\"Any\",\"default\":5},{\"name\":\"slider_color\",\"kind\":\"Any\",\"default\":\"black\"},{\"name\":\"value\",\"kind\":\"Any\",\"default\":50}]},{\"type\":\"model\",\"name\":\"click1\",\"properties\":[{\"name\":\"terminal_output\",\"kind\":\"Any\",\"default\":\"\"},{\"name\":\"debug_name\",\"kind\":\"Any\",\"default\":\"\"},{\"name\":\"clears\",\"kind\":\"Any\",\"default\":0}]},{\"type\":\"model\",\"name\":\"FastWrapper1\",\"properties\":[{\"name\":\"object\",\"kind\":\"Any\",\"default\":null},{\"name\":\"style\",\"kind\":\"Any\",\"default\":null}]},{\"type\":\"model\",\"name\":\"NotificationAreaBase1\",\"properties\":[{\"name\":\"js_events\",\"kind\":\"Any\",\"default\":{\"type\":\"map\"}},{\"name\":\"position\",\"kind\":\"Any\",\"default\":\"bottom-right\"},{\"name\":\"_clear\",\"kind\":\"Any\",\"default\":0}]},{\"type\":\"model\",\"name\":\"NotificationArea1\",\"properties\":[{\"name\":\"js_events\",\"kind\":\"Any\",\"default\":{\"type\":\"map\"}},{\"name\":\"notifications\",\"kind\":\"Any\",\"default\":[]},{\"name\":\"position\",\"kind\":\"Any\",\"default\":\"bottom-right\"},{\"name\":\"_clear\",\"kind\":\"Any\",\"default\":0},{\"name\":\"types\",\"kind\":\"Any\",\"default\":[{\"type\":\"map\",\"entries\":[[\"type\",\"warning\"],[\"background\",\"#ffc107\"],[\"icon\",{\"type\":\"map\",\"entries\":[[\"className\",\"fas fa-exclamation-triangle\"],[\"tagName\",\"i\"],[\"color\",\"white\"]]}]]},{\"type\":\"map\",\"entries\":[[\"type\",\"info\"],[\"background\",\"#007bff\"],[\"icon\",{\"type\":\"map\",\"entries\":[[\"className\",\"fas fa-info-circle\"],[\"tagName\",\"i\"],[\"color\",\"white\"]]}]]}]}]},{\"type\":\"model\",\"name\":\"Notification\",\"properties\":[{\"name\":\"background\",\"kind\":\"Any\",\"default\":null},{\"name\":\"duration\",\"kind\":\"Any\",\"default\":3000},{\"name\":\"icon\",\"kind\":\"Any\",\"default\":null},{\"name\":\"message\",\"kind\":\"Any\",\"default\":\"\"},{\"name\":\"notification_type\",\"kind\":\"Any\",\"default\":null},{\"name\":\"_destroyed\",\"kind\":\"Any\",\"default\":false}]},{\"type\":\"model\",\"name\":\"TemplateActions1\",\"properties\":[{\"name\":\"open_modal\",\"kind\":\"Any\",\"default\":0},{\"name\":\"close_modal\",\"kind\":\"Any\",\"default\":0}]},{\"type\":\"model\",\"name\":\"BootstrapTemplateActions1\",\"properties\":[{\"name\":\"open_modal\",\"kind\":\"Any\",\"default\":0},{\"name\":\"close_modal\",\"kind\":\"Any\",\"default\":0}]},{\"type\":\"model\",\"name\":\"TemplateEditor1\",\"properties\":[{\"name\":\"layout\",\"kind\":\"Any\",\"default\":[]}]},{\"type\":\"model\",\"name\":\"MaterialTemplateActions1\",\"properties\":[{\"name\":\"open_modal\",\"kind\":\"Any\",\"default\":0},{\"name\":\"close_modal\",\"kind\":\"Any\",\"default\":0}]},{\"type\":\"model\",\"name\":\"copy_to_clipboard1\",\"properties\":[{\"name\":\"fill\",\"kind\":\"Any\",\"default\":\"none\"},{\"name\":\"value\",\"kind\":\"Any\",\"default\":null}]}]}};\n",
       "  var render_items = [{\"docid\":\"7c040e1b-27ff-4a07-b664-b249f42c667c\",\"roots\":{\"de7397fe-42e5-4f9c-b33e-d750ca20c5bf\":\"a8645698-996b-462a-bb91-7eb005a84191\"},\"root_ids\":[\"de7397fe-42e5-4f9c-b33e-d750ca20c5bf\"]}];\n",
       "  var docs = Object.values(docs_json)\n",
       "  if (!docs) {\n",
       "    return\n",
       "  }\n",
       "  const py_version = docs[0].version.replace('rc', '-rc.').replace('.dev', '-dev.')\n",
       "  function embed_document(root) {\n",
       "    var Bokeh = get_bokeh(root)\n",
       "    Bokeh.embed.embed_items_notebook(docs_json, render_items);\n",
       "    for (const render_item of render_items) {\n",
       "      for (const root_id of render_item.root_ids) {\n",
       "\tconst id_el = document.getElementById(root_id)\n",
       "\tif (id_el.children.length && (id_el.children[0].className === 'bk-root')) {\n",
       "\t  const root_el = id_el.children[0]\n",
       "\t  root_el.id = root_el.id + '-rendered'\n",
       "\t}\n",
       "      }\n",
       "    }\n",
       "  }\n",
       "  function get_bokeh(root) {\n",
       "    if (root.Bokeh === undefined) {\n",
       "      return null\n",
       "    } else if (root.Bokeh.version !== py_version) {\n",
       "      if (root.Bokeh.versions === undefined || !root.Bokeh.versions.has(py_version)) {\n",
       "\treturn null\n",
       "      }\n",
       "      return root.Bokeh.versions.get(py_version);\n",
       "    } else if (root.Bokeh.version === py_version) {\n",
       "      return root.Bokeh\n",
       "    }\n",
       "    return null\n",
       "  }\n",
       "  function is_loaded(root) {\n",
       "    var Bokeh = get_bokeh(root)\n",
       "    return (Bokeh != null && Bokeh.Panel !== undefined)\n",
       "  }\n",
       "  if (is_loaded(root)) {\n",
       "    embed_document(root);\n",
       "  } else {\n",
       "    var attempts = 0;\n",
       "    var timer = setInterval(function(root) {\n",
       "      if (is_loaded(root)) {\n",
       "        clearInterval(timer);\n",
       "        embed_document(root);\n",
       "      } else if (document.readyState == \"complete\") {\n",
       "        attempts++;\n",
       "        if (attempts > 200) {\n",
       "          clearInterval(timer);\n",
       "\t  var Bokeh = get_bokeh(root)\n",
       "\t  if (Bokeh == null || Bokeh.Panel == null) {\n",
       "            console.warn(\"Panel: ERROR: Unable to run Panel code because Bokeh or Panel library is missing\");\n",
       "\t  } else {\n",
       "\t    console.warn(\"Panel: WARNING: Attempting to render but not all required libraries could be resolved.\")\n",
       "\t    embed_document(root)\n",
       "\t  }\n",
       "        }\n",
       "      }\n",
       "    }, 25, root)\n",
       "  }\n",
       "})(window);</script>"
      ]
     },
     "metadata": {
      "application/vnd.holoviews_exec.v0+json": {
       "id": "de7397fe-42e5-4f9c-b33e-d750ca20c5bf"
      }
     },
     "output_type": "display_data"
    }
   ],
   "source": [
    "%load_ext autoreload\n",
    "%autoreload 2\n",
    "import os\n",
    "from Utils.Utils import stitch_bpod_times, select_DIO_channel, find_min_distance_TTL, extract_time, extract_analogIO, check_single_rec_file, extract_DIO, check_timestamp_gaps, get_mouse_name,get_recording_day, find_mat_files_with_same_day, check_gpu_availability\n",
    "from pathlib import Path\n",
    "import numpy as np\n",
    "from spikeinterface.extractors import read_spikegadgets\n",
    "import spikeinterface.full as si\n",
    "from spikeinterface.preprocessing import detect_bad_channels\n",
    "from Utils.Settings import channel_label_color_dict\n",
    "import matplotlib.pyplot as plt\n",
    "import pandas as pd\n",
    "import matplotlib.patches as mpatches\n",
    "import panel as pn\n",
    "\n",
    "pn.extension(design=\"bootstrap\", sizing_mode=\"fixed\",throttled=True)"
   ]
  },
  {
   "cell_type": "markdown",
   "id": "bcbc1e90-9260-4ebe-aaec-e9ee340e2c94",
   "metadata": {},
   "source": [
    "# Ott lab spikesorting single session\n",
    "#####  Multi-Neuropixels recording using SpikeGadgets"
   ]
  },
  {
   "cell_type": "markdown",
   "id": "be494679-3b14-4ad3-9f69-1851b8904038",
   "metadata": {},
   "source": [
    "## Select file"
   ]
  },
  {
   "cell_type": "code",
   "execution_count": 2,
   "id": "8f7f8b68-ea55-4fc1-a793-b058e715cc56",
   "metadata": {},
   "outputs": [],
   "source": [
    "# folder containing .rec file\n",
    "path_recording_folder = Path(\"/alzheimer/Roberto/Dariya/12/ephys/20231212_183552.rec/\")\n"
   ]
  },
  {
   "cell_type": "code",
   "execution_count": 3,
   "id": "23bc464b-af8c-4ddc-b3c1-c6517ca5b857",
   "metadata": {},
   "outputs": [],
   "source": [
    "mouse_n = get_mouse_name(path_recording_folder)\n",
    "day = get_recording_day(path_recording_folder)"
   ]
  },
  {
   "cell_type": "code",
   "execution_count": 4,
   "id": "0e8136ed-e8b4-4919-9dc9-9e50bbf6fbdd",
   "metadata": {},
   "outputs": [
    {
     "data": {
      "text/plain": [
       "'20231212'"
      ]
     },
     "execution_count": 4,
     "metadata": {},
     "output_type": "execute_result"
    }
   ],
   "source": [
    "day"
   ]
  },
  {
   "cell_type": "code",
   "execution_count": 5,
   "id": "c164fa02-3db9-4d76-b22f-fc78ecb54ea7",
   "metadata": {},
   "outputs": [
    {
     "name": "stdout",
     "output_type": "stream",
     "text": [
      "Exactly one .rec file found: 20231212_183552.rec\n"
     ]
    }
   ],
   "source": [
    "path_recording, rec_file_name = check_single_rec_file(path_recording_folder)"
   ]
  },
  {
   "cell_type": "code",
   "execution_count": 6,
   "id": "86588b71-0591-4de6-94dd-e24bbe043c17",
   "metadata": {},
   "outputs": [],
   "source": [
    "raw_rec = read_spikegadgets(path_recording)\n",
    "fs = raw_rec.get_sampling_frequency()"
   ]
  },
  {
   "cell_type": "code",
   "execution_count": 7,
   "id": "1989b40e-aa74-41de-b960-883e5ce7ab68",
   "metadata": {},
   "outputs": [
    {
     "data": {
      "text/plain": [
       "'Recording duration in minutes: 154.06692055555555, sampling rate: 30000.0 Hz'"
      ]
     },
     "execution_count": 7,
     "metadata": {},
     "output_type": "execute_result"
    }
   ],
   "source": [
    "f\"Recording duration in minutes: {raw_rec.get_total_duration()/60}, sampling rate: {fs} Hz\""
   ]
  },
  {
   "cell_type": "code",
   "execution_count": 8,
   "id": "b4188b7a-4144-400b-bfdc-5c365ae3a0fe",
   "metadata": {},
   "outputs": [
    {
     "data": {
      "text/plain": [
       "'Probes present: [Probe - 384ch - 1shanks, Probe - 384ch - 1shanks]'"
      ]
     },
     "execution_count": 8,
     "metadata": {},
     "output_type": "execute_result"
    }
   ],
   "source": [
    "f\"Probes present: {raw_rec.get_probes()}\""
   ]
  },
  {
   "cell_type": "markdown",
   "id": "7ac8d0b2-a0c8-4a05-9f00-cf62f1c69b6f",
   "metadata": {},
   "source": [
    "## Pre-processing"
   ]
  },
  {
   "cell_type": "markdown",
   "id": "5037e545-1ff7-437d-ac70-c37980286521",
   "metadata": {},
   "source": [
    "### Highpass filter"
   ]
  },
  {
   "cell_type": "code",
   "execution_count": 190,
   "id": "9cec6b49-45a4-4a07-9ecf-2ac995392d83",
   "metadata": {},
   "outputs": [],
   "source": [
    "rec_filt = si.highpass_filter(raw_rec, freq_min=300.)"
   ]
  },
  {
   "cell_type": "markdown",
   "id": "b8e70259-3eb7-408a-8e3f-61c780ad2ef5",
   "metadata": {},
   "source": [
    "### Detect bad channels"
   ]
  },
  {
   "cell_type": "code",
   "execution_count": 191,
   "id": "2e27cb1a-53c8-4ee3-857b-0e27d138b652",
   "metadata": {},
   "outputs": [
    {
     "name": "stderr",
     "output_type": "stream",
     "text": [
      "/alzheimer/Roberto/Software/mambaforge/envs/spikesorting/lib/python3.9/site-packages/spikeinterface/preprocessing/detect_bad_channels.py:333: RuntimeWarning: invalid value encountered in divide\n",
      "  xcorr = np.sum(raw * ref[:, np.newaxis], axis=0) / np.sum(ref**2)\n"
     ]
    }
   ],
   "source": [
    "# detect noisy, dead, and out-of-brain channels\n",
    "bad_channel_ids, channel_labels = detect_bad_channels(high_passed_rec, dead_channel_threshold=-1)"
   ]
  },
  {
   "cell_type": "code",
   "execution_count": null,
   "id": "5d2bbd7c-850e-4a5f-8ce5-6d1752f63fd5",
   "metadata": {},
   "outputs": [],
   "source": [
    "count = np.unique(channel_labels, return_counts=True)\n",
    "if (count[0].shape[0] == 1) & (count[0][0]==\"good\"):\n",
    "     print(\"no bad channels\")\n",
    "else:\n",
    "    for n in range(count[0].shape[0]):\n",
    "        print(f\"{count[1][n]} {count[0][n]} channels\")\n",
    "    rec_filt = rec_filt.remove_channels(bad_channel_ids)\n",
    "    print(\"bad channels removed\")"
   ]
  },
  {
   "cell_type": "markdown",
   "id": "e3636056-289b-4c6b-b218-aaa5151d958b",
   "metadata": {},
   "source": [
    "### Inspect probes"
   ]
  },
  {
   "cell_type": "code",
   "execution_count": 295,
   "id": "ff4acfb3-822a-4c9e-9ede-7ff822218ddc",
   "metadata": {},
   "outputs": [],
   "source": [
    "y_lim_widget = pn.widgets.EditableRangeSlider(\n",
    "    name='y_lim', start=0, end=raw_rec.get_channel_locations().max(), value=(raw_rec.get_channel_locations().max()-800, raw_rec.get_channel_locations().max()-200),\n",
    "    step=10)\n",
    "\n",
    "channels_colors = [channel_label_color_dict[label] for label in channel_labels]\n",
    "\n",
    "@pn.depends(y_lim_widget)\n",
    "def inspect_probes_channels_labels(ylim):\n",
    "    fig, axs = plt.subplots(1,3, figsize=(10, 6))\n",
    "\n",
    "    si.plot_probe_map(raw_rec, color_channels=channels_colors, ax=axs[0], with_channel_ids=False)\n",
    "      \n",
    "    si.plot_probe_map(raw_rec, color_channels=channels_colors, ax=axs[1], with_channel_ids=False)\n",
    "    \n",
    "    patches = [mpatches.Patch(color=color, label=label) for label, color in channel_label_color_dict.items()]\n",
    "    \n",
    "    axs[2].legend(handles=patches, loc='upper left', frameon=False );\n",
    "    axs[2].axis(\"off\");\n",
    "    #axs[0].\n",
    "    \n",
    "    axs[1].set_ylim(ylim[0], ylim[1] )\n",
    "    \n",
    "    # Draw a rectangle on axs[0] with these ylims\n",
    "    # Assuming arbitrary x values, here 0 to 10 for illustration\n",
    "    rect = mpatches.Rectangle((-100, ylim[0]), 600, ylim[1] - ylim[0], linewidth=1, edgecolor='r', facecolor='none')\n",
    "    \n",
    "    axs[0].add_patch(rect)\n",
    "    plt.close()\n",
    "    return pn.pane.Matplotlib(fig)"
   ]
  },
  {
   "cell_type": "code",
   "execution_count": 296,
   "id": "76b6ce2d-879b-4a39-b373-72cbb6ab13ce",
   "metadata": {},
   "outputs": [
    {
     "data": {},
     "metadata": {},
     "output_type": "display_data"
    },
    {
     "data": {
      "application/vnd.holoviews_exec.v0+json": "",
      "text/html": [
       "<div id='d474be23-6ea7-4970-a79b-f9da2d1eb095'>\n",
       "  <div id=\"c45e89d9-ecff-4cda-9d41-bd1766591581\" data-root-id=\"d474be23-6ea7-4970-a79b-f9da2d1eb095\" style=\"display: contents;\"></div>\n",
       "</div>\n",
       "<script type=\"application/javascript\">(function(root) {\n",
       "  var docs_json = {\"79f46087-59be-4480-9bb7-3099f4d5798f\":{\"version\":\"3.4.1\",\"title\":\"Bokeh Application\",\"roots\":[{\"type\":\"object\",\"name\":\"panel.models.layout.Column\",\"id\":\"d474be23-6ea7-4970-a79b-f9da2d1eb095\",\"attributes\":{\"name\":\"Column02960\",\"stylesheets\":[\"\\n:host(.pn-loading):before, .pn-loading:before {\\n  background-color: #c3c3c3;\\n  mask-size: auto calc(min(50%, 400px));\\n  -webkit-mask-size: auto calc(min(50%, 400px));\\n}\",{\"type\":\"object\",\"name\":\"ImportedStyleSheet\",\"id\":\"da1bef20-fa25-4a5f-95fd-851ec57120b0\",\"attributes\":{\"url\":\"https://cdn.holoviz.org/panel/1.4.1/dist/css/loading.css\"}},{\"type\":\"object\",\"name\":\"ImportedStyleSheet\",\"id\":\"e3a753f9-ac14-4724-8e87-aa45f790ba5b\",\"attributes\":{\"url\":\"https://cdn.holoviz.org/panel/1.4.1/dist/css/listpanel.css\"}},{\"type\":\"object\",\"name\":\"ImportedStyleSheet\",\"id\":\"3249656e-a19c-47e8-b0ed-83677211e3f0\",\"attributes\":{\"url\":\"https://cdn.holoviz.org/panel/1.4.1/dist/bundled/bootstrap5/css/bootstrap.min.css\"}},{\"type\":\"object\",\"name\":\"ImportedStyleSheet\",\"id\":\"ee059883-067f-4778-88a7-647833ea7662\",\"attributes\":{\"url\":\"https://cdn.holoviz.org/panel/1.4.1/dist/bundled/theme/default.css\"}},{\"type\":\"object\",\"name\":\"ImportedStyleSheet\",\"id\":\"62d20011-73a6-4180-930d-3fb41f816f87\",\"attributes\":{\"url\":\"https://cdn.holoviz.org/panel/1.4.1/dist/bundled/theme/bootstrap_default.css\"}},{\"type\":\"object\",\"name\":\"ImportedStyleSheet\",\"id\":\"1bf1d934-76d6-4fc1-ba75-d2b27456522f\",\"attributes\":{\"url\":\"https://cdn.holoviz.org/panel/1.4.1/dist/bundled/theme/bootstrap.css\"}}],\"margin\":0,\"align\":\"start\",\"children\":[{\"type\":\"object\",\"name\":\"panel.models.layout.Column\",\"id\":\"221fd9a0-8111-40dd-b5d0-c2dc78a936ee\",\"attributes\":{\"name\":\"Column02944\",\"stylesheets\":[\"\\n:host(.pn-loading):before, .pn-loading:before {\\n  background-color: #c3c3c3;\\n  mask-size: auto calc(min(50%, 400px));\\n  -webkit-mask-size: auto calc(min(50%, 400px));\\n}\",{\"id\":\"da1bef20-fa25-4a5f-95fd-851ec57120b0\"},{\"id\":\"e3a753f9-ac14-4724-8e87-aa45f790ba5b\"},{\"id\":\"3249656e-a19c-47e8-b0ed-83677211e3f0\"},{\"id\":\"ee059883-067f-4778-88a7-647833ea7662\"},{\"id\":\"62d20011-73a6-4180-930d-3fb41f816f87\"},{\"id\":\"1bf1d934-76d6-4fc1-ba75-d2b27456522f\"}],\"width\":300,\"min_width\":300,\"margin\":[5,10],\"align\":\"start\",\"children\":[{\"type\":\"object\",\"name\":\"Row\",\"id\":\"7909e7a6-ab6b-442b-a2a8-45bc6548b490\",\"attributes\":{\"name\":\"Row02950\",\"stylesheets\":[\"\\n:host(.pn-loading):before, .pn-loading:before {\\n  background-color: #c3c3c3;\\n  mask-size: auto calc(min(50%, 400px));\\n  -webkit-mask-size: auto calc(min(50%, 400px));\\n}\",{\"id\":\"da1bef20-fa25-4a5f-95fd-851ec57120b0\"},{\"id\":\"e3a753f9-ac14-4724-8e87-aa45f790ba5b\"},{\"id\":\"3249656e-a19c-47e8-b0ed-83677211e3f0\"},{\"id\":\"ee059883-067f-4778-88a7-647833ea7662\"},{\"id\":\"62d20011-73a6-4180-930d-3fb41f816f87\"},{\"id\":\"1bf1d934-76d6-4fc1-ba75-d2b27456522f\"}],\"min_width\":150,\"margin\":0,\"sizing_mode\":\"stretch_width\",\"align\":\"start\",\"children\":[{\"type\":\"object\",\"name\":\"Div\",\"id\":\"44f03b67-71ef-4187-ac57-42e7a513b7e6\",\"attributes\":{\"stylesheets\":[\"\\n:host(.pn-loading):before, .pn-loading:before {\\n  background-color: #c3c3c3;\\n  mask-size: auto calc(min(50%, 400px));\\n  -webkit-mask-size: auto calc(min(50%, 400px));\\n}\",{\"id\":\"da1bef20-fa25-4a5f-95fd-851ec57120b0\"},{\"id\":\"3249656e-a19c-47e8-b0ed-83677211e3f0\"},{\"id\":\"ee059883-067f-4778-88a7-647833ea7662\"},{\"id\":\"62d20011-73a6-4180-930d-3fb41f816f87\"},{\"id\":\"1bf1d934-76d6-4fc1-ba75-d2b27456522f\"}],\"margin\":[0,10,0,0],\"align\":\"end\",\"text\":\"y_lim:\"}},{\"type\":\"object\",\"name\":\"Spinner\",\"id\":\"cd9ea64a-328d-4d23-80bd-ca1d7ae26629\",\"attributes\":{\"js_property_callbacks\":{\"type\":\"map\",\"entries\":[[\"change:value\",[{\"type\":\"object\",\"name\":\"CustomJS\",\"id\":\"7666ff6b-f493-47a4-8cf8-7cd149326744\",\"attributes\":{\"tags\":[[140012687082016,[null,\"value\"],[null,null]]],\"args\":{\"type\":\"map\",\"entries\":[[\"source\",{\"id\":\"cd9ea64a-328d-4d23-80bd-ca1d7ae26629\"}],[\"slider\",{\"type\":\"object\",\"name\":\"RangeSlider\",\"id\":\"b9390d35-5cc2-42b2-bf51-5502a7318872\",\"attributes\":{\"stylesheets\":[\"\\n:host(.pn-loading):before, .pn-loading:before {\\n  background-color: #c3c3c3;\\n  mask-size: auto calc(min(50%, 400px));\\n  -webkit-mask-size: auto calc(min(50%, 400px));\\n}\",{\"id\":\"da1bef20-fa25-4a5f-95fd-851ec57120b0\"},{\"id\":\"3249656e-a19c-47e8-b0ed-83677211e3f0\"},{\"id\":\"ee059883-067f-4778-88a7-647833ea7662\"},{\"id\":\"62d20011-73a6-4180-930d-3fb41f816f87\"},{\"id\":\"1bf1d934-76d6-4fc1-ba75-d2b27456522f\"}],\"margin\":[0,0,5,0],\"align\":\"start\",\"show_value\":false,\"format\":\"0.0[0000]\",\"value\":[3120.0,3720.0],\"start\":0,\"end\":3920.0,\"step\":10}}],[\"end\",{\"type\":\"object\",\"name\":\"Spinner\",\"id\":\"4d73e458-8f73-4320-bff3-2c3c681991fe\",\"attributes\":{\"js_property_callbacks\":{\"type\":\"map\",\"entries\":[[\"change:value\",[{\"type\":\"object\",\"name\":\"CustomJS\",\"id\":\"6a5df5ac-73e4-42e4-8092-cfbbd0693808\",\"attributes\":{\"tags\":[[140012687082832,[null,\"value\"],[null,null]]],\"args\":{\"type\":\"map\",\"entries\":[[\"source\",{\"id\":\"4d73e458-8f73-4320-bff3-2c3c681991fe\"}],[\"slider\",{\"id\":\"b9390d35-5cc2-42b2-bf51-5502a7318872\"}],[\"start\",{\"id\":\"cd9ea64a-328d-4d23-80bd-ca1d7ae26629\"}]]},\"code\":\"try { \\n        // end value always larger than the start value\\n        if (cb_obj.value <= start.value) {\\n          cb_obj.value = start.value\\n          return\\n        }\\n        if (cb_obj.value < slider.start) {\\n          slider.start = cb_obj.value\\n        } else if (cb_obj.value > slider.end) {\\n          slider.end = cb_obj.value\\n        }\\n         } catch(err) { console.log(err) }\"}}]]]},\"css_classes\":[\"slider-edit\"],\"stylesheets\":[\"\\n:host(.pn-loading):before, .pn-loading:before {\\n  background-color: #c3c3c3;\\n  mask-size: auto calc(min(50%, 400px));\\n  -webkit-mask-size: auto calc(min(50%, 400px));\\n}\",{\"id\":\"da1bef20-fa25-4a5f-95fd-851ec57120b0\"},{\"id\":\"3249656e-a19c-47e8-b0ed-83677211e3f0\"},{\"id\":\"ee059883-067f-4778-88a7-647833ea7662\"},{\"id\":\"62d20011-73a6-4180-930d-3fb41f816f87\"},{\"id\":\"1bf1d934-76d6-4fc1-ba75-d2b27456522f\"},{\"type\":\"object\",\"name\":\"ImportedStyleSheet\",\"id\":\"4d98d215-aaca-4fe5-969b-86c9920dd741\",\"attributes\":{\"url\":\"https://cdn.holoviz.org/panel/1.4.1/dist/css/editable_slider.css\"}}],\"width\":75,\"min_width\":75,\"margin\":[0,0,0,10],\"align\":\"start\",\"value\":3720.0,\"format\":\"0.0[0000]\",\"step\":10}}]]},\"code\":\"try { \\n        // start value always smaller than the end value\\n        if (cb_obj.value >= end.value) {\\n          cb_obj.value = end.value\\n          return\\n        }\\n        if (cb_obj.value < slider.start) {\\n          slider.start = cb_obj.value\\n        } else if (cb_obj.value > slider.end) {\\n          slider.end = cb_obj.value\\n        }\\n         } catch(err) { console.log(err) }\"}}]]]},\"css_classes\":[\"slider-edit\"],\"stylesheets\":[\"\\n:host(.pn-loading):before, .pn-loading:before {\\n  background-color: #c3c3c3;\\n  mask-size: auto calc(min(50%, 400px));\\n  -webkit-mask-size: auto calc(min(50%, 400px));\\n}\",{\"id\":\"da1bef20-fa25-4a5f-95fd-851ec57120b0\"},{\"id\":\"3249656e-a19c-47e8-b0ed-83677211e3f0\"},{\"id\":\"ee059883-067f-4778-88a7-647833ea7662\"},{\"id\":\"62d20011-73a6-4180-930d-3fb41f816f87\"},{\"id\":\"1bf1d934-76d6-4fc1-ba75-d2b27456522f\"},{\"id\":\"4d98d215-aaca-4fe5-969b-86c9920dd741\"}],\"width\":75,\"min_width\":75,\"margin\":0,\"align\":\"start\",\"value\":3120.0,\"format\":\"0.0[0000]\",\"step\":10}},{\"type\":\"object\",\"name\":\"Div\",\"id\":\"4177b02f-9636-49ee-9010-ac866afb090e\",\"attributes\":{\"stylesheets\":[\"\\n:host(.pn-loading):before, .pn-loading:before {\\n  background-color: #c3c3c3;\\n  mask-size: auto calc(min(50%, 400px));\\n  -webkit-mask-size: auto calc(min(50%, 400px));\\n}\",{\"id\":\"da1bef20-fa25-4a5f-95fd-851ec57120b0\"},{\"id\":\"3249656e-a19c-47e8-b0ed-83677211e3f0\"},{\"id\":\"ee059883-067f-4778-88a7-647833ea7662\"},{\"id\":\"62d20011-73a6-4180-930d-3fb41f816f87\"},{\"id\":\"1bf1d934-76d6-4fc1-ba75-d2b27456522f\"}],\"margin\":[0,5,0,5],\"align\":\"end\",\"text\":\"...\"}},{\"id\":\"4d73e458-8f73-4320-bff3-2c3c681991fe\"}]}},{\"id\":\"b9390d35-5cc2-42b2-bf51-5502a7318872\"}]}},{\"type\":\"object\",\"name\":\"panel.models.layout.Column\",\"id\":\"5c9b8790-0426-4ece-a38e-c0ab24c7ad09\",\"attributes\":{\"name\":\"Column02957\",\"stylesheets\":[\"\\n:host(.pn-loading):before, .pn-loading:before {\\n  background-color: #c3c3c3;\\n  mask-size: auto calc(min(50%, 400px));\\n  -webkit-mask-size: auto calc(min(50%, 400px));\\n}\",{\"id\":\"da1bef20-fa25-4a5f-95fd-851ec57120b0\"},{\"id\":\"e3a753f9-ac14-4724-8e87-aa45f790ba5b\"},{\"id\":\"3249656e-a19c-47e8-b0ed-83677211e3f0\"},{\"id\":\"ee059883-067f-4778-88a7-647833ea7662\"},{\"id\":\"62d20011-73a6-4180-930d-3fb41f816f87\"},{\"id\":\"1bf1d934-76d6-4fc1-ba75-d2b27456522f\"}],\"margin\":0,\"align\":\"start\",\"children\":[{\"type\":\"object\",\"name\":\"panel.models.markup.HTML\",\"id\":\"d4fc5ac9-2b1a-4d4d-934c-9da1860219a8\",\"attributes\":{\"stylesheets\":[\"\\n:host(.pn-loading):before, .pn-loading:before {\\n  background-color: #c3c3c3;\\n  mask-size: auto calc(min(50%, 400px));\\n  -webkit-mask-size: auto calc(min(50%, 400px));\\n}\",{\"id\":\"da1bef20-fa25-4a5f-95fd-851ec57120b0\"},{\"id\":\"3249656e-a19c-47e8-b0ed-83677211e3f0\"},{\"id\":\"ee059883-067f-4778-88a7-647833ea7662\"},{\"id\":\"62d20011-73a6-4180-930d-3fb41f816f87\"},{\"id\":\"1bf1d934-76d6-4fc1-ba75-d2b27456522f\"}],\"width\":1440,\"height\":864,\"min_width\":1440,\"min_height\":864,\"margin\":[5,10],\"align\":\"start\",\"text\":\"&lt;img src=&quot;data:image/png;base64,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&quot;  style=&quot;max-width: 100%; max-height: 100%; object-fit: contain; width: 1440px; height: 864px;&quot;&gt;&lt;/img&gt;\"}}]}}]}},{\"type\":\"object\",\"name\":\"panel.models.comm_manager.CommManager\",\"id\":\"f77e1320-89c3-4549-bd1f-7b513099d89d\",\"attributes\":{\"plot_id\":\"d474be23-6ea7-4970-a79b-f9da2d1eb095\",\"comm_id\":\"df0914ec4251417b9976a77ee3f77108\",\"client_comm_id\":\"7f888a55906340e787bf5f8c2695013f\"}}],\"defs\":[{\"type\":\"model\",\"name\":\"ReactiveHTML1\"},{\"type\":\"model\",\"name\":\"FlexBox1\",\"properties\":[{\"name\":\"align_content\",\"kind\":\"Any\",\"default\":\"flex-start\"},{\"name\":\"align_items\",\"kind\":\"Any\",\"default\":\"flex-start\"},{\"name\":\"flex_direction\",\"kind\":\"Any\",\"default\":\"row\"},{\"name\":\"flex_wrap\",\"kind\":\"Any\",\"default\":\"wrap\"},{\"name\":\"gap\",\"kind\":\"Any\",\"default\":\"\"},{\"name\":\"justify_content\",\"kind\":\"Any\",\"default\":\"flex-start\"}]},{\"type\":\"model\",\"name\":\"FloatPanel1\",\"properties\":[{\"name\":\"config\",\"kind\":\"Any\",\"default\":{\"type\":\"map\"}},{\"name\":\"contained\",\"kind\":\"Any\",\"default\":true},{\"name\":\"position\",\"kind\":\"Any\",\"default\":\"right-top\"},{\"name\":\"offsetx\",\"kind\":\"Any\",\"default\":null},{\"name\":\"offsety\",\"kind\":\"Any\",\"default\":null},{\"name\":\"theme\",\"kind\":\"Any\",\"default\":\"primary\"},{\"name\":\"status\",\"kind\":\"Any\",\"default\":\"normalized\"}]},{\"type\":\"model\",\"name\":\"GridStack1\",\"properties\":[{\"name\":\"mode\",\"kind\":\"Any\",\"default\":\"warn\"},{\"name\":\"ncols\",\"kind\":\"Any\",\"default\":null},{\"name\":\"nrows\",\"kind\":\"Any\",\"default\":null},{\"name\":\"allow_resize\",\"kind\":\"Any\",\"default\":true},{\"name\":\"allow_drag\",\"kind\":\"Any\",\"default\":true},{\"name\":\"state\",\"kind\":\"Any\",\"default\":[]}]},{\"type\":\"model\",\"name\":\"drag1\",\"properties\":[{\"name\":\"slider_width\",\"kind\":\"Any\",\"default\":5},{\"name\":\"slider_color\",\"kind\":\"Any\",\"default\":\"black\"},{\"name\":\"value\",\"kind\":\"Any\",\"default\":50}]},{\"type\":\"model\",\"name\":\"click1\",\"properties\":[{\"name\":\"terminal_output\",\"kind\":\"Any\",\"default\":\"\"},{\"name\":\"debug_name\",\"kind\":\"Any\",\"default\":\"\"},{\"name\":\"clears\",\"kind\":\"Any\",\"default\":0}]},{\"type\":\"model\",\"name\":\"FastWrapper1\",\"properties\":[{\"name\":\"object\",\"kind\":\"Any\",\"default\":null},{\"name\":\"style\",\"kind\":\"Any\",\"default\":null}]},{\"type\":\"model\",\"name\":\"NotificationAreaBase1\",\"properties\":[{\"name\":\"js_events\",\"kind\":\"Any\",\"default\":{\"type\":\"map\"}},{\"name\":\"position\",\"kind\":\"Any\",\"default\":\"bottom-right\"},{\"name\":\"_clear\",\"kind\":\"Any\",\"default\":0}]},{\"type\":\"model\",\"name\":\"NotificationArea1\",\"properties\":[{\"name\":\"js_events\",\"kind\":\"Any\",\"default\":{\"type\":\"map\"}},{\"name\":\"notifications\",\"kind\":\"Any\",\"default\":[]},{\"name\":\"position\",\"kind\":\"Any\",\"default\":\"bottom-right\"},{\"name\":\"_clear\",\"kind\":\"Any\",\"default\":0},{\"name\":\"types\",\"kind\":\"Any\",\"default\":[{\"type\":\"map\",\"entries\":[[\"type\",\"warning\"],[\"background\",\"#ffc107\"],[\"icon\",{\"type\":\"map\",\"entries\":[[\"className\",\"fas fa-exclamation-triangle\"],[\"tagName\",\"i\"],[\"color\",\"white\"]]}]]},{\"type\":\"map\",\"entries\":[[\"type\",\"info\"],[\"background\",\"#007bff\"],[\"icon\",{\"type\":\"map\",\"entries\":[[\"className\",\"fas fa-info-circle\"],[\"tagName\",\"i\"],[\"color\",\"white\"]]}]]}]}]},{\"type\":\"model\",\"name\":\"Notification\",\"properties\":[{\"name\":\"background\",\"kind\":\"Any\",\"default\":null},{\"name\":\"duration\",\"kind\":\"Any\",\"default\":3000},{\"name\":\"icon\",\"kind\":\"Any\",\"default\":null},{\"name\":\"message\",\"kind\":\"Any\",\"default\":\"\"},{\"name\":\"notification_type\",\"kind\":\"Any\",\"default\":null},{\"name\":\"_destroyed\",\"kind\":\"Any\",\"default\":false}]},{\"type\":\"model\",\"name\":\"TemplateActions1\",\"properties\":[{\"name\":\"open_modal\",\"kind\":\"Any\",\"default\":0},{\"name\":\"close_modal\",\"kind\":\"Any\",\"default\":0}]},{\"type\":\"model\",\"name\":\"BootstrapTemplateActions1\",\"properties\":[{\"name\":\"open_modal\",\"kind\":\"Any\",\"default\":0},{\"name\":\"close_modal\",\"kind\":\"Any\",\"default\":0}]},{\"type\":\"model\",\"name\":\"TemplateEditor1\",\"properties\":[{\"name\":\"layout\",\"kind\":\"Any\",\"default\":[]}]},{\"type\":\"model\",\"name\":\"MaterialTemplateActions1\",\"properties\":[{\"name\":\"open_modal\",\"kind\":\"Any\",\"default\":0},{\"name\":\"close_modal\",\"kind\":\"Any\",\"default\":0}]},{\"type\":\"model\",\"name\":\"copy_to_clipboard1\",\"properties\":[{\"name\":\"fill\",\"kind\":\"Any\",\"default\":\"none\"},{\"name\":\"value\",\"kind\":\"Any\",\"default\":null}]}]}};\n",
       "  var render_items = [{\"docid\":\"79f46087-59be-4480-9bb7-3099f4d5798f\",\"roots\":{\"d474be23-6ea7-4970-a79b-f9da2d1eb095\":\"c45e89d9-ecff-4cda-9d41-bd1766591581\"},\"root_ids\":[\"d474be23-6ea7-4970-a79b-f9da2d1eb095\"]}];\n",
       "  var docs = Object.values(docs_json)\n",
       "  if (!docs) {\n",
       "    return\n",
       "  }\n",
       "  const py_version = docs[0].version.replace('rc', '-rc.').replace('.dev', '-dev.')\n",
       "  function embed_document(root) {\n",
       "    var Bokeh = get_bokeh(root)\n",
       "    Bokeh.embed.embed_items_notebook(docs_json, render_items);\n",
       "    for (const render_item of render_items) {\n",
       "      for (const root_id of render_item.root_ids) {\n",
       "\tconst id_el = document.getElementById(root_id)\n",
       "\tif (id_el.children.length && (id_el.children[0].className === 'bk-root')) {\n",
       "\t  const root_el = id_el.children[0]\n",
       "\t  root_el.id = root_el.id + '-rendered'\n",
       "\t}\n",
       "      }\n",
       "    }\n",
       "  }\n",
       "  function get_bokeh(root) {\n",
       "    if (root.Bokeh === undefined) {\n",
       "      return null\n",
       "    } else if (root.Bokeh.version !== py_version) {\n",
       "      if (root.Bokeh.versions === undefined || !root.Bokeh.versions.has(py_version)) {\n",
       "\treturn null\n",
       "      }\n",
       "      return root.Bokeh.versions.get(py_version);\n",
       "    } else if (root.Bokeh.version === py_version) {\n",
       "      return root.Bokeh\n",
       "    }\n",
       "    return null\n",
       "  }\n",
       "  function is_loaded(root) {\n",
       "    var Bokeh = get_bokeh(root)\n",
       "    return (Bokeh != null && Bokeh.Panel !== undefined)\n",
       "  }\n",
       "  if (is_loaded(root)) {\n",
       "    embed_document(root);\n",
       "  } else {\n",
       "    var attempts = 0;\n",
       "    var timer = setInterval(function(root) {\n",
       "      if (is_loaded(root)) {\n",
       "        clearInterval(timer);\n",
       "        embed_document(root);\n",
       "      } else if (document.readyState == \"complete\") {\n",
       "        attempts++;\n",
       "        if (attempts > 200) {\n",
       "          clearInterval(timer);\n",
       "\t  var Bokeh = get_bokeh(root)\n",
       "\t  if (Bokeh == null || Bokeh.Panel == null) {\n",
       "            console.warn(\"Panel: ERROR: Unable to run Panel code because Bokeh or Panel library is missing\");\n",
       "\t  } else {\n",
       "\t    console.warn(\"Panel: WARNING: Attempting to render but not all required libraries could be resolved.\")\n",
       "\t    embed_document(root)\n",
       "\t  }\n",
       "        }\n",
       "      }\n",
       "    }, 25, root)\n",
       "  }\n",
       "})(window);</script>"
      ],
      "text/plain": [
       "Column(design=<class 'panel.theme.bootst...)\n",
       "    [0] EditableRangeSlider(design=<class 'panel.theme.bootst..., end=3920.0, name='y_lim', step=10, value=(3120.0, 3720.0), width=300)\n",
       "    [1] ParamFunction(function, _pane=Matplotlib, defer_load=False, design=<class 'panel.theme.bootst...)"
      ]
     },
     "execution_count": 296,
     "metadata": {
      "application/vnd.holoviews_exec.v0+json": {
       "id": "d474be23-6ea7-4970-a79b-f9da2d1eb095"
      }
     },
     "output_type": "execute_result"
    }
   ],
   "source": [
    "pn.Column(y_lim_widget, inspect_probes_channels_labels)"
   ]
  },
  {
   "cell_type": "markdown",
   "id": "e9e44dbc-60e4-4f63-b78e-5b485fcc63c3",
   "metadata": {},
   "source": [
    "## Sorting"
   ]
  },
  {
   "cell_type": "code",
   "execution_count": 102,
   "id": "2064f01d-d162-4d35-9fc2-5bfb3d372b29",
   "metadata": {},
   "outputs": [
    {
     "name": "stdout",
     "output_type": "stream",
     "text": [
      "GPU available: n = 1\n",
      "========================================\n",
      "Loading recording with SpikeInterface...\n",
      "number of samples: 31760248\n",
      "number of channels: 384\n",
      "numbef of segments: 1\n",
      "sampling rate: 30000.0\n",
      "dtype: int16\n",
      "========================================\n",
      "Preprocessing filters computed in  7.38s; total  7.38s\n",
      "\n",
      "computing drift\n",
      "Re-computing universal templates from data.\n"
     ]
    },
    {
     "name": "stderr",
     "output_type": "stream",
     "text": [
      "100%|█████████████████████████████████████████████████████████████████████████████████████████████████████████████████████████████████████████████████████████████████████████████████████████████| 530/530 [08:36<00:00,  1.03it/s]\n"
     ]
    },
    {
     "name": "stdout",
     "output_type": "stream",
     "text": [
      "drift computed in  527.25s; total  534.63s\n",
      "\n",
      "Extracting spikes using templates\n",
      "Re-computing universal templates from data.\n"
     ]
    },
    {
     "name": "stderr",
     "output_type": "stream",
     "text": [
      "100%|█████████████████████████████████████████████████████████████████████████████████████████████████████████████████████████████████████████████████████████████████████████████████████████████| 530/530 [08:34<00:00,  1.03it/s]\n"
     ]
    },
    {
     "name": "stdout",
     "output_type": "stream",
     "text": [
      "2660633 spikes extracted in  523.71s; total  1058.35s\n",
      "\n",
      "First clustering\n"
     ]
    },
    {
     "name": "stderr",
     "output_type": "stream",
     "text": [
      "100%|███████████████████████████████████████████████████████████████████████████████████████████████████████████████████████████████████████████████████████████████████████████████████████████████| 96/96 [08:53<00:00,  5.56s/it]\n"
     ]
    },
    {
     "name": "stdout",
     "output_type": "stream",
     "text": [
      "315 clusters found, in  534.55s; total  1592.90s\n",
      "\n",
      "Extracting spikes using cluster waveforms\n"
     ]
    },
    {
     "name": "stderr",
     "output_type": "stream",
     "text": [
      "100%|█████████████████████████████████████████████████████████████████████████████████████████████████████████████████████████████████████████████████████████████████████████████████████████████| 530/530 [04:26<00:00,  1.99it/s]\n"
     ]
    },
    {
     "name": "stdout",
     "output_type": "stream",
     "text": [
      "3295389 spikes extracted in  267.40s; total  1860.30s\n",
      "\n",
      "Final clustering\n"
     ]
    },
    {
     "name": "stderr",
     "output_type": "stream",
     "text": [
      "100%|███████████████████████████████████████████████████████████████████████████████████████████████████████████████████████████████████████████████████████████████████████████████████████████████| 96/96 [07:54<00:00,  4.94s/it]\n"
     ]
    },
    {
     "name": "stdout",
     "output_type": "stream",
     "text": [
      "277 clusters found, in  474.07s; total  2334.36s\n",
      "\n",
      "Merging clusters\n",
      "274 units found, in  2.39s; total  2336.76s\n",
      "\n",
      "Saving to phy and computing refractory periods\n",
      "50 units found with good refractory periods\n",
      "\n",
      "Total runtime: 2368.57s = 00:39:29 h:m:s\n",
      "kilosort4 run time 2373.54s\n",
      "========================================\n",
      "Loading recording with SpikeInterface...\n",
      "number of samples: 31760248\n",
      "number of channels: 384\n",
      "numbef of segments: 1\n",
      "sampling rate: 30000.0\n",
      "dtype: int16\n",
      "========================================\n",
      "Preprocessing filters computed in  7.40s; total  7.40s\n",
      "\n",
      "computing drift\n",
      "Re-computing universal templates from data.\n"
     ]
    },
    {
     "name": "stderr",
     "output_type": "stream",
     "text": [
      "100%|█████████████████████████████████████████████████████████████████████████████████████████████████████████████████████████████████████████████████████████████████████████████████████████████| 530/530 [08:33<00:00,  1.03it/s]\n"
     ]
    },
    {
     "name": "stdout",
     "output_type": "stream",
     "text": [
      "drift computed in  525.22s; total  532.61s\n",
      "\n",
      "Extracting spikes using templates\n",
      "Re-computing universal templates from data.\n"
     ]
    },
    {
     "name": "stderr",
     "output_type": "stream",
     "text": [
      "100%|█████████████████████████████████████████████████████████████████████████████████████████████████████████████████████████████████████████████████████████████████████████████████████████████| 530/530 [08:31<00:00,  1.04it/s]\n"
     ]
    },
    {
     "name": "stdout",
     "output_type": "stream",
     "text": [
      "2663568 spikes extracted in  520.47s; total  1053.08s\n",
      "\n",
      "First clustering\n"
     ]
    },
    {
     "name": "stderr",
     "output_type": "stream",
     "text": [
      "100%|███████████████████████████████████████████████████████████████████████████████████████████████████████████████████████████████████████████████████████████████████████████████████████████████| 96/96 [09:10<00:00,  5.73s/it]\n"
     ]
    },
    {
     "name": "stdout",
     "output_type": "stream",
     "text": [
      "280 clusters found, in  550.92s; total  1604.01s\n",
      "\n",
      "Extracting spikes using cluster waveforms\n"
     ]
    },
    {
     "name": "stderr",
     "output_type": "stream",
     "text": [
      "100%|█████████████████████████████████████████████████████████████████████████████████████████████████████████████████████████████████████████████████████████████████████████████████████████████| 530/530 [04:16<00:00,  2.07it/s]\n"
     ]
    },
    {
     "name": "stdout",
     "output_type": "stream",
     "text": [
      "2707623 spikes extracted in  256.53s; total  1860.53s\n",
      "\n",
      "Final clustering\n"
     ]
    },
    {
     "name": "stderr",
     "output_type": "stream",
     "text": [
      "100%|███████████████████████████████████████████████████████████████████████████████████████████████████████████████████████████████████████████████████████████████████████████████████████████████| 96/96 [05:32<00:00,  3.46s/it]\n"
     ]
    },
    {
     "name": "stdout",
     "output_type": "stream",
     "text": [
      "269 clusters found, in  332.19s; total  2192.72s\n",
      "\n",
      "Merging clusters\n",
      "265 units found, in  1.66s; total  2194.38s\n",
      "\n",
      "Saving to phy and computing refractory periods\n",
      "41 units found with good refractory periods\n",
      "\n",
      "Total runtime: 2223.44s = 00:37:3 h:m:s\n",
      "kilosort4 run time 2226.19s\n",
      "CPU times: user 17h 14min 18s, sys: 30min 51s, total: 17h 45min 10s\n",
      "Wall time: 1h 16min 45s\n"
     ]
    }
   ],
   "source": [
    "%%time\n",
    "\n",
    "check_gpu_availability()\n",
    "\n",
    "split_preprocessed_recording = raw_rec.split_by(\"group\")\n",
    "for group, sub_rec in split_preprocessed_recording.items():\n",
    "    sorting = si.run_sorter(\n",
    "        sorter_name=\"kilosort4\",\n",
    "        recording=sub_rec,\n",
    "        output_folder=f\"{path_recording_folder}/spike_interface_output/probe{group}\",\n",
    "        verbose=True,\n",
    "        remove_existing_folder=True\n",
    "        )"
   ]
  },
  {
   "cell_type": "markdown",
   "id": "50701cbf-91a9-4dbc-b561-11e618956a51",
   "metadata": {},
   "source": [
    "## Post-processing"
   ]
  },
  {
   "cell_type": "code",
   "execution_count": 315,
   "id": "b0ba539d-bbfa-463f-942e-e2866cce51a4",
   "metadata": {},
   "outputs": [],
   "source": [
    "times = sorting.get_times()"
   ]
  },
  {
   "cell_type": "code",
   "execution_count": 316,
   "id": "40435e23-9771-4145-a851-29343389dbb9",
   "metadata": {},
   "outputs": [
    {
     "data": {
      "text/plain": [
       "array([1.43600000e-01, 1.91000000e-01, 2.46000000e-01, ...,\n",
       "       9.45401367e+02, 9.45416233e+02, 9.45479733e+02])"
      ]
     },
     "execution_count": 316,
     "metadata": {},
     "output_type": "execute_result"
    }
   ],
   "source": [
    "times[sorting.get_unit_spike_train(unit_id=0)]"
   ]
  },
  {
   "cell_type": "code",
   "execution_count": 271,
   "id": "a662dc19-8c9a-4ab6-a1bb-2d5c0fc92621",
   "metadata": {},
   "outputs": [],
   "source": [
    "sorting = si.read_sorter_folder(f\"{path_recording_folder}/spike_interface_output/probe{group}\")"
   ]
  },
  {
   "cell_type": "code",
   "execution_count": 273,
   "id": "740fea32-60d3-44d1-a45f-ba52488211b4",
   "metadata": {},
   "outputs": [
    {
     "data": {
      "application/vnd.jupyter.widget-view+json": {
       "model_id": "b10466f8d4c44d8aa387559acba1e920",
       "version_major": 2,
       "version_minor": 0
      },
      "text/plain": [
       "estimate_sparsity:   0%|          | 0/1059 [00:00<?, ?it/s]"
      ]
     },
     "metadata": {},
     "output_type": "display_data"
    }
   ],
   "source": [
    "analyzer = si.create_sorting_analyzer(sorting, recording, sparse=True, format=\"memory\")"
   ]
  },
  {
   "cell_type": "code",
   "execution_count": 291,
   "id": "f10700ff-2c4a-49c6-969b-d4bae5e014a1",
   "metadata": {},
   "outputs": [],
   "source": [
    "job_kwargs = dict(chunk_duration='10s', progress_bar=True, n_jobs=20)"
   ]
  },
  {
   "cell_type": "code",
   "execution_count": 293,
   "id": "d21ba668-92f7-455f-bc61-70da889e1180",
   "metadata": {},
   "outputs": [
    {
     "data": {
      "application/vnd.jupyter.widget-view+json": {
       "model_id": "67f5f65e8b94414f9c92d7438890f992",
       "version_major": 2,
       "version_minor": 0
      },
      "text/plain": [
       "compute_waveforms:   0%|          | 0/106 [00:00<?, ?it/s]"
      ]
     },
     "metadata": {},
     "output_type": "display_data"
    },
    {
     "data": {
      "text/plain": [
       "<spikeinterface.core.analyzer_extension_core.ComputeWaveforms at 0x7f573eda2ca0>"
      ]
     },
     "execution_count": 293,
     "metadata": {},
     "output_type": "execute_result"
    }
   ],
   "source": [
    "%%time\n",
    "analyzer.compute(\"random_spikes\", method=\"uniform\", max_spikes_per_unit=500)\n",
    "analyzer.compute(\"waveforms\",  ms_before=1.5,ms_after=2., **job_kwargs)"
   ]
  },
  {
   "cell_type": "code",
   "execution_count": 299,
   "id": "89ab7e64-6321-461d-87f8-090e4fa05e73",
   "metadata": {},
   "outputs": [
    {
     "name": "stdout",
     "output_type": "stream",
     "text": [
      "CPU times: user 17.5 s, sys: 1.89 s, total: 19.4 s\n",
      "Wall time: 19.4 s\n"
     ]
    },
    {
     "data": {
      "text/plain": [
       "<spikeinterface.core.analyzer_extension_core.ComputeNoiseLevels at 0x7f573e066700>"
      ]
     },
     "execution_count": 299,
     "metadata": {},
     "output_type": "execute_result"
    }
   ],
   "source": [
    "%%time\n",
    "analyzer.compute(\"templates\", operators=[\"average\", \"median\", \"std\"])\n",
    "analyzer.compute(\"noise_levels\")"
   ]
  },
  {
   "cell_type": "code",
   "execution_count": 300,
   "id": "2b689187-2f40-42e6-b17b-6e3117075f03",
   "metadata": {},
   "outputs": [
    {
     "name": "stderr",
     "output_type": "stream",
     "text": [
      "/alzheimer/Roberto/Software/mambaforge/envs/spikesorting/lib/python3.9/site-packages/spikeinterface/qualitymetrics/misc_metrics.py:880: UserWarning: Some units have too few spikes : amplitude_cutoff is set to NaN\n",
      "  warnings.warn(f\"Some units have too few spikes : amplitude_cutoff is set to NaN\")\n"
     ]
    },
    {
     "data": {
      "text/html": [
       "<div>\n",
       "<style scoped>\n",
       "    .dataframe tbody tr th:only-of-type {\n",
       "        vertical-align: middle;\n",
       "    }\n",
       "\n",
       "    .dataframe tbody tr th {\n",
       "        vertical-align: top;\n",
       "    }\n",
       "\n",
       "    .dataframe thead th {\n",
       "        text-align: right;\n",
       "    }\n",
       "</style>\n",
       "<table border=\"1\" class=\"dataframe\">\n",
       "  <thead>\n",
       "    <tr style=\"text-align: right;\">\n",
       "      <th></th>\n",
       "      <th>amplitude_cutoff</th>\n",
       "      <th>firing_rate</th>\n",
       "      <th>isi_violations_ratio</th>\n",
       "      <th>isi_violations_count</th>\n",
       "      <th>presence_ratio</th>\n",
       "      <th>snr</th>\n",
       "    </tr>\n",
       "  </thead>\n",
       "  <tbody>\n",
       "    <tr>\n",
       "      <th>0</th>\n",
       "      <td>0.003159</td>\n",
       "      <td>8.357617</td>\n",
       "      <td>0.108184</td>\n",
       "      <td>24.0</td>\n",
       "      <td>0.941176</td>\n",
       "      <td>1.378960</td>\n",
       "    </tr>\n",
       "    <tr>\n",
       "      <th>1</th>\n",
       "      <td>0.001450</td>\n",
       "      <td>13.576405</td>\n",
       "      <td>0.169115</td>\n",
       "      <td>99.0</td>\n",
       "      <td>0.941176</td>\n",
       "      <td>1.610459</td>\n",
       "    </tr>\n",
       "    <tr>\n",
       "      <th>2</th>\n",
       "      <td>0.009316</td>\n",
       "      <td>5.407703</td>\n",
       "      <td>0.344541</td>\n",
       "      <td>32.0</td>\n",
       "      <td>0.941176</td>\n",
       "      <td>1.318156</td>\n",
       "    </tr>\n",
       "    <tr>\n",
       "      <th>3</th>\n",
       "      <td>0.010244</td>\n",
       "      <td>14.413301</td>\n",
       "      <td>0.247045</td>\n",
       "      <td>163.0</td>\n",
       "      <td>0.941176</td>\n",
       "      <td>3.397470</td>\n",
       "    </tr>\n",
       "    <tr>\n",
       "      <th>4</th>\n",
       "      <td>0.000518</td>\n",
       "      <td>21.547691</td>\n",
       "      <td>0.888354</td>\n",
       "      <td>1310.0</td>\n",
       "      <td>0.941176</td>\n",
       "      <td>2.220658</td>\n",
       "    </tr>\n",
       "    <tr>\n",
       "      <th>...</th>\n",
       "      <td>...</td>\n",
       "      <td>...</td>\n",
       "      <td>...</td>\n",
       "      <td>...</td>\n",
       "      <td>...</td>\n",
       "      <td>...</td>\n",
       "    </tr>\n",
       "    <tr>\n",
       "      <th>269</th>\n",
       "      <td>NaN</td>\n",
       "      <td>0.062342</td>\n",
       "      <td>0.000000</td>\n",
       "      <td>0.0</td>\n",
       "      <td>0.647059</td>\n",
       "      <td>10.361514</td>\n",
       "    </tr>\n",
       "    <tr>\n",
       "      <th>270</th>\n",
       "      <td>0.003171</td>\n",
       "      <td>11.898837</td>\n",
       "      <td>0.582651</td>\n",
       "      <td>262.0</td>\n",
       "      <td>0.941176</td>\n",
       "      <td>4.977450</td>\n",
       "    </tr>\n",
       "    <tr>\n",
       "      <th>271</th>\n",
       "      <td>0.006390</td>\n",
       "      <td>20.979055</td>\n",
       "      <td>0.393466</td>\n",
       "      <td>550.0</td>\n",
       "      <td>0.941176</td>\n",
       "      <td>7.330107</td>\n",
       "    </tr>\n",
       "    <tr>\n",
       "      <th>272</th>\n",
       "      <td>0.001046</td>\n",
       "      <td>9.330532</td>\n",
       "      <td>0.549727</td>\n",
       "      <td>152.0</td>\n",
       "      <td>0.941176</td>\n",
       "      <td>4.409061</td>\n",
       "    </tr>\n",
       "    <tr>\n",
       "      <th>273</th>\n",
       "      <td>0.008321</td>\n",
       "      <td>7.202400</td>\n",
       "      <td>1.080393</td>\n",
       "      <td>178.0</td>\n",
       "      <td>0.705882</td>\n",
       "      <td>2.838994</td>\n",
       "    </tr>\n",
       "  </tbody>\n",
       "</table>\n",
       "<p>274 rows × 6 columns</p>\n",
       "</div>"
      ],
      "text/plain": [
       "     amplitude_cutoff  firing_rate  isi_violations_ratio  \\\n",
       "0            0.003159     8.357617              0.108184   \n",
       "1            0.001450    13.576405              0.169115   \n",
       "2            0.009316     5.407703              0.344541   \n",
       "3            0.010244    14.413301              0.247045   \n",
       "4            0.000518    21.547691              0.888354   \n",
       "..                ...          ...                   ...   \n",
       "269               NaN     0.062342              0.000000   \n",
       "270          0.003171    11.898837              0.582651   \n",
       "271          0.006390    20.979055              0.393466   \n",
       "272          0.001046     9.330532              0.549727   \n",
       "273          0.008321     7.202400              1.080393   \n",
       "\n",
       "     isi_violations_count  presence_ratio        snr  \n",
       "0                    24.0        0.941176   1.378960  \n",
       "1                    99.0        0.941176   1.610459  \n",
       "2                    32.0        0.941176   1.318156  \n",
       "3                   163.0        0.941176   3.397470  \n",
       "4                  1310.0        0.941176   2.220658  \n",
       "..                    ...             ...        ...  \n",
       "269                   0.0        0.647059  10.361514  \n",
       "270                 262.0        0.941176   4.977450  \n",
       "271                 550.0        0.941176   7.330107  \n",
       "272                 152.0        0.941176   4.409061  \n",
       "273                 178.0        0.705882   2.838994  \n",
       "\n",
       "[274 rows x 6 columns]"
      ]
     },
     "execution_count": 300,
     "metadata": {},
     "output_type": "execute_result"
    }
   ],
   "source": [
    "metric_names=['firing_rate', 'presence_ratio', 'snr', 'isi_violation', 'amplitude_cutoff']\n",
    "\n",
    "metrics = si.compute_quality_metrics(analyzer, metric_names=metric_names)\n",
    "\n",
    "metrics"
   ]
  },
  {
   "cell_type": "code",
   "execution_count": null,
   "id": "5a8ad492-3671-4394-91c5-13453f014b9c",
   "metadata": {},
   "outputs": [],
   "source": [
    "%%time\n",
    "from tqdm.notebook import tqdm\n",
    "spike_times = {}\n",
    "for unit_id in tqdm(sorting.unit_ids):\n",
    "    spike_times[unit_id] = times[sorting.get_unit_spike_train(unit_id=0)]"
   ]
  },
  {
   "cell_type": "code",
   "execution_count": null,
   "id": "4973d5d0-ec3a-44f2-998e-d352e7689700",
   "metadata": {},
   "outputs": [],
   "source": []
  },
  {
   "cell_type": "code",
   "execution_count": 809,
   "id": "3170a937-f266-4711-890f-985f92e9ece8",
   "metadata": {},
   "outputs": [
    {
     "name": "stdout",
     "output_type": "stream",
     "text": [
      "No gaps detected.\n"
     ]
    }
   ],
   "source": [
    "gaps = check_timestamp_gaps(raw_rec)"
   ]
  },
  {
   "cell_type": "code",
   "execution_count": 123,
   "id": "e318276a-fa3b-4b5d-9c2a-285dc03d571a",
   "metadata": {},
   "outputs": [],
   "source": []
  },
  {
   "cell_type": "markdown",
   "id": "aa6099d6-a8b5-4b49-9be5-7b1911ce2729",
   "metadata": {},
   "source": [
    "## Alignment between Bpod and Trodes"
   ]
  },
  {
   "cell_type": "markdown",
   "id": "0baa1688-a3ac-4095-bfd2-6a6042fcaf0e",
   "metadata": {},
   "source": [
    "### Export Analog IO channels"
   ]
  },
  {
   "cell_type": "code",
   "execution_count": 22,
   "id": "74ca6465-ab54-43f1-a1e1-61d510146bbe",
   "metadata": {},
   "outputs": [
    {
     "name": "stdout",
     "output_type": "stream",
     "text": [
      "'.analog' folder alread available: 20231212_183552.analog\n",
      "CPU times: user 1.63 ms, sys: 133 µs, total: 1.76 ms\n",
      "Wall time: 1.78 ms\n"
     ]
    }
   ],
   "source": [
    "%%time\n",
    "extract_analogIO(path_recording_folder, path_recording)# 55 min too slow\n"
   ]
  },
  {
   "cell_type": "markdown",
   "id": "44682015-b2c5-468a-a72e-be9eb7cd8959",
   "metadata": {},
   "source": [
    "### Export timestamps"
   ]
  },
  {
   "cell_type": "code",
   "execution_count": 36,
   "id": "e92a966b-e589-4081-8de4-81d3554a2398",
   "metadata": {},
   "outputs": [
    {
     "name": "stdout",
     "output_type": "stream",
     "text": [
      "CPU times: user 4 µs, sys: 1 µs, total: 5 µs\n",
      "Wall time: 13.8 µs\n"
     ]
    }
   ],
   "source": [
    "%%time\n",
    "#extract_time(path_recording_folder, path_recording) # slower than analogIO somehow!!"
   ]
  },
  {
   "cell_type": "markdown",
   "id": "70c91983-db6b-43c9-a074-b54b9b695826",
   "metadata": {},
   "source": [
    "### Export Digital IO channels"
   ]
  },
  {
   "cell_type": "code",
   "execution_count": 37,
   "id": "0994dadd-76e4-40e8-a64b-a5c99ed359d5",
   "metadata": {},
   "outputs": [
    {
     "name": "stdout",
     "output_type": "stream",
     "text": [
      "'.DIO' folder alread available: 20231212_183552.DIO\n",
      "CPU times: user 1.27 ms, sys: 132 µs, total: 1.41 ms\n",
      "Wall time: 7.21 ms\n"
     ]
    }
   ],
   "source": [
    "%%time\n",
    "#check if already available, if not extract\n",
    "extract_DIO(path_recording_folder, path_recording) # TODO what is timestampoffset?"
   ]
  },
  {
   "cell_type": "code",
   "execution_count": 38,
   "id": "2e8fa88e-8818-4ff7-b822-c87812704aa6",
   "metadata": {},
   "outputs": [
    {
     "name": "stdout",
     "output_type": "stream",
     "text": [
      "20231212_183552.dio_Controller_Din1.dat contains data\n",
      "1 DIO files with data\n"
     ]
    }
   ],
   "source": [
    "path_DIO_folder = Path(path_recording_folder,  f\"{rec_file_name[:rec_file_name.rfind('.')]}.DIO\")\n",
    "\n",
    "DIO_dict = select_DIO_channel(path_DIO_folder)"
   ]
  },
  {
   "cell_type": "code",
   "execution_count": 39,
   "id": "c93e67ff-1181-4fec-a2d4-974659959ea3",
   "metadata": {},
   "outputs": [],
   "source": [
    "# Each data point is (timestamp, state) -> break into separate arrays\n",
    "DIO_data = DIO_dict['data'].copy()\n",
    "DIO_states = np.array([tup[1] for tup in DIO_data])\n",
    "DIO_samples = np.array([tup[0] for tup in DIO_data])\n",
    "DIO_timestamps = np.array([tup[0] for tup in DIO_data])/float(DIO_dict['clockrate'])\n",
    "assert DIO_states.shape == DIO_timestamps.shape\n",
    "\n",
    "DIO_timestamps_1 = DIO_timestamps[DIO_states.astype(bool)].copy()\n",
    "DIO_samples_1_zeroed = (DIO_samples[DIO_states.astype(bool)]-DIO_samples[DIO_states.astype(bool)][0]).astype(\"int32\").copy()\n",
    "DIO_samples_1 = DIO_samples[DIO_states.astype(bool)].copy()\n",
    "DIO_timestamps_1_zeroed = (DIO_timestamps[DIO_states.astype(bool)]-DIO_timestamps[DIO_states.astype(bool)][0]).copy()"
   ]
  },
  {
   "cell_type": "markdown",
   "id": "0b9ee183-f6fa-41b7-ae9f-9acf44aaac98",
   "metadata": {},
   "source": [
    "## load bpod mat file behavior"
   ]
  },
  {
   "cell_type": "code",
   "execution_count": 40,
   "id": "ea6cb794-4503-42e3-b8e4-b64b74e71d5b",
   "metadata": {},
   "outputs": [
    {
     "name": "stdout",
     "output_type": "stream",
     "text": [
      ".mat file found: /alzheimer/Roberto/Dariya/12/bpod_session/20231212_181618/12_AuditoryTuning_20231212_181618.mat\n",
      ".mat file found: /alzheimer/Roberto/Dariya/12/bpod_session/20231212_185101/12_DetectionConfidence_20231212_185101.mat\n"
     ]
    }
   ],
   "source": [
    "bpod_file = find_mat_files_with_same_day(path_recording_folder.parent.parent / \"bpod_session\" , day)"
   ]
  },
  {
   "cell_type": "code",
   "execution_count": 41,
   "id": "e3bfaa47-8660-4bac-897f-7a43075ecd41",
   "metadata": {},
   "outputs": [
    {
     "name": "stdout",
     "output_type": "stream",
     "text": [
      "/alzheimer/Roberto/Dariya/12/bpod_session/20231212_181618/12_AuditoryTuning_20231212_181618.mat\n",
      "Bpod session started at 18:36:24, duration: 12.826175000000001 min, ended at: 18:49:13\n",
      "/alzheimer/Roberto/Dariya/12/bpod_session/20231212_185101/12_DetectionConfidence_20231212_185101.mat\n",
      "Bpod session started at 18:51:30, duration: 137.31311333333332 min, ended at: 21:08:48\n"
     ]
    }
   ],
   "source": [
    "trials =  stitch_bpod_times(bpod_file, day, DIO_timestamps_1_zeroed)"
   ]
  },
  {
   "cell_type": "code",
   "execution_count": 42,
   "id": "934892d3-659c-4392-8e4d-2c3fa28124ae",
   "metadata": {},
   "outputs": [],
   "source": [
    "start_times_bpod = trials[\"bpod_start_time\"]"
   ]
  },
  {
   "cell_type": "code",
   "execution_count": 43,
   "id": "73fc9472-7cfd-4029-ba27-4699b39a1f2f",
   "metadata": {},
   "outputs": [],
   "source": [
    "start_samples_bpod = (trials[\"bpod_start_time\"]*fs).values\n",
    "start_samples_bpod_zeroed = (start_times_bpod -start_times_bpod[0]).astype(\"int32\")\n",
    "start_times_bpod_zeroed = start_times_bpod -start_times_bpod[0]"
   ]
  },
  {
   "cell_type": "code",
   "execution_count": 44,
   "id": "339f7319-3fcf-4609-b00a-e5235604598f",
   "metadata": {},
   "outputs": [
    {
     "name": "stdout",
     "output_type": "stream",
     "text": [
      "The most distant pulse in array1 is at index 1399 with time 9121.225866666666\n",
      "This pulse has a minimum distance of 12.271066665649414 to the closest pulse in array2\n"
     ]
    },
    {
     "data": {
      "image/png": "[encoded data removed]",
      "text/plain": [
       "<Figure size 640x480 with 1 Axes>"
      ]
     },
     "metadata": {},
     "output_type": "display_data"
    }
   ],
   "source": [
    "min_distances = find_min_distance_TTL(DIO_timestamps_1_zeroed, start_times_bpod_zeroed)"
   ]
  },
  {
   "cell_type": "code",
   "execution_count": 45,
   "id": "049a6dd5-098b-4c1b-baff-694ff8d55022",
   "metadata": {},
   "outputs": [
    {
     "name": "stdout",
     "output_type": "stream",
     "text": [
      "unequal numbers of trials between bpod and DIO\n",
      "One extra TTL pulse received on DIO at the end of the session\n",
      "extra TTL pulse removed\n"
     ]
    }
   ],
   "source": [
    "if len(trials)!=len(DIO_timestamps[DIO_states.astype(bool)]):\n",
    "    print(\"unequal numbers of trials between bpod and DIO\")\n",
    "    if np.argmax(min_distances) == len(start_samples_bpod_zeroed):\n",
    "        print(\"One extra TTL pulse received on DIO at the end of the session\")\n",
    "        DIO_samples_1_zeroed = DIO_samples_1_zeroed[:-1]\n",
    "        DIO_samples_1 = DIO_samples_1[:-1]\n",
    "        DIO_timestamps_1 = DIO_timestamps_1[:-1]\n",
    "        DIO_timestamps_1_zeroed = DIO_timestamps_1_zeroed[:-1]\n",
    "        print(\"extra TTL pulse removed\")"
   ]
  },
  {
   "cell_type": "code",
   "execution_count": 46,
   "id": "5f684279-97a1-4ead-b8dc-625bd2bf263a",
   "metadata": {},
   "outputs": [
    {
     "name": "stdout",
     "output_type": "stream",
     "text": [
      "The most distant pulse in array1 is at index 1398 with time 9109.022966666666\n",
      "This pulse has a minimum distance of 0.06816666573286057 to the closest pulse in array2\n"
     ]
    },
    {
     "data": {
      "image/png": "[encoded data removed]",
      "text/plain": [
       "<Figure size 640x480 with 1 Axes>"
      ]
     },
     "metadata": {},
     "output_type": "display_data"
    }
   ],
   "source": [
    "min_distances = find_min_distance_TTL(DIO_timestamps_1_zeroed, start_times_bpod_zeroed)"
   ]
  },
  {
   "cell_type": "code",
   "execution_count": 47,
   "id": "2d90641d-7b9e-45fc-8428-205e8416c2a1",
   "metadata": {},
   "outputs": [
    {
     "data": {
      "text/plain": [
       "[<matplotlib.lines.Line2D at 0x7f1e5aec97c0>]"
      ]
     },
     "execution_count": 47,
     "metadata": {},
     "output_type": "execute_result"
    },
    {
     "data": {
      "image/png": "[encoded data removed]",
      "text/plain": [
       "<Figure size 640x480 with 1 Axes>"
      ]
     },
     "metadata": {},
     "output_type": "display_data"
    }
   ],
   "source": [
    "plt.plot(DIO_timestamps_1_zeroed, start_times_bpod_zeroed)"
   ]
  },
  {
   "cell_type": "code",
   "execution_count": 48,
   "id": "eedb351d-bf98-460a-96d3-b1c1a459b8fe",
   "metadata": {},
   "outputs": [
    {
     "data": {
      "text/html": [
       "<div>\n",
       "<style scoped>\n",
       "    .dataframe tbody tr th:only-of-type {\n",
       "        vertical-align: middle;\n",
       "    }\n",
       "\n",
       "    .dataframe tbody tr th {\n",
       "        vertical-align: top;\n",
       "    }\n",
       "\n",
       "    .dataframe thead th {\n",
       "        text-align: right;\n",
       "    }\n",
       "</style>\n",
       "<table border=\"1\" class=\"dataframe\">\n",
       "  <thead>\n",
       "    <tr style=\"text-align: right;\">\n",
       "      <th></th>\n",
       "      <th>bpod_start_time</th>\n",
       "      <th>bpod_stop_time</th>\n",
       "      <th>stimulus_block</th>\n",
       "      <th>stimulus_name</th>\n",
       "      <th>DIO_start_sample</th>\n",
       "      <th>DIO_start_time</th>\n",
       "    </tr>\n",
       "  </thead>\n",
       "  <tbody>\n",
       "    <tr>\n",
       "      <th>0</th>\n",
       "      <td>1.1802</td>\n",
       "      <td>2.3802</td>\n",
       "      <td>0</td>\n",
       "      <td>BpodProtocols_AuditoryTuning.git</td>\n",
       "      <td>1591690</td>\n",
       "      <td>53.056333</td>\n",
       "    </tr>\n",
       "    <tr>\n",
       "      <th>1</th>\n",
       "      <td>2.4890</td>\n",
       "      <td>3.6890</td>\n",
       "      <td>0</td>\n",
       "      <td>BpodProtocols_AuditoryTuning.git</td>\n",
       "      <td>1630955</td>\n",
       "      <td>54.365167</td>\n",
       "    </tr>\n",
       "    <tr>\n",
       "      <th>2</th>\n",
       "      <td>3.7490</td>\n",
       "      <td>4.9490</td>\n",
       "      <td>0</td>\n",
       "      <td>BpodProtocols_AuditoryTuning.git</td>\n",
       "      <td>1668755</td>\n",
       "      <td>55.625167</td>\n",
       "    </tr>\n",
       "    <tr>\n",
       "      <th>3</th>\n",
       "      <td>5.0100</td>\n",
       "      <td>6.2100</td>\n",
       "      <td>0</td>\n",
       "      <td>BpodProtocols_AuditoryTuning.git</td>\n",
       "      <td>1706585</td>\n",
       "      <td>56.886167</td>\n",
       "    </tr>\n",
       "    <tr>\n",
       "      <th>4</th>\n",
       "      <td>6.2691</td>\n",
       "      <td>7.4691</td>\n",
       "      <td>0</td>\n",
       "      <td>BpodProtocols_AuditoryTuning.git</td>\n",
       "      <td>1744358</td>\n",
       "      <td>58.145267</td>\n",
       "    </tr>\n",
       "    <tr>\n",
       "      <th>...</th>\n",
       "      <td>...</td>\n",
       "      <td>...</td>\n",
       "      <td>...</td>\n",
       "      <td>...</td>\n",
       "      <td>...</td>\n",
       "      <td>...</td>\n",
       "    </tr>\n",
       "    <tr>\n",
       "      <th>1394</th>\n",
       "      <td>9061.3978</td>\n",
       "      <td>9062.5978</td>\n",
       "      <td>1</td>\n",
       "      <td>BpodProtocols_DetectionConfidence.git</td>\n",
       "      <td>273400252</td>\n",
       "      <td>9113.341733</td>\n",
       "    </tr>\n",
       "    <tr>\n",
       "      <th>1395</th>\n",
       "      <td>9073.5830</td>\n",
       "      <td>9074.7830</td>\n",
       "      <td>1</td>\n",
       "      <td>BpodProtocols_DetectionConfidence.git</td>\n",
       "      <td>273765811</td>\n",
       "      <td>9125.527033</td>\n",
       "    </tr>\n",
       "    <tr>\n",
       "      <th>1396</th>\n",
       "      <td>9085.7843</td>\n",
       "      <td>9086.9843</td>\n",
       "      <td>1</td>\n",
       "      <td>BpodProtocols_DetectionConfidence.git</td>\n",
       "      <td>274131853</td>\n",
       "      <td>9137.728433</td>\n",
       "    </tr>\n",
       "    <tr>\n",
       "      <th>1397</th>\n",
       "      <td>9097.9691</td>\n",
       "      <td>9099.1691</td>\n",
       "      <td>1</td>\n",
       "      <td>BpodProtocols_DetectionConfidence.git</td>\n",
       "      <td>274497400</td>\n",
       "      <td>9149.913333</td>\n",
       "    </tr>\n",
       "    <tr>\n",
       "      <th>1398</th>\n",
       "      <td>9110.1350</td>\n",
       "      <td>9111.3350</td>\n",
       "      <td>1</td>\n",
       "      <td>BpodProtocols_DetectionConfidence.git</td>\n",
       "      <td>274862379</td>\n",
       "      <td>9162.079300</td>\n",
       "    </tr>\n",
       "  </tbody>\n",
       "</table>\n",
       "<p>1399 rows × 6 columns</p>\n",
       "</div>"
      ],
      "text/plain": [
       "      bpod_start_time  bpod_stop_time  stimulus_block  \\\n",
       "0              1.1802          2.3802               0   \n",
       "1              2.4890          3.6890               0   \n",
       "2              3.7490          4.9490               0   \n",
       "3              5.0100          6.2100               0   \n",
       "4              6.2691          7.4691               0   \n",
       "...               ...             ...             ...   \n",
       "1394        9061.3978       9062.5978               1   \n",
       "1395        9073.5830       9074.7830               1   \n",
       "1396        9085.7843       9086.9843               1   \n",
       "1397        9097.9691       9099.1691               1   \n",
       "1398        9110.1350       9111.3350               1   \n",
       "\n",
       "                              stimulus_name  DIO_start_sample  DIO_start_time  \n",
       "0          BpodProtocols_AuditoryTuning.git           1591690       53.056333  \n",
       "1          BpodProtocols_AuditoryTuning.git           1630955       54.365167  \n",
       "2          BpodProtocols_AuditoryTuning.git           1668755       55.625167  \n",
       "3          BpodProtocols_AuditoryTuning.git           1706585       56.886167  \n",
       "4          BpodProtocols_AuditoryTuning.git           1744358       58.145267  \n",
       "...                                     ...               ...             ...  \n",
       "1394  BpodProtocols_DetectionConfidence.git         273400252     9113.341733  \n",
       "1395  BpodProtocols_DetectionConfidence.git         273765811     9125.527033  \n",
       "1396  BpodProtocols_DetectionConfidence.git         274131853     9137.728433  \n",
       "1397  BpodProtocols_DetectionConfidence.git         274497400     9149.913333  \n",
       "1398  BpodProtocols_DetectionConfidence.git         274862379     9162.079300  \n",
       "\n",
       "[1399 rows x 6 columns]"
      ]
     },
     "execution_count": 48,
     "metadata": {},
     "output_type": "execute_result"
    }
   ],
   "source": [
    "trials[\"DIO_start_sample\"] = DIO_samples_1\n",
    "trials[\"DIO_start_time\"] = DIO_timestamps_1\n",
    "trials"
   ]
  },
  {
   "cell_type": "markdown",
   "id": "e7e156a2-4a35-4e36-b288-0fdd6fac0cfa",
   "metadata": {},
   "source": [
    "## Load Trodes timestamps"
   ]
  },
  {
   "cell_type": "code",
   "execution_count": 873,
   "id": "3cc23407-518f-4955-a8f4-4a99077f4d50",
   "metadata": {},
   "outputs": [],
   "source": [
    "path_analogIO_folder = Path(path_recording_folder,  f\"{rec_file_name[:rec_file_name.rfind('.')]}.analog\")"
   ]
  },
  {
   "cell_type": "code",
   "execution_count": 882,
   "id": "b2a3e731-8777-425f-837a-09dbb6c83255",
   "metadata": {},
   "outputs": [],
   "source": [
    "analog_dict = readTrodesExtractedDataFile(Path(path_analogIO_folder, f\"{rec_file_name[:rec_file_name.rfind('.')]}.timestamps.dat\"))"
   ]
  },
  {
   "cell_type": "code",
   "execution_count": 883,
   "id": "2f50eb3c-93f5-4036-8cbf-9ea146e2accb",
   "metadata": {},
   "outputs": [
    {
     "data": {
      "text/plain": [
       "(277320457,)"
      ]
     },
     "execution_count": 883,
     "metadata": {},
     "output_type": "execute_result"
    }
   ],
   "source": [
    "analog_dict[\"data\"].shape"
   ]
  },
  {
   "cell_type": "code",
   "execution_count": 884,
   "id": "9bb7ae17-5c09-4d81-a3d9-8e2023526e54",
   "metadata": {},
   "outputs": [
    {
     "data": {
      "text/plain": [
       "277320457"
      ]
     },
     "execution_count": 884,
     "metadata": {},
     "output_type": "execute_result"
    }
   ],
   "source": [
    "raw_rec.get_total_samples()"
   ]
  },
  {
   "cell_type": "code",
   "execution_count": 329,
   "id": "2e36b2bf-6e6a-4e9d-9343-78242b03d76a",
   "metadata": {
    "jupyter": {
     "source_hidden": true
    }
   },
   "outputs": [],
   "source": []
  }
 ],
 "metadata": {
  "kernelspec": {
   "display_name": "Python 3 (ipykernel)",
   "language": "python",
   "name": "python3"
  },
  "language_info": {
   "codemirror_mode": {
    "name": "ipython",
    "version": 3
   },
   "file_extension": ".py",
   "mimetype": "text/x-python",
   "name": "python",
   "nbconvert_exporter": "python",
   "pygments_lexer": "ipython3",
   "version": "3.9.19"
  }
 },
 "nbformat": 4,
 "nbformat_minor": 5
}
